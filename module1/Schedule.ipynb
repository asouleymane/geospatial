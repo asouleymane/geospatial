{
 "cells": [
  {
   "cell_type": "markdown",
   "metadata": {},
   "source": [
    "# Module 1: Introduction to Geospatial Data"
   ]
  },
  {
   "cell_type": "markdown",
   "metadata": {},
   "source": [
    "## Topics covered\n",
    "\n",
    "  * What is geospatial data?\n",
    "  * Map projections\n",
    "  * Reference systems\n",
    "  * Dealing with Geospatial data"
   ]
  },
  {
   "cell_type": "markdown",
   "metadata": {},
   "source": [
    "## Readings\n",
    "\n",
    "* [Overview of GeoSpatial](../resources/GeospatialOverview.ipynb) The purpose of this reading is to give an overveiw of the area of geospatial data. Note this was one labs from Module 7 in the DSA_SCI_8620 course\n",
    "* [Chapter 1. An Overview of Geospatial Analytics](https://www.safaribooksonline.com/library/view/geospatial-data-and/9781491984314/ch01.html) The purpose of this reading is to estabilish a breif introduction of Geospatial data\n",
    "* If you didn't read them in DATA_SCI_8620 or would like a refresher\n",
    "     1. [Open Geospatial Infrastructure](../resources/gisreading.pdf) The purpose of this reading is twofold. First, to get you excited about the potential usefulness of geospatial data science and management on a broad scale.  Second, to get you interested in and possibly excited about how complex such an edeavor can be; and how much what you are learning in this program prepares you to participate. \n",
    "     2. [Geospatial Digital Humanities](../resources/gisdh.pdf) This article shows how geospatial information can be used to contextualize the experience of literature. This article describes a website, which unfortunately is no longer available, that was a digital literary atlas of Ireland. \n",
    "* [Basemap Documentation](http://basemaptutorial.readthedocs.io/en/latest/index.html) This is the documentation for the python library that is used to display basemaps within jupyterhub. "
   ]
  },
  {
   "cell_type": "markdown",
   "metadata": {},
   "source": [
    "## Discussions\n",
    "* [Module 1 Discussion Topic: Geospatial Data Engineer](https://missouri.instructure.com/courses/11580/discussion_topics/228776)\n",
    "* [Mutual Aid via Slack Channel](https://datagoggles.slack.com/messages/G8SHDSAJ0/)"
   ]
  },
  {
   "cell_type": "markdown",
   "metadata": {},
   "source": [
    "## Labs\n",
    "\n",
    "The goal of the labs this module are to get your farmiliar with basic mapping concepts and to apply the concepts using python.\n",
    "\n",
    "  * [Projections](./labs/Projections.ipynb)\n",
    "  * [Reference Systems](./labs/ReferenceSystems.ipynb)\n",
    "  * [Geospatial Data](./labs/Data.ipynb)\n"
   ]
  },
  {
   "cell_type": "markdown",
   "metadata": {},
   "source": [
    "## Practices\n",
    "\n",
    "  * [ZZZZ](./practices/ZZZZ.ipynb)\n"
   ]
  },
  {
   "cell_type": "markdown",
   "metadata": {},
   "source": [
    "## Exercises\n",
    "\n",
    "  * [ZZZZZZZZZZ](./exercises/ZZZZZZZZZZ.ipynb)\n"
   ]
  },
  {
   "cell_type": "markdown",
   "metadata": {},
   "source": [
    "## Submitting your work\n",
    "\n",
    "#### Steps:\n",
    "  1. Open Terminal in JupyterHub\n",
    "  1. Change into the course folder\n",
    "  1. Stage (Git Add) the module's practive and exercise work   \n",
    "  `git  add   module1/practices    module1/exercises`\n",
    "  1. Create your work snapshot (Git Commit)  \n",
    "  `git   commit   -m   \"Module 1 submission\"`\n",
    "  1. Upload the snapshot to the server (Git Push)  \n",
    "  `git   push`\n"
   ]
  },
  {
   "cell_type": "markdown",
   "metadata": {},
   "source": [
    "## Congratulations, you have completed the learning activities for this module!"
   ]
  }
 ],
 "metadata": {
  "kernelspec": {
   "display_name": "Python 3",
   "language": "python",
   "name": "python3"
  },
  "language_info": {
   "codemirror_mode": {
    "name": "ipython",
    "version": 3
   },
   "file_extension": ".py",
   "mimetype": "text/x-python",
   "name": "python",
   "nbconvert_exporter": "python",
   "pygments_lexer": "ipython3",
   "version": "3.4.5"
  }
 },
 "nbformat": 4,
 "nbformat_minor": 2
}
