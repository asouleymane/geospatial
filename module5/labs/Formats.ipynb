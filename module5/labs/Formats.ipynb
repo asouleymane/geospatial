{
 "cells": [
  {
   "cell_type": "markdown",
   "metadata": {},
   "source": [
    "# Raster Data Formats\n",
    "Raster data consists of rows and columns of cells or pixels.\n",
    "The cell values represent the phenomenon portrayed by the raster dataset such as a category, magnitude, height, or spectral (color) value. \n",
    "\n",
    " * The _category_ could be a land-use class such as grassland, forest, or road.\n",
    " * A _magnitude_ might represent gravity, noise pollution, or percent of rainfall. \n",
    " * Height (distance) could represent surface elevation above mean sea level, which can be used to derive slope, aspect, and watershed properties. \n",
    " * Spectral values (or color) represent the visible or non-visible \"light\" reflected from objects.\n",
    " \n",
    "Cell values can be either positive or negative, integer, or floating point.\n",
    "The next lab dives into _data types_ and how they are typically used.\n",
    "\n",
    "Example raster:\n",
    "\n",
    "<table border=1>\n",
    "<tr><td> 1 </td><td> 1 </td><td> 1 </td><td> 2 </td></tr>\n",
    "<tr><td> 1 </td><td> 1 </td><td> 2 </td><td> 2 </td></tr>\n",
    "<tr><td> 1 </td><td> 3 </td><td> 3 </td><td> 2 </td></tr>\n",
    "<tr><td> 4 </td><td> 4 </td><td> 3 </td><td> 2 </td></tr>\n",
    "</table>\n",
    "\n",
    "The easiest way to think of raster data is as images, which is how they are typically represented by software. \n",
    "However, raster datasets are not necessarily stored as images. \n",
    "They can also be ASCII text files or Binary Large Objects (BLOBs) in databases.\n",
    "\n",
    "Raster datasets may contain multiple bands, meaning that different measurements, such as colors (wavelengths of light) can be collected at the same time over the same area. \n",
    "A typicaly example is that rasters may have the colors Red, Green, and Blue.\n",
    "Often, this range is from 3-7 bands but can be several hundred in hyperspectral systems.\n",
    "\n",
    "Like vector data, raster data can come in a variety of formats. \n",
    "The open source raster library called Geospatial Data Abstraction Library (GDAL), \n",
    "which includes the vector OGR library mentioned earlier, \n",
    "lists over 130 supported raster formats (http://www.gdal.org/formats_list.html).\n",
    "\n",
    "**GeoTIFF** (Geospatial Tagged Image File Format) is one of the most commonly used geospatial raster formats. \n",
    "It may have following extensions _.tiff_, _.tif_, or _.gtif_. \n",
    "The data is stored as a single file in this format.\n",
    "In general, these files tend to be very large. \n",
    "Various other formats have been proposed such as Multi-resolution Seamless Image Database (MrSID) and Enhanced Compression Wavelet (ECW) that stores a compressed version of original data (note, compression may degrade the source data).\n",
    "\n",
    "In the rest of this lab, we are going to acquire, open, and visualize some raster geospatial data."
   ]
  },
  {
   "cell_type": "markdown",
   "metadata": {},
   "source": [
    "## Dataset\n",
    "\n",
    "The dataset we would be using in these tutorials is a raster teaching data subset collected over the National Ecological Observatory Network's Harvard Forest. \n",
    "Read more about the dataset at [NEON Airborne data](http://www.neonscience.org/data-collection/airborne-remote-sensing).\n"
   ]
  },
  {
   "cell_type": "markdown",
   "metadata": {},
   "source": [
    "## Library access\n",
    "\n",
    "Most open source libraries and software that interacts with raster data rely on the [GDAL](http://www.gdal.org/) library.\n",
    "\n",
    "### Rasterio\n",
    "[Rasterio](https://mapbox.github.io/rasterio/installation.html) is a library that provides geospatial abstraction over GDAL. \n",
    "\n",
    "The following example provides an overview of how to read and visualize raster data using RasterIO.\n"
   ]
  },
  {
   "cell_type": "markdown",
   "metadata": {},
   "source": [
    "### Accessing NEON remote sensing data\n",
    "\n",
    "First we will download, then unzip the raster image."
   ]
  },
  {
   "cell_type": "code",
   "execution_count": null,
   "metadata": {},
   "outputs": [],
   "source": [
    "import urllib.request\n",
    "import shutil\n",
    "from pathlib import Path\n",
    "from zipfile import ZipFile\n",
    "\n",
    "file_URL = 'https://ndownloader.figshare.com/files/3701578'\n",
    "\n",
    "local_file_name = 'NEONDSAirborneRemoteSensing.zip'\n",
    "\n",
    "file_path = Path('../temp/')\n",
    "file_path /= local_file_name\n",
    "\n",
    "with urllib.request.urlopen(file_URL) as response, file_path.open(mode='w+b') as outfile:\n",
    "    shutil.copyfileobj(response, outfile) \n",
    "    \n",
    "to_unzip = ZipFile('../temp/NEONDSAirborneRemoteSensing.zip', 'r')\n",
    "unzipped = '../temp/NEONDSAirborneRemoteSensing_unzipped'\n",
    "to_unzip.extractall(unzipped)\n",
    "to_unzip.close()"
   ]
  },
  {
   "cell_type": "markdown",
   "metadata": {},
   "source": [
    "If we look inside the directory, we can see that we have a folder and a ZIP file now:\n",
    "\n",
    "```BASH\n",
    "$ ls temp/\n",
    "NEONDSAirborneRemoteSensing_unzipped  NEONDSAirborneRemoteSensing.zip\n",
    "$ ls temp/*\n",
    "temp/NEONDSAirborneRemoteSensing.zip\n",
    "\n",
    "temp/NEONDSAirborneRemoteSensing_unzipped:\n",
    "NEON-DS-Airborne-Remote-Sensing\n",
    "```\n",
    "\n",
    "If we search in the folder of unzipped data, we find a lot of GeoTIFF images:\n",
    "\n",
    "```BASH\n",
    "$ find temp/NEONDSAirborneRemoteSensing_unzipped\n",
    "temp/NEONDSAirborneRemoteSensing_unzipped\n",
    "temp/NEONDSAirborneRemoteSensing_unzipped/NEON-DS-Airborne-Remote-Sensing\n",
    "temp/NEONDSAirborneRemoteSensing_unzipped/NEON-DS-Airborne-Remote-Sensing/HARV\n",
    "temp/NEONDSAirborneRemoteSensing_unzipped/NEON-DS-Airborne-Remote-Sensing/HARV/CHM\n",
    "temp/NEONDSAirborneRemoteSensing_unzipped/NEON-DS-Airborne-Remote-Sensing/HARV/CHM/HARV_chmCrop.tif\n",
    "temp/NEONDSAirborneRemoteSensing_unzipped/NEON-DS-Airborne-Remote-Sensing/HARV/DSM\n",
    "temp/NEONDSAirborneRemoteSensing_unzipped/NEON-DS-Airborne-Remote-Sensing/HARV/DSM/HARV_dsmCrop.tif\n",
    "temp/NEONDSAirborneRemoteSensing_unzipped/NEON-DS-Airborne-Remote-Sensing/HARV/DSM/HARV_DSMhill.tif\n",
    "temp/NEONDSAirborneRemoteSensing_unzipped/NEON-DS-Airborne-Remote-Sensing/HARV/DTM\n",
    "temp/NEONDSAirborneRemoteSensing_unzipped/NEON-DS-Airborne-Remote-Sensing/HARV/DTM/HARV_dtmCrop.tif\n",
    "temp/NEONDSAirborneRemoteSensing_unzipped/NEON-DS-Airborne-Remote-Sensing/HARV/DTM/HARV_DTMhill_WGS84.tif\n",
    "temp/NEONDSAirborneRemoteSensing_unzipped/NEON-DS-Airborne-Remote-Sensing/HARV/RGB_Imagery\n",
    "temp/NEONDSAirborneRemoteSensing_unzipped/NEON-DS-Airborne-Remote-Sensing/HARV/RGB_Imagery/HARV_Ortho_wNA.tif\n",
    "temp/NEONDSAirborneRemoteSensing_unzipped/NEON-DS-Airborne-Remote-Sensing/HARV/RGB_Imagery/HARV_RGB_metadata.txt\n",
    "temp/NEONDSAirborneRemoteSensing_unzipped/NEON-DS-Airborne-Remote-Sensing/HARV/RGB_Imagery/HARV_RGB_Ortho.tif\n",
    "temp/NEONDSAirborneRemoteSensing_unzipped/NEON-DS-Airborne-Remote-Sensing/SJER\n",
    "temp/NEONDSAirborneRemoteSensing_unzipped/NEON-DS-Airborne-Remote-Sensing/SJER/DSM\n",
    "temp/NEONDSAirborneRemoteSensing_unzipped/NEON-DS-Airborne-Remote-Sensing/SJER/DSM/SJER_dsmCrop.tif\n",
    "temp/NEONDSAirborneRemoteSensing_unzipped/NEON-DS-Airborne-Remote-Sensing/SJER/DSM/SJER_dsmCrop.tif.aux.xml\n",
    "temp/NEONDSAirborneRemoteSensing_unzipped/NEON-DS-Airborne-Remote-Sensing/SJER/DSM/SJER_dsmHill.tif\n",
    "temp/NEONDSAirborneRemoteSensing_unzipped/NEON-DS-Airborne-Remote-Sensing/SJER/DSM/SJER_dsmHill.tif.aux.xml\n",
    "temp/NEONDSAirborneRemoteSensing_unzipped/NEON-DS-Airborne-Remote-Sensing/SJER/DSM/SJER_DSMhill_WGS84.tif\n",
    "temp/NEONDSAirborneRemoteSensing_unzipped/NEON-DS-Airborne-Remote-Sensing/SJER/DSM/SJER_DSMhill_WGS84.tif.aux.xml\n",
    "temp/NEONDSAirborneRemoteSensing_unzipped/NEON-DS-Airborne-Remote-Sensing/SJER/DTM\n",
    "temp/NEONDSAirborneRemoteSensing_unzipped/NEON-DS-Airborne-Remote-Sensing/SJER/DTM/SJER_dtmCrop.tif\n",
    "temp/NEONDSAirborneRemoteSensing_unzipped/NEON-DS-Airborne-Remote-Sensing/SJER/DTM/SJER_dtmCrop.tif.aux.xml\n",
    "temp/NEONDSAirborneRemoteSensing_unzipped/NEON-DS-Airborne-Remote-Sensing/SJER/DTM/SJER_dtmHill.tif\n",
    "temp/NEONDSAirborneRemoteSensing_unzipped/NEON-DS-Airborne-Remote-Sensing/SJER/DTM/SJER_dtmHill.tif.aux.xml\n",
    "```\n",
    "\n",
    "---\n",
    "\n",
    "\n",
    "### Reading raster data\n",
    "\n",
    "Rasterio provides python access to raster data. \n",
    "It provides an `open()` function to read the datastream and load the pixels into the memory."
   ]
  },
  {
   "cell_type": "code",
   "execution_count": null,
   "metadata": {
    "scrolled": true
   },
   "outputs": [],
   "source": [
    "RASTER_PATH = '../temp/NEONDSAirborneRemoteSensing_unzipped/NEON-DS-Airborne-Remote-Sensing/HARV/RGB_Imagery/'\n",
    "RASTER_DATA_FILE = RASTER_PATH + 'HARV_RGB_Ortho.tif'\n",
    "import rasterio\n",
    "\n",
    "raster_data = rasterio.open(RASTER_DATA_FILE)\n",
    "print(type(raster_data))"
   ]
  },
  {
   "cell_type": "markdown",
   "metadata": {},
   "source": [
    "### Multi-band raster data"
   ]
  },
  {
   "cell_type": "code",
   "execution_count": null,
   "metadata": {},
   "outputs": [],
   "source": [
    "print(\"Number of bands: {}\".format(raster_data.count))"
   ]
  },
  {
   "cell_type": "markdown",
   "metadata": {},
   "source": [
    "Looks like our raster data has 3 bands.\n",
    "\n",
    "#### So, What exactly is a band?\n",
    "\n",
    "A band is a measure of single characteristic. \n",
    "Some rasters have a single band, or layer, of data; while others have multiple bands. \n",
    "A band is represented by a single matrix of cell values, and a raster with multiple bands contains multiple spatially coincident matrices of cell values representing the same spatial area. \n",
    "\n",
    "An example of a single-band raster dataset is a digital elevation model (DEM). \n",
    "Each cell in a DEM contains only one value representing surface elevation. \n",
    "A satellite image, for example, commonly has multiple bands representing different wavelengths from the ultraviolet through the visible and infrared portions of the electromagnetic spectrum. \n",
    "Landsat imagery, for example, is data collected from seven different bands of the electromagnetic spectrum. \n",
    "Bands 1–7, excluding 6, represent data from the visible, near infrared, and midinfrared regions. \n",
    "Band 6 collects data from the thermal infrared region.\n",
    "\n",
    "In our case, the imagery is a `RGB (Red, Green, Blue)` dataset collected by high-resolution `RGB` camera. \n",
    "Each band represents the reflectance values of one of `RGB` color spectrum.\n",
    "So, the first band is Red, the second Green, the third Blue.\n",
    "\n",
    "One pixel position has three distinct measurements!\n",
    "How much red, green, and blue light is reflected from that position.\n",
    "\n",
    "Example multi-band raster:\n",
    "\n",
    "<table border=1 cellpadding=5>\n",
    "<tr><th>RED</th><th></th><th>GREEN</th><th></th><th>BLUE</th></tr>\n",
    "<tr><td>\n",
    "    <table border=1>\n",
    "        <tr><td> 11 </td><td> 11 </td><td> 11 </td><td> 12 </td></tr>\n",
    "        <tr><td> 11 </td><td> 11 </td><td> 12 </td><td> 12 </td></tr>\n",
    "        <tr><td> 11 </td><td> 13 </td><td> 13 </td><td> 12 </td></tr>\n",
    "        <tr><td> 14 </td><td> 14 </td><td> 13 </td><td> 12 </td></tr>\n",
    "    </table>\n",
    "</td><td> &nbsp; &nbsp; &nbsp; &nbsp;\n",
    "</td><td>\n",
    "    <table border=1>\n",
    "        <tr><td> 1 </td><td> 1 </td><td> 1 </td><td> 2 </td></tr>\n",
    "        <tr><td> 1 </td><td> 1 </td><td> 2 </td><td> 2 </td></tr>\n",
    "        <tr><td> 1 </td><td> 3 </td><td> 3 </td><td> 2 </td></tr>\n",
    "        <tr><td> 4 </td><td> 4 </td><td> 3 </td><td> 2 </td></tr>\n",
    "    </table>\n",
    "</td><td> &nbsp; &nbsp; &nbsp; &nbsp;\n",
    "</td><td>\n",
    "    <table border=1>\n",
    "        <tr><td> 111 </td><td> 111 </td><td> 111 </td><td> 112 </td></tr>\n",
    "        <tr><td> 111 </td><td> 111 </td><td> 112 </td><td> 112 </td></tr>\n",
    "        <tr><td> 111 </td><td> 113 </td><td> 113 </td><td> 112 </td></tr>\n",
    "        <tr><td> 114 </td><td> 114 </td><td> 113 </td><td> 112 </td></tr>\n",
    "    </table>\n",
    "</td></tr>\n"
   ]
  },
  {
   "cell_type": "markdown",
   "metadata": {},
   "source": [
    "### Visualizing raster data"
   ]
  },
  {
   "cell_type": "markdown",
   "metadata": {},
   "source": [
    "#### How to read individual bands using RasterIO?\n",
    "\n",
    "`RasterIO` represents bands by numerical index, starting from 1.\n",
    "To read the first band of a dataset as Numpy `ndarray` do the following:"
   ]
  },
  {
   "cell_type": "code",
   "execution_count": null,
   "metadata": {
    "scrolled": false
   },
   "outputs": [],
   "source": [
    "%matplotlib notebook\n",
    "from rasterio.plot import show\n",
    "with rasterio.open(RASTER_DATA_FILE) as src:\n",
    "    band1 = src.read(1)\n",
    "\n",
    "rasterio.plot.show(band1)\n"
   ]
  },
  {
   "cell_type": "markdown",
   "metadata": {},
   "source": [
    "In the above example, we read and visualized band 1 data. \n",
    "If you mouseover the image, you could see, `x,y` co-ordinates of your mouse and the corresponding pixel value in the lower right corner."
   ]
  },
  {
   "cell_type": "markdown",
   "metadata": {},
   "source": [
    "#### Multi-band rasters"
   ]
  },
  {
   "cell_type": "code",
   "execution_count": null,
   "metadata": {},
   "outputs": [],
   "source": [
    "%matplotlib notebook\n",
    "from rasterio.plot import show\n",
    "rasterio.plot.show(raster_data.read())"
   ]
  },
  {
   "cell_type": "markdown",
   "metadata": {},
   "source": [
    "With the above code snippet, we visualized multi-band raster data.\n",
    "If you mouseover the image, you could see `x,y` coordinates of the mouse and `Red, Green, Blue` reflectance values of that pixel."
   ]
  },
  {
   "cell_type": "markdown",
   "metadata": {},
   "source": [
    "### Georeferencing\n",
    "A GIS raster dataset is different from an ordinary image; its elements (or “pixels”) are mapped to locations on the earth’s surface. \n",
    "Every pixels of a dataset is contained within a spatial bounding box.\n",
    "\n",
    "The center spacing of each pixel is referred to as the _ground sample distance_ or GSD.\n",
    "A raster that is 1 meter GSD means that each pixel, moving left or right, up or down, from a refernce pixel is in increments of 1 meter.\n",
    "Similarly, a 15 m GSD has pixels spaced 15 m apart.\n",
    "This is often times referred to as the _spatial resolution_.\n"
   ]
  },
  {
   "cell_type": "code",
   "execution_count": null,
   "metadata": {},
   "outputs": [],
   "source": [
    "raster_data.bounds"
   ]
  },
  {
   "cell_type": "markdown",
   "metadata": {},
   "source": [
    "Our example covers the world from 101985 meters (in this case) to 339315 meters, left to right, and 2611485 meters to 2826915 meters bottom to top. It covers a region 237.33 kilometers wide by 215.43 kilometers high. These distances are with reference to dataset's CRS.\n"
   ]
  },
  {
   "cell_type": "code",
   "execution_count": null,
   "metadata": {},
   "outputs": [],
   "source": [
    "print(raster_data.crs)\n",
    "print(\" ------------\")\n",
    "print(raster_data.crs.wkt)"
   ]
  },
  {
   "cell_type": "markdown",
   "metadata": {},
   "source": [
    "\n",
    "---\n",
    "\n",
    "You have learned about raster formatted data and seen examples processing the GeoTIFF format specificcally.\n",
    "Numerous other formats exist, and it simply comes down to having the appropriate file drivers available on a system.\n",
    "\n",
    "Continue on to the next lab to learn about Pixel Datatypes."
   ]
  }
 ],
 "metadata": {
  "kernelspec": {
   "display_name": "Python 3",
   "language": "python",
   "name": "python3"
  },
  "language_info": {
   "codemirror_mode": {
    "name": "ipython",
    "version": 3
   },
   "file_extension": ".py",
   "mimetype": "text/x-python",
   "name": "python",
   "nbconvert_exporter": "python",
   "pygments_lexer": "ipython3",
   "version": "3.4.5"
  }
 },
 "nbformat": 4,
 "nbformat_minor": 2
}
