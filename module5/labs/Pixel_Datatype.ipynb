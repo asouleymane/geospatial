{
 "cells": [
  {
   "cell_type": "markdown",
   "metadata": {},
   "source": [
    "# Pixel Datatypes\n",
    "\n",
    "Recall from your lab covering Raster Formats, the raster is composed of pixels or cells. \n",
    "Each cell has a value, representing a positional measurement from Earth.\n",
    "\n",
    " * The _category_ could be a land-use class such as grassland, forest, or road.\n",
    " * A _magnitude_ might represent gravity, noise pollution, or percent of rainfall. \n",
    " * Height (distance) could represent surface elevation above mean sea level, which can be used to derive slope, aspect, and watershed properties. \n",
    " * Spectral values (or color) represent the visible or non-visible \"light\" reflected from objects.\n",
    " \n",
    "Cell values can be either positive or negative, integer, or floating point.\n",
    "The next lab dives into _data types_ and how they are typically used."
   ]
  },
  {
   "cell_type": "markdown",
   "metadata": {},
   "source": [
    "### Typical Pixel Datatype Uses:\n",
    "\n",
    " * Integer values are best used to represent count measurement or categorical (discrete) data.\n",
    " * Floating-point values to represent continuous values and measurements.\n",
    " \n",
    "---\n"
   ]
  },
  {
   "cell_type": "markdown",
   "metadata": {
    "collapsed": true
   },
   "source": [
    "### Integer Pixel Values\n",
    "\n",
    "In raster data, integer data types (aka whole numbers) are typically represented using a byte (8-bits) or a 2-byte (aka short integer (16-bits).\n",
    "This means that each pixel in each band in the raster can hold a range of values that is finite.\n",
    "Sometimes, the pixel type per band is referred to as bit-depth.\n",
    "A common term in compute graphics is _24-bit color_. \n",
    "This means there are three bands (Red, Green, Blue), each with one byte per pixels; therefore 3 bands x 8 bits per pixel.\n",
    "In this case, the bits are \"unsigned\" meaning they start at 0 and count up to the maximum value.\n",
    "A signed value can hold negative values as well as positive, but the total number of values is fixed and therefore the maximum signed value for a specific bit-depth is approximately half the maximum value of an unsigned number of the same bit-depth.\n",
    "\n",
    "Here are some common numerical ranges for different bit-depths:\n",
    " * Unsigned Byte (8-bit) : 0 to 255; standard in computer graphics and images you see on the web.\n",
    " * Signed Byte (8-bit) : -128 to 127; custom scientific uses.\n",
    " * Unsigned Short (16-bit) : 0 to 65,535; standard remote-sensing digital numbers.\n",
    " * Signed Short (16-bit) : -32,768 to 32,767; often used in digital elevation models (DEM), where 0 represents sea-level.\n",
    "\n",
    "\n",
    "Example raster:\n",
    "\n",
    "<table border=1>\n",
    "<tr><td> 1 </td><td> 1 </td><td> 1 </td><td> 2 </td></tr>\n",
    "<tr><td> 1 </td><td> 1 </td><td> 2 </td><td> 2 </td></tr>\n",
    "<tr><td> 1 </td><td> 3 </td><td> 3 </td><td> 2 </td></tr>\n",
    "<tr><td> 4 </td><td> 4 </td><td> 3 </td><td> 2 </td></tr>\n",
    "</table>"
   ]
  },
  {
   "cell_type": "markdown",
   "metadata": {
    "collapsed": true
   },
   "source": [
    "--- \n",
    "\n",
    "### Floating Point Pixel Values\n",
    "\n",
    "In raster data, floating point data types (aka decimal numbers) are typically represented using a 32-bit (single-precision) or 64-bit (double-precision) number.\n",
    "Typically, these numbers represent scientific measurements or similar numbers that cannot be captured appropriately by whole numbers.\n",
    "Floating point numbers are usually signed by default and rarely is the concept of an unsigned floating point number provided in a computing environment.\n",
    "\n",
    "Here are ranges for the two floating point data types:\n",
    " * Single Precision (32-bit) : $-3.4x10^{38}$ to $3.4x10^{38}$, six significant digits.\n",
    " * Double Precision (64-bit) : $-1.7x10^{308}$ to $1.7x10^{308}$, approximately sixteen significant digits.\n",
    "\n",
    "**Note**: The number of significant digits is limited greatly compared to the relative range of the number.\n",
    "This is a artifact of modern digital number representation within computers,\n",
    "read more [here](https://en.wikipedia.org/wiki/Floating-point_arithmetic).\n",
    "\n",
    "Example raster:\n",
    "\n",
    "<table border=1>\n",
    "<tr><td> 1.0 </td><td> 1.0 </td><td> 1.0 </td><td> 2.0 </td></tr>\n",
    "<tr><td> 1.0 </td><td> 1.0 </td><td> 2.0 </td><td> 2.0 </td></tr>\n",
    "<tr><td> 1.0 </td><td> 3.0 </td><td> 3.0 </td><td> 2.0 </td></tr>\n",
    "<tr><td> 4.0 </td><td> 4.0 </td><td> 3.0 </td><td> 2.0 </td></tr>\n",
    "</table>\n",
    "\n",
    "---\n",
    "\n",
    "Let's look at some example geospatial images."
   ]
  },
  {
   "cell_type": "code",
   "execution_count": null,
   "metadata": {},
   "outputs": [],
   "source": [
    "import rasterio\n",
    "\n",
    "RASTER_DATA_FILE = '/dsa/data/all_datasets/rasters/RGB.byte.tif'\n",
    "\n",
    "raster_data = rasterio.open(RASTER_DATA_FILE)\n",
    "\n",
    "# Use this line to explore the API of the object\n",
    "#help(raster_data)\n",
    "\n",
    "print(\"CRS = {}\".format(raster_data.get_crs()))\n",
    "print(\"GeoTransform = {}\".format(raster_data.get_transform()))\n",
    "print(\"Data Types = {}\".format(raster_data.dtypes))\n"
   ]
  },
  {
   "cell_type": "markdown",
   "metadata": {},
   "source": [
    "In this example, we see that the raste has three bands of `uint8`.\n",
    "This is a shorthand for _unsigned integer, 8-bits_."
   ]
  },
  {
   "cell_type": "code",
   "execution_count": null,
   "metadata": {},
   "outputs": [],
   "source": [
    "%matplotlib inline\n",
    "from rasterio.plot import show\n",
    "rasterio.plot.show(raster_data.read())"
   ]
  },
  {
   "cell_type": "markdown",
   "metadata": {},
   "source": [
    "### The next raster is a digial surface/terain model."
   ]
  },
  {
   "cell_type": "code",
   "execution_count": null,
   "metadata": {
    "scrolled": true
   },
   "outputs": [],
   "source": [
    "import rasterio\n",
    "\n",
    "RASTER_DATA_FILE = '/dsa/data/all_datasets/rasters/NED10Meter.tif'\n",
    "\n",
    "raster_data = rasterio.open(RASTER_DATA_FILE)\n",
    "\n",
    "print(\"CRS = {}\".format(raster_data.get_crs()))\n",
    "print(\"GeoTransform = {}\".format(raster_data.get_transform()))\n",
    "print(\"Data Types = {}\".format(raster_data.dtypes))\n"
   ]
  },
  {
   "cell_type": "code",
   "execution_count": null,
   "metadata": {},
   "outputs": [],
   "source": [
    "%matplotlib inline\n",
    "from rasterio.plot import show\n",
    "rasterio.plot.show(raster_data.read(), cmap='inferno')"
   ]
  },
  {
   "cell_type": "markdown",
   "metadata": {},
   "source": [
    "##### Sometimes, the Tags within the image may contain statistical information:"
   ]
  },
  {
   "cell_type": "code",
   "execution_count": null,
   "metadata": {},
   "outputs": [],
   "source": [
    "print(\"Data Tags = {}\".format(raster_data.tags()))"
   ]
  },
  {
   "cell_type": "markdown",
   "metadata": {},
   "source": [
    "### ERDAS Imagine, Image Format"
   ]
  },
  {
   "cell_type": "code",
   "execution_count": null,
   "metadata": {},
   "outputs": [],
   "source": [
    "import rasterio\n",
    "\n",
    "RASTER_DATA_FILE = '/dsa/data/all_datasets/rasters/41n088w.img'\n",
    "\n",
    "raster_data = rasterio.open(RASTER_DATA_FILE)\n",
    "\n",
    "print(\"CRS = {}\".format(raster_data.get_crs()))\n",
    "print(\"GeoTransform = {}\".format(raster_data.get_transform()))\n",
    "print(\"Data Types = {}\".format(raster_data.dtypes))"
   ]
  },
  {
   "cell_type": "code",
   "execution_count": null,
   "metadata": {},
   "outputs": [],
   "source": [
    "%matplotlib inline\n",
    "from rasterio.plot import show\n",
    "rasterio.plot.show(raster_data.read())"
   ]
  },
  {
   "cell_type": "markdown",
   "metadata": {},
   "source": [
    "# Save your Notebook\n",
    "## Then, File > Close and Halt"
   ]
  }
 ],
 "metadata": {
  "kernelspec": {
   "display_name": "Python 3",
   "language": "python",
   "name": "python3"
  },
  "language_info": {
   "codemirror_mode": {
    "name": "ipython",
    "version": 3
   },
   "file_extension": ".py",
   "mimetype": "text/x-python",
   "name": "python",
   "nbconvert_exporter": "python",
   "pygments_lexer": "ipython3",
   "version": "3.4.5"
  }
 },
 "nbformat": 4,
 "nbformat_minor": 2
}
