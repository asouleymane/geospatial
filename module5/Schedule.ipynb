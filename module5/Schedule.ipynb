{
 "cells": [
  {
   "cell_type": "markdown",
   "metadata": {},
   "source": [
    "# 5\n",
    "# Introduction to Raster Spatial Data"
   ]
  },
  {
   "cell_type": "markdown",
   "metadata": {},
   "source": [
    "## Module Topics\n",
    "\n",
    "  * Geospatial Raster Formats\n",
    "    * Pixels and Bands\n",
    "  * Pixel Datatypes\n",
    "    * Digital Numbers\n",
    "    * Wavelengths\n",
    "    * Integral and Float\n"
   ]
  },
  {
   "cell_type": "markdown",
   "metadata": {},
   "source": [
    "## Readings\n",
    "  * [Geospatial Raster Data](https://en.wikipedia.org/wiki/GIS_file_formats#Raster)\n",
    "    * [Formats](https://en.wikipedia.org/wiki/GIS_file_formats#Raster_formats)\n",
    "  * [GeoTIFF](https://en.wikipedia.org/wiki/GeoTIFF)\n",
    "  * [HDF](https://en.wikipedia.org/wiki/Hierarchical_Data_Format)\n",
    "  * [MrSID](https://en.wikipedia.org/wiki/MrSID)\n",
    "  * [ERDAS IMAGINE](https://en.wikipedia.org/wiki/ERDAS_IMAGINE)"
   ]
  },
  {
   "cell_type": "markdown",
   "metadata": {},
   "source": [
    "## Labs\n",
    "\n",
    "The goal of the labs this module are to become familiar with some basics of Raster geospatial data, especially in the context of understanding the differences between raster and vector data.\n",
    "\n",
    "  * [Formats](./labs/Formats.ipynb)\n",
    "  * [Pixel Datatypes](./labs/Pixel_Datatype.ipynb)\n"
   ]
  },
  {
   "cell_type": "markdown",
   "metadata": {},
   "source": [
    "## Practices\n",
    "\n",
    "  * [Loading and Inspecting Images](./practices/RasterData_Practice.ipynb)\n"
   ]
  },
  {
   "cell_type": "markdown",
   "metadata": {},
   "source": [
    "## Exercises\n",
    "\n",
    "  * [Loading and Rendering Images](./exercises/Exercise_RasterAcquire_and_Interpret.ipynb)\n"
   ]
  },
  {
   "cell_type": "markdown",
   "metadata": {},
   "source": [
    "## Submitting your work\n",
    "\n",
    "#### Steps:\n",
    "  1. Open Terminal in JupyterHub\n",
    "  1. Change into the course folder\n",
    "  1. Stage (Git Add) the module's practive and exercise work   \n",
    "  `git  add   module5/practices    module5/exercises`\n",
    "  1. Create your work snapshot (Git Commit)  \n",
    "  `git   commit   -m   \"Module 5 submission\"`\n",
    "  1. Upload the snapshot to the server (Git Push)  \n",
    "  `git   push`\n"
   ]
  },
  {
   "cell_type": "markdown",
   "metadata": {},
   "source": [
    "## Congratulations, you have completed the learning activities for this module!"
   ]
  }
 ],
 "metadata": {
  "kernelspec": {
   "display_name": "Python 3",
   "language": "python",
   "name": "python3"
  },
  "language_info": {
   "codemirror_mode": {
    "name": "ipython",
    "version": 3
   },
   "file_extension": ".py",
   "mimetype": "text/x-python",
   "name": "python",
   "nbconvert_exporter": "python",
   "pygments_lexer": "ipython3",
   "version": "3.4.5"
  }
 },
 "nbformat": 4,
 "nbformat_minor": 2
}
