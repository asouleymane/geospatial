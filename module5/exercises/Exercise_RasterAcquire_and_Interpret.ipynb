{
 "cells": [
  {
   "cell_type": "markdown",
   "metadata": {},
   "source": [
    "# Exercise Raster Data\n",
    "\n",
    "For this exercise, you will explore the NASA site to acquire various raster data\n",
    "  * Site: [NASA's earth observations](https://neo.sci.gsfc.nasa.gov/).\n",
    "\n",
    "\n",
    "You will acquire various raster datasets, then render and interpret them.\n",
    "\n",
    "\n",
    "## Population Land Maps\n",
    "\n",
    " * Locate the Population maps download two versions:\n",
    "   * 1.0 degree resolution, Grayscale GeoTIFF\n",
    "   * 0.1 degree resolution, Grayscale GeoTIFF\n",
    "\n",
    "#### Note: To aid in keeping the two resolutions separate in code, please\n",
    "  * use a variable: `file_path_small` for 1.0 degree resolution\n",
    "  * use a variable: `file_path_large` for 0.1 degree resolution\n"
   ]
  },
  {
   "cell_type": "code",
   "execution_count": null,
   "metadata": {
    "collapsed": true
   },
   "outputs": [],
   "source": [
    "## M5:E1:Cell01\n",
    "# Add your code to download the 1.0 degree file\n",
    "#--------------------------------\n",
    "\n",
    "\n",
    "\n",
    "\n",
    "\n",
    "\n"
   ]
  },
  {
   "cell_type": "code",
   "execution_count": null,
   "metadata": {
    "collapsed": true
   },
   "outputs": [],
   "source": [
    "## M5:E1:Cell02\n",
    "# Add your code to download the 0.1 file\n",
    "#--------------------------------\n",
    "\n",
    "\n",
    "\n",
    "\n",
    "\n",
    "\n"
   ]
  },
  {
   "cell_type": "markdown",
   "metadata": {},
   "source": [
    "### Review RasterIO documentation on Plotting:\n",
    "\n",
    "https://mapbox.github.io/rasterio/topics/plotting.html\n",
    "\n",
    "Using Google and other resources, \n",
    "locate a link that describes the available `cmap` options for plotting the rasters with the `rasterio.plot.show()` function.\n"
   ]
  },
  {
   "cell_type": "raw",
   "metadata": {},
   "source": [
    "## M5:E1:Cell03\n",
    "# Add your link here\n",
    "#--------------------------------\n",
    "\n",
    "\n",
    "\n",
    "\n",
    "\n"
   ]
  },
  {
   "cell_type": "markdown",
   "metadata": {},
   "source": [
    "### Task: In the three cells below, experiment with three different renderings of the population data at 1.0 degree resolution.\n",
    "\n",
    "##### Adjusting Figure Size to allow upto = 15 x 15\n",
    "```\n",
    "# Note: This line will alter the plot figure size!\n",
    "rasterio.plot.get_plt().figure(figsize=(15,15))\n",
    "```"
   ]
  },
  {
   "cell_type": "code",
   "execution_count": null,
   "metadata": {},
   "outputs": [],
   "source": [
    "## M5:E1:Cell04\n",
    "# Add your code to download the file\n",
    "#--------------------------------\n",
    "\n",
    "\n",
    "\n",
    "\n",
    "\n",
    "\n",
    "\n"
   ]
  },
  {
   "cell_type": "code",
   "execution_count": null,
   "metadata": {},
   "outputs": [],
   "source": [
    "## M5:E1:Cell05\n",
    "# Add your code to download the file\n",
    "#--------------------------------\n",
    "\n",
    "\n",
    "\n",
    "\n",
    "\n",
    "\n"
   ]
  },
  {
   "cell_type": "code",
   "execution_count": null,
   "metadata": {},
   "outputs": [],
   "source": [
    "## M5:E1:Cell06\n",
    "# Add your code to download the file\n",
    "#--------------------------------\n",
    "\n",
    "\n",
    "\n",
    "\n",
    "\n",
    "\n",
    "\n"
   ]
  },
  {
   "cell_type": "markdown",
   "metadata": {},
   "source": [
    "## Task: Using your favorite color map above, render the other scale of the population map!"
   ]
  },
  {
   "cell_type": "code",
   "execution_count": null,
   "metadata": {},
   "outputs": [],
   "source": [
    "## M5:E1:Cell07\n",
    "# Add your code to download the file\n",
    "#--------------------------------\n",
    "\n",
    "\n",
    "\n",
    "\n",
    "\n",
    "\n"
   ]
  },
  {
   "cell_type": "markdown",
   "metadata": {},
   "source": [
    "### What is the visual difference between the `file_path_large` (0.1 degree) and `file_path_small` (1.0) degree) image renderings?"
   ]
  },
  {
   "cell_type": "raw",
   "metadata": {},
   "source": [
    "## M5:E1:Cell08\n",
    "# Add your answer below\n",
    "#--------------------------------\n",
    "\n",
    "\n",
    "\n",
    "\n",
    "\n",
    "\n",
    "\n"
   ]
  },
  {
   "cell_type": "markdown",
   "metadata": {},
   "source": [
    "### Visual Interpretation \n",
    "\n",
    "Create a visualization or pair of visualizations that allows a viewer to understand how the population aligns to the country borders.\n",
    "\n"
   ]
  },
  {
   "cell_type": "code",
   "execution_count": null,
   "metadata": {},
   "outputs": [],
   "source": [
    "## M5:E1:Cell09 - part 1\n",
    "# Add your code below\n",
    "#--------------------------------\n",
    "\n",
    "\n",
    "\n",
    "\n",
    "\n"
   ]
  },
  {
   "cell_type": "code",
   "execution_count": null,
   "metadata": {},
   "outputs": [],
   "source": [
    "## M5:E1:Cell09 - part 2 (as needed)\n",
    "# Add your code below\n",
    "#--------------------------------\n",
    "\n",
    "\n",
    "\n",
    "\n",
    "\n",
    "\n"
   ]
  },
  {
   "cell_type": "markdown",
   "metadata": {},
   "source": [
    "### What are the two most populous countries according to your visualization?"
   ]
  },
  {
   "cell_type": "raw",
   "metadata": {},
   "source": [
    "## M5:E1:Cell08\n",
    "# Add your answer below\n",
    "#--------------------------------\n",
    "\n",
    "\n",
    "\n",
    "\n",
    "\n",
    "\n"
   ]
  },
  {
   "cell_type": "markdown",
   "metadata": {},
   "source": [
    "# Save your Notebook\n",
    "\n",
    "## Then, File > Save and Halt"
   ]
  }
 ],
 "metadata": {
  "kernelspec": {
   "display_name": "Python 3",
   "language": "python",
   "name": "python3"
  },
  "language_info": {
   "codemirror_mode": {
    "name": "ipython",
    "version": 3
   },
   "file_extension": ".py",
   "mimetype": "text/x-python",
   "name": "python",
   "nbconvert_exporter": "python",
   "pygments_lexer": "ipython3",
   "version": "3.4.5"
  }
 },
 "nbformat": 4,
 "nbformat_minor": 2
}
