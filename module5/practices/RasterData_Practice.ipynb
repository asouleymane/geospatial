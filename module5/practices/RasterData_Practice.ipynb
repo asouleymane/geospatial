{
 "cells": [
  {
   "cell_type": "markdown",
   "metadata": {},
   "source": [
    "# Practice Raster Data\n",
    "For this practice, we will explore the following data sets from [NASA's earth observations]( https://neo.sci.gsfc.nasa.gov/).\n"
   ]
  },
  {
   "cell_type": "markdown",
   "metadata": {},
   "source": [
    "## Data Set 1:\n",
    "* Download the following TIFF file to your module5/temp/ folder as `land_surface_temperature.tiff`\n",
    "https://neo.sci.gsfc.nasa.gov/servlet/RenderData?si=1221909&cs=rgb&format=TIFF&width=1440&height=720\n",
    "* [Please Read More on the Dataset](https://neo.sci.gsfc.nasa.gov/view.php?datasetId=MOD_LSTD_CLIM_M)\n",
    "\n",
    "### Task: Acquire and inspect raster data from NASA"
   ]
  },
  {
   "cell_type": "code",
   "execution_count": null,
   "metadata": {
    "collapsed": true
   },
   "outputs": [],
   "source": [
    "## M5:P5:Cell01\n",
    "# Add your code to download the file\n",
    "#--------------------------------\n",
    "\n",
    "import urllib.request\n",
    "import shutil\n",
    "from pathlib import Path\n",
    "\n",
    "file_URL = # Add Code Here\n",
    "\n",
    "local_file_name = # Add Code Here\n",
    "\n",
    "file_path = Path('../temp/')\n",
    "file_path /= # Add Code Here\n",
    "\n",
    "\n",
    "# Add URL Fetch and File Write Code\n",
    "\n",
    "\n",
    "\n"
   ]
  },
  {
   "cell_type": "markdown",
   "metadata": {},
   "source": [
    "We then expect, if all went well, that we can load the file with the next cell.\n",
    "\n",
    "<span style=\"background:yellow\">If you get any errors</span>, \n",
    "carefully resolve your issues until your directory structure under `module5` for the `temp` folder matches in above code!"
   ]
  },
  {
   "cell_type": "code",
   "execution_count": null,
   "metadata": {
    "collapsed": true
   },
   "outputs": [],
   "source": [
    "#### TRY TO GET THIS CELL TO RUN WITHOUT CHANGES\n",
    "\n",
    "import rasterio\n",
    "\n",
    "RASTER_DATA_FILE = '../temp/land_surface_temperature.tiff'\n",
    "raster_data = rasterio.open(RASTER_DATA_FILE)"
   ]
  },
  {
   "cell_type": "code",
   "execution_count": null,
   "metadata": {},
   "outputs": [],
   "source": [
    "## M5:P5:Cell02\n",
    "# Add your code to display the number of bands\n",
    "#--------------------------------\n",
    "\n",
    "\n",
    "\n"
   ]
  },
  {
   "cell_type": "markdown",
   "metadata": {},
   "source": [
    "Expect the number of bands to be 1. \n",
    "\n",
    "### Task: Visualize the single band image."
   ]
  },
  {
   "cell_type": "code",
   "execution_count": null,
   "metadata": {
    "scrolled": false
   },
   "outputs": [],
   "source": [
    "## M5:P1:Cell03\n",
    "# Add your code to display the raster image in interactive mode and set the colormap as `plasma`\n",
    "#---------------------------------\n",
    "\n",
    "# Use Color Map = Plasma -->   cmap = 'plasma'\n",
    "\n",
    "\n",
    "\n"
   ]
  },
  {
   "cell_type": "markdown",
   "metadata": {},
   "source": [
    "You should expect the above image to look like: \n",
    "\n",
    "![world_temps.png MISSING](../images/world_temps.png)\n",
    "\n",
    "---\n",
    "\n",
    "### Question: According to your interpretation, which continent has the highest daily temperature?"
   ]
  },
  {
   "cell_type": "raw",
   "metadata": {},
   "source": [
    "## M5:P5:Cell04\n",
    "# Add your answer below\n",
    "#--------------------------------\n",
    "\n",
    "\n",
    "\n",
    "\n"
   ]
  },
  {
   "cell_type": "markdown",
   "metadata": {},
   "source": [
    "## Data Set 2:\n",
    "* Download the following TIFF file to your module5/temp/ folder as `vegetation_index.JPEG`\n",
    "https://neo.sci.gsfc.nasa.gov/servlet/RenderData?si=1741915&cs=rgb&format=JPEG&width=1440&height=720\n",
    "* [Read More on the Dataset](https://neo.sci.gsfc.nasa.gov/view.php?datasetId=MOD_NDVI_M)\n",
    "\n",
    "### Task: Acquire and inspect raster data from NASA"
   ]
  },
  {
   "cell_type": "code",
   "execution_count": null,
   "metadata": {
    "collapsed": true
   },
   "outputs": [],
   "source": [
    "## M5:P5:Cell05\n",
    "# Add your code to download the file\n",
    "#--------------------------------\n",
    "\n",
    "# Imports\n",
    "\n",
    "\n",
    "# File URL  and Local File Path Variables\n",
    "\n",
    "\n",
    "\n",
    "# Download and Save\n",
    "\n",
    "\n",
    "\n"
   ]
  },
  {
   "cell_type": "markdown",
   "metadata": {},
   "source": [
    "We then expect, if all went well, that we can load the file with the next cell.\n",
    "\n",
    "<span style=\"background:yellow\">If you get any errors</span>, \n",
    "carefully resolve your issues until your directory structure under `module5` for the `temp` folder matches in above code!\n",
    " * Note, you may a warning about \"no geotransform\".\n",
    " * This warning is **not an error**."
   ]
  },
  {
   "cell_type": "code",
   "execution_count": null,
   "metadata": {},
   "outputs": [],
   "source": [
    "#### TRY TO GET THIS CELL TO RUN WITHOUT CHANGES\n",
    "\n",
    "import rasterio\n",
    "\n",
    "RASTER_DATA_FILE = '../temp/vegetation_index.JPEG'\n",
    "raster_data = rasterio.open(RASTER_DATA_FILE)"
   ]
  },
  {
   "cell_type": "code",
   "execution_count": null,
   "metadata": {},
   "outputs": [],
   "source": [
    "## M5:P5:Cell06\n",
    "# Add your code to display the number of bands\n",
    "#--------------------------------\n",
    "\n",
    "\n",
    "\n"
   ]
  },
  {
   "cell_type": "markdown",
   "metadata": {},
   "source": [
    "Expect the number of bands to be 3 (`RGB`) now as it is a JPEG color image. \n",
    "\n",
    "\n",
    "### Task: Visualize the `Green` band image.\n",
    "  * Note: Use the `%matplotlib inline` instead of the interactive visualization technique."
   ]
  },
  {
   "cell_type": "code",
   "execution_count": null,
   "metadata": {
    "scrolled": true
   },
   "outputs": [],
   "source": [
    "## M5:P1:Cell07\n",
    "# Add your code to display the green band of raster image\n",
    "#---------------------------------\n",
    "\n",
    "\n",
    "\n",
    "\n",
    "\n",
    "\n",
    "#---------------------------------\n",
    "## It should display it as below"
   ]
  },
  {
   "cell_type": "markdown",
   "metadata": {},
   "source": [
    "You should expect the above image to look like: \n",
    "\n",
    "![vegetation_index.png MISSING](../images/vegetation_index.png)\n",
    "\n",
    "---\n",
    "\n",
    "### Task: Now visualize all bands as a single image in _interactive_ mode."
   ]
  },
  {
   "cell_type": "code",
   "execution_count": null,
   "metadata": {},
   "outputs": [],
   "source": [
    "## M5:P1:Cell08\n",
    "# Add your code to display all the bands as single image.\n",
    "#---------------------------------\n",
    "\n",
    "\n",
    "\n",
    "\n",
    "\n",
    "#--------------------\n",
    "# You should see the below picture "
   ]
  },
  {
   "cell_type": "markdown",
   "metadata": {},
   "source": [
    "You should expect the resulting image to look like:\n",
    "\n",
    "![vegetation_index_interactive.png MISSING](../images/vegetation_index_interactive.png)\n",
    "\n",
    "\n",
    "---"
   ]
  },
  {
   "cell_type": "markdown",
   "metadata": {},
   "source": [
    "# Save your Notebook\n",
    "## Then, File > Close and Halt"
   ]
  }
 ],
 "metadata": {
  "kernelspec": {
   "display_name": "Python 3",
   "language": "python",
   "name": "python3"
  },
  "language_info": {
   "codemirror_mode": {
    "name": "ipython",
    "version": 3
   },
   "file_extension": ".py",
   "mimetype": "text/x-python",
   "name": "python",
   "nbconvert_exporter": "python",
   "pygments_lexer": "ipython3",
   "version": "3.4.5"
  }
 },
 "nbformat": 4,
 "nbformat_minor": 2
}
