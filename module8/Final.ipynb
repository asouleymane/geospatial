{
 "cells": [
  {
   "cell_type": "markdown",
   "metadata": {},
   "source": [
    "## Final\n",
    "For this final you will be using the following data:\n",
    "* [NYC Borough Boundaries](https://data.cityofnewyork.us/api/geospatial/tqmj-j8zm?method=export&format=Shapefile) \n",
    "* [Subway lines](https://data.cityofnewyork.us/api/geospatial/3qz8-muuu?method=export&format=Shapefile)\n",
    "* [Subway stations](https://data.cityofnewyork.us/api/geospatial/arq3-7z49?method=export&format=GeoJSON)\n",
    "* NYC Roads - a PostGIS table within dsa_student called nyc_roads\n",
    "\n",
    "For each question, provide the code used to answer the question along with the answer. Everything should be done by code, you should not be doing any manual calculations or observations unless indicated. The answer box should just be transfering the answer from the code output. "
   ]
  },
  {
   "cell_type": "markdown",
   "metadata": {},
   "source": [
    "1.) Load each of the datasets into its own geodataframe"
   ]
  },
  {
   "cell_type": "code",
   "execution_count": null,
   "metadata": {},
   "outputs": [],
   "source": [
    "## M8:Project:Question1:Borough Dataload\n"
   ]
  },
  {
   "cell_type": "code",
   "execution_count": null,
   "metadata": {},
   "outputs": [],
   "source": [
    "## M8:Project:Question1:Subway lines Dataload\n"
   ]
  },
  {
   "cell_type": "code",
   "execution_count": null,
   "metadata": {},
   "outputs": [],
   "source": [
    "## M8:Project:Question1:Subway stations Dataload\n"
   ]
  },
  {
   "cell_type": "code",
   "execution_count": null,
   "metadata": {},
   "outputs": [],
   "source": [
    "## M8:Project:Question1:Roads Dataload\n"
   ]
  },
  {
   "cell_type": "markdown",
   "metadata": {},
   "source": [
    "2.) What is the projection of each of the data sets? What does this projection tell you about the data? Be specific."
   ]
  },
  {
   "cell_type": "code",
   "execution_count": null,
   "metadata": {
    "collapsed": true
   },
   "outputs": [],
   "source": [
    "## M8:Project:Question2:Code\n"
   ]
  },
  {
   "cell_type": "raw",
   "metadata": {},
   "source": [
    "## M8:Project:Question2:Answer"
   ]
  },
  {
   "cell_type": "markdown",
   "metadata": {},
   "source": [
    "3.) What is the area in square kilometers of NYC?"
   ]
  },
  {
   "cell_type": "code",
   "execution_count": null,
   "metadata": {},
   "outputs": [],
   "source": [
    "## M8:Project:Question3:Code\n"
   ]
  },
  {
   "cell_type": "raw",
   "metadata": {},
   "source": [
    "## M8:Project:Question3:Answer"
   ]
  },
  {
   "cell_type": "markdown",
   "metadata": {},
   "source": [
    "4.) Plot the Boroughs and subway stations using matplotlib"
   ]
  },
  {
   "cell_type": "code",
   "execution_count": null,
   "metadata": {
    "scrolled": true
   },
   "outputs": [],
   "source": [
    "## M8:Project:Question4:Code\n"
   ]
  },
  {
   "cell_type": "markdown",
   "metadata": {},
   "source": [
    "5.) Plot the boroughs and subway lines using folium, center the map on NYC. Have each data set as its own layer that is able to be turned on and off. Make sure to give the layers appropriate names"
   ]
  },
  {
   "cell_type": "code",
   "execution_count": null,
   "metadata": {
    "scrolled": false
   },
   "outputs": [],
   "source": [
    "## M8:Project:Question5:Code\n"
   ]
  },
  {
   "cell_type": "markdown",
   "metadata": {},
   "source": [
    "6.) How many subways stops are in each borough?"
   ]
  },
  {
   "cell_type": "code",
   "execution_count": null,
   "metadata": {},
   "outputs": [],
   "source": [
    "## M8:Project:Question6:Code\n"
   ]
  },
  {
   "cell_type": "raw",
   "metadata": {},
   "source": [
    "## M8:Project:Question6:Answer\n"
   ]
  },
  {
   "cell_type": "markdown",
   "metadata": {},
   "source": [
    "7.) How many roads are there in NYC?"
   ]
  },
  {
   "cell_type": "code",
   "execution_count": null,
   "metadata": {},
   "outputs": [],
   "source": [
    "## M8:Project:Question7:Code\n"
   ]
  },
  {
   "cell_type": "raw",
   "metadata": {},
   "source": [
    "## M8:Project:Question7:Answer\n"
   ]
  },
  {
   "cell_type": "markdown",
   "metadata": {},
   "source": [
    "8.) Plot the NYC roads that have bike lanes"
   ]
  },
  {
   "cell_type": "code",
   "execution_count": null,
   "metadata": {},
   "outputs": [],
   "source": [
    "## M8:Project:Question8:Code\n"
   ]
  },
  {
   "cell_type": "markdown",
   "metadata": {},
   "source": [
    "9.) What is the length of the \"ROOSEVELT IS BR PED & BIKE PATH\" path in kilometers?"
   ]
  },
  {
   "cell_type": "code",
   "execution_count": null,
   "metadata": {},
   "outputs": [],
   "source": [
    "## M8:Project:Question9:Code\n"
   ]
  },
  {
   "cell_type": "raw",
   "metadata": {},
   "source": [
    "## M8:Project:Question9:Answer\n"
   ]
  },
  {
   "cell_type": "markdown",
   "metadata": {},
   "source": [
    "10.) Explain the difference between vector and raster images. What types of things would you do with vectors and why? What types of things you would do with raster images and why?"
   ]
  },
  {
   "cell_type": "raw",
   "metadata": {
    "collapsed": true
   },
   "source": [
    "## M8:Project:Question10:Answer\n"
   ]
  }
 ],
 "metadata": {
  "kernelspec": {
   "display_name": "Python 3",
   "language": "python",
   "name": "python3"
  },
  "language_info": {
   "codemirror_mode": {
    "name": "ipython",
    "version": 3
   },
   "file_extension": ".py",
   "mimetype": "text/x-python",
   "name": "python",
   "nbconvert_exporter": "python",
   "pygments_lexer": "ipython3",
   "version": "3.4.5"
  }
 },
 "nbformat": 4,
 "nbformat_minor": 2
}
