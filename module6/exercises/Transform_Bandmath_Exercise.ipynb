{
 "cells": [
  {
   "cell_type": "markdown",
   "metadata": {},
   "source": [
    "## Exercise Raster Transforms, Band Math & Algorithms\n",
    "\n",
    "In this exercise module we use concepts from our transforms, band math and raster algorithms labs.\n",
    "\n",
    "The Landsat-8 data can be obtained from https://landsat-pds.s3.amazonaws.com/L8/042/031/LC80420312013156LGN00/index.html"
   ]
  },
  {
   "cell_type": "markdown",
   "metadata": {},
   "source": [
    "In this excercise we calculate a vegetation index similar to NDVI, \n",
    "called **Enhanced Vegetation Index** (EVI). \n",
    "More on EVI at https://en.wikipedia.org/wiki/Enhanced_vegetation_index.\n",
    "\n",
    "Calculation of EVI involves 3 raster bands `Red, Blue, and Near Infrared`. \n",
    "The following equation represents the calculation of EVI.\n",
    "\\begin{equation}\n",
    "EVI = G\\times\\frac{NIR-RED}{NIR+C_1 \\times RED - C_2 \\times BLUE + L}\n",
    "\\end{equation}\n",
    "\n",
    "For Landsat-8 dataset, EVI is given as\n",
    "\n",
    "\\begin{equation}\n",
    "EVI = 2.5\\times\\frac{Band_5-Band_4}{Band_5+6 \\times Band_4 - 7.5 \\times Band_2 + 1}\n",
    "\\end{equation}\n",
    "\n"
   ]
  },
  {
   "cell_type": "markdown",
   "metadata": {},
   "source": [
    "### Task: Obtain the required bands \n",
    "Obtain 2<sup>nd</sup>, 4<sup>th</sup>, and 5<sup>th</sup>  bands of Landsat-8 collection\n",
    "Store the band images in `../temp/LC80420312013156LGN00/` folder.\n",
    "\n",
    "_Note: Make sure you are downloading files with `.TIF` extension only_\n",
    "\n",
    "You should end up with three files: \n",
    "\n",
    "```Bash\n",
    "$ ls -lt temp/LC80420312013156LGN00/\n",
    "-rw-r--r-- 1 scottgs dsa_user 62757207 Feb 19 20:28 nearIRband.TIF\n",
    "-rw-r--r-- 1 scottgs dsa_user 61844135 Feb 19 20:28 redband.TIF\n",
    "-rw-r--r-- 1 scottgs dsa_user 58793826 Feb 19 20:28 blueband.TIF\n",
    "```"
   ]
  },
  {
   "cell_type": "code",
   "execution_count": null,
   "metadata": {
    "collapsed": true
   },
   "outputs": [],
   "source": [
    "# M6:E1:Cell01\n",
    "# Add your code to download the files\n",
    "#--------------------------------\n",
    "\n",
    "# Imports\n",
    "import urllib.request\n",
    "import shutil\n",
    "from pathlib import Path\n",
    "\n",
    "\n",
    "##### BLUE #######\n",
    "\n",
    "\n",
    "\n",
    "\n",
    "    \n",
    "\n",
    "##### RED #######\n",
    "\n",
    "\n",
    "\n",
    "\n",
    "\n",
    "\n",
    "\n",
    "##### NIR #######\n",
    "\n",
    "\n",
    "\n",
    "\n",
    "\n",
    "\n"
   ]
  },
  {
   "cell_type": "markdown",
   "metadata": {},
   "source": [
    "We then expect, if all went well, that we can load the file with the next cell.\n",
    "\n",
    "<span style=\"background:yellow\">If you get any errors </span>, carefully resolve your issues until your directory structure under module5 for the `temp` folder matches in above code!\n"
   ]
  },
  {
   "cell_type": "code",
   "execution_count": null,
   "metadata": {
    "collapsed": true
   },
   "outputs": [],
   "source": [
    "###### TRY TO GET THIS CELL TO RUN WITHOUT CHANGES\n",
    "\n",
    "import rasterio\n",
    "\n",
    "src = rasterio.open('../temp/LC80420312013156LGN00/redband.TIF')\n",
    "redband = src.read()"
   ]
  },
  {
   "cell_type": "markdown",
   "metadata": {},
   "source": [
    "Now that we successfully downloaded the `red`, `blue` and `nearIR` bands, we shall downsample the image to have $\\frac{1}{8}^{th}$ height and $\\frac{1}{10}^{th}$ width of the original image.\n",
    "\n",
    "### Task: Build destination transformation\n"
   ]
  },
  {
   "cell_type": "code",
   "execution_count": null,
   "metadata": {},
   "outputs": [],
   "source": [
    "# M6:E1:Cell02\n",
    "# Build destination transformation\n",
    "#--------------------------------\n",
    "\n",
    "# Imports \n",
    "import numpy as np\n",
    "\n",
    "\n",
    "### PULL AND MODIFY THE TRANSFORM\n",
    "\n",
    "\n",
    "\n",
    "\n",
    "\n"
   ]
  },
  {
   "cell_type": "code",
   "execution_count": null,
   "metadata": {
    "collapsed": true
   },
   "outputs": [],
   "source": [
    "##### M6:E1:Cell03\n",
    "####-------------------------------\n",
    "# Update kwargs\n",
    "####--------------------------------\n",
    "\n",
    "\n",
    "kwargs = src.meta.copy()\n",
    "\n",
    "\n",
    "### Update kwargs\n",
    "\n"
   ]
  },
  {
   "cell_type": "markdown",
   "metadata": {},
   "source": [
    "### Task : Use reprojection to downsample and save it as `../temp/LC80420312013156LGN00/redband_downsampled.TIF`"
   ]
  },
  {
   "cell_type": "code",
   "execution_count": null,
   "metadata": {
    "scrolled": false
   },
   "outputs": [],
   "source": [
    "# M6:E1:Cell04\n",
    "\n",
    "# Imports\n",
    "from rasterio.warp import reproject,RESAMPLING\n",
    "\n",
    "#### Reproject and save downsampled raster\n",
    "\n"
   ]
  },
  {
   "cell_type": "markdown",
   "metadata": {},
   "source": [
    "Make sure the size of the images is 1&times;939&times;769. If your downsampled raster has the correct size, proceed with to the next cell."
   ]
  },
  {
   "cell_type": "markdown",
   "metadata": {},
   "source": [
    "### Downsample `blueband`"
   ]
  },
  {
   "cell_type": "code",
   "execution_count": null,
   "metadata": {},
   "outputs": [],
   "source": [
    "###### TRY TO GET THIS CELL TO RUN WITHOUT CHANGES\n",
    "src = rasterio.open('../temp/LC80420312013156LGN00/blueband.TIF')\n",
    "blueband = src.read()\n",
    "\n",
    "# Reproject and save downsampled raster\n",
    "\n",
    "with rasterio.open('../temp/LC80420312013156LGN00/blueband_downsampled.TIF','w', **kwargs) as dst:\n",
    "    reproject(\n",
    "        source = rasterio.band(src,1), \n",
    "        destination = rasterio.band(dst,1),\n",
    "        src_transform = src.transform,\n",
    "        src_crs = src.crs,\n",
    "        dst_transform = dst_transform,\n",
    "        dst_crs = src.crs,\n",
    "        resampling = RESAMPLING.nearest)"
   ]
  },
  {
   "cell_type": "markdown",
   "metadata": {},
   "source": [
    "### Downsample `nearIRband`"
   ]
  },
  {
   "cell_type": "code",
   "execution_count": null,
   "metadata": {},
   "outputs": [],
   "source": [
    "###### TRY TO GET THIS CELL TO RUN WITHOUT CHANGES\n",
    "src = rasterio.open('../temp/LC80420312013156LGN00/nearIRband.TIF')\n",
    "nearIRband = src.read()\n",
    "# Reproject and save downsampled raster\n",
    "\n",
    "with rasterio.open('../temp/LC80420312013156LGN00/nearIRband_downsampled.TIF','w', **kwargs) as dst:\n",
    "    reproject(\n",
    "        source = rasterio.band(src,1), \n",
    "        destination = rasterio.band(dst,1),\n",
    "        src_transform = src.transform,\n",
    "        src_crs = src.crs,\n",
    "        dst_transform = dst_transform,\n",
    "        dst_crs = src.crs,\n",
    "        resampling = RESAMPLING.nearest)"
   ]
  },
  {
   "cell_type": "markdown",
   "metadata": {},
   "source": [
    "### Load and visualize the downsampled rasters"
   ]
  },
  {
   "cell_type": "code",
   "execution_count": null,
   "metadata": {
    "scrolled": false
   },
   "outputs": [],
   "source": [
    "###### TRY TO GET THIS CELL TO RUN WITHOUT CHANGES\n",
    "\n",
    "import matplotlib.pyplot as plt\n",
    "from rasterio.plot import show\n",
    "%matplotlib inline\n",
    "\n",
    "fig = plt.figure(figsize = (10,10))\n",
    "\n",
    "with rasterio.open('../temp/LC80420312013156LGN00/blueband_downsampled.TIF') as src:\n",
    "    blueband = src.read()\n",
    "    a = fig.add_subplot(2,2,1)\n",
    "    rasterio.plot.show(blueband)\n",
    "\n",
    "\n",
    "with rasterio.open('../temp/LC80420312013156LGN00/redband_downsampled.TIF') as src:\n",
    "    redband = src.read()\n",
    "    a = fig.add_subplot(2,2,2)\n",
    "    rasterio.plot.show(redband)\n",
    "    \n",
    "with rasterio.open('../temp/LC80420312013156LGN00/nearIRband_downsampled.TIF') as src:\n",
    "    nirband = src.read()\n",
    "    a = fig.add_subplot(2,2,3)\n",
    "    rasterio.plot.show(nirband)"
   ]
  },
  {
   "cell_type": "markdown",
   "metadata": {},
   "source": [
    "Your images should look like below.\n",
    "\n",
    "![bands_3_4_5_LC80420312013156LGN00.png MISSING](../images/bands_3_4_5_LC80420312013156LGN00.png)"
   ]
  },
  {
   "cell_type": "markdown",
   "metadata": {},
   "source": [
    "### Task: Calculate EVI \n",
    "Calcuate the EVI Index using the below equation\n",
    "\\begin{equation}\n",
    "EVI = 2.5\\times\\frac{NIR-RED}{NIR+6 \\times RED - 7.5 \\times BLUE + 1}\n",
    "\\end{equation}"
   ]
  },
  {
   "cell_type": "code",
   "execution_count": null,
   "metadata": {
    "collapsed": true
   },
   "outputs": [],
   "source": [
    "# M6:E1:Cell05\n",
    "##------------\n",
    "## Calculate EVI\n",
    "##------------\n",
    "\n",
    "### CONVERT TO 64-bit float\n",
    "\n",
    "\n",
    "\n",
    "\n",
    "\n",
    "### Band Math\n",
    "\n",
    "\n",
    "\n"
   ]
  },
  {
   "cell_type": "markdown",
   "metadata": {},
   "source": [
    "### Task: Visualize the EVI Index\n",
    "_Tip: Apply log transformation to the EVI if the range of EVI values is too large._"
   ]
  },
  {
   "cell_type": "code",
   "execution_count": null,
   "metadata": {
    "scrolled": false
   },
   "outputs": [],
   "source": [
    "# M6:E1:Cell06\n",
    "\n",
    "%matplotlib inline\n",
    "fig = plt.figure(figsize=(6,6))\n",
    "\n",
    "#### Plot\n",
    "\n",
    "\n"
   ]
  },
  {
   "cell_type": "markdown",
   "metadata": {},
   "source": [
    "Your images should look like below. Use `cmap = \"YlGn\"`.\n",
    "\n",
    "![evi_index.png MISSING](../images/evi_index.png)\n",
    "\n",
    "---"
   ]
  },
  {
   "cell_type": "markdown",
   "metadata": {},
   "source": [
    "****\n",
    "# Save your Notebook\n",
    "## Then, File > Close and Halt"
   ]
  }
 ],
 "metadata": {
  "kernelspec": {
   "display_name": "Python 3",
   "language": "python",
   "name": "python3"
  },
  "language_info": {
   "codemirror_mode": {
    "name": "ipython",
    "version": 3
   },
   "file_extension": ".py",
   "mimetype": "text/x-python",
   "name": "python",
   "nbconvert_exporter": "python",
   "pygments_lexer": "ipython3",
   "version": "3.4.5"
  }
 },
 "nbformat": 4,
 "nbformat_minor": 2
}
