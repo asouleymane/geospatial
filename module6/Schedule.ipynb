{
 "cells": [
  {
   "cell_type": "markdown",
   "metadata": {},
   "source": [
    "# 6\n",
    "# Raster Spatial Data - Access and Manipulation"
   ]
  },
  {
   "cell_type": "markdown",
   "metadata": {},
   "source": [
    "## Module Topics\n",
    "\n",
    "  * Accessing Raster Data\n",
    "    * Pixels\n",
    "    * Sub-rasters\n",
    "  * Manipulation\n",
    "    * Transforms\n",
    "    * Band-Math\n",
    "      * e.g., Color-Shifted Infrared\n",
    "      * Statistics\n",
    "    * Sample Image Processing Algorithm\n",
    "      * e.g., Edge Detection\n",
    "\n"
   ]
  },
  {
   "cell_type": "markdown",
   "metadata": {},
   "source": [
    "## Readings\n",
    "\n",
    "This reading is from ESRI. \n",
    "It has good general information even though some aspects are specific to their desktop software.\n",
    "  * [Fundamentals of Georeferences Raster Data](http://desktop.arcgis.com/en/arcmap/10.3/manage-data/raster-and-images/fundamentals-for-georeferencing-a-raster-dataset.htm)\n"
   ]
  },
  {
   "cell_type": "markdown",
   "metadata": {},
   "source": [
    "## Labs\n",
    "\n",
    "The goal of the labs in this module are to expose students to the various ways pixel data can be accessed and manipulated, and what uses these operations have for analytics.\n",
    "\n",
    "  * [Pixel and Cropping Sub-rasters](./labs/PixelAccess_Cropping.ipynb)\n",
    "  * [Raster Manipulation - Transforms](./labs/Transforms.ipynb)\n",
    "  * [Raster Manipulation - Band-Math](./labs/BandMath.ipynb)\n",
    "  * [Raster Algorithms](./labs/RasterAlgorithms.ipynb)\n"
   ]
  },
  {
   "cell_type": "markdown",
   "metadata": {},
   "source": [
    "## Practices\n",
    "\n",
    "  * [Transforms and band math](./practices/Transform_Bandmath_practice.ipynb)\n"
   ]
  },
  {
   "cell_type": "markdown",
   "metadata": {},
   "source": [
    "## Exercises\n",
    "\n",
    "  * [Transforms and band math](./exercises/Transform_Bandmath_Exercise.ipynb)\n"
   ]
  },
  {
   "cell_type": "markdown",
   "metadata": {},
   "source": [
    "## Submitting your work\n",
    "\n",
    "#### Steps:\n",
    "  1. Open Terminal in JupyterHub\n",
    "  1. Change into the course folder\n",
    "  1. Stage (Git Add) the module's practive and exercise work   \n",
    "  `git  add   module6/practices    module6/exercises`\n",
    "  1. Create your work snapshot (Git Commit)  \n",
    "  `git   commit   -m   \"Module 6 submission\"`\n",
    "  1. Upload the snapshot to the server (Git Push)  \n",
    "  `git   push`\n"
   ]
  },
  {
   "cell_type": "markdown",
   "metadata": {},
   "source": [
    "## Congratulations, you have completed the learning activities for this module!"
   ]
  }
 ],
 "metadata": {
  "kernelspec": {
   "display_name": "Python 3",
   "language": "python",
   "name": "python3"
  },
  "language_info": {
   "codemirror_mode": {
    "name": "ipython",
    "version": 3
   },
   "file_extension": ".py",
   "mimetype": "text/x-python",
   "name": "python",
   "nbconvert_exporter": "python",
   "pygments_lexer": "ipython3",
   "version": "3.4.5"
  }
 },
 "nbformat": 4,
 "nbformat_minor": 2
}
