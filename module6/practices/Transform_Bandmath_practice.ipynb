{
 "cells": [
  {
   "cell_type": "markdown",
   "metadata": {},
   "source": [
    "## Practice Raster Transforms, Band Math & Algorithms\n",
    "\n",
    "In this practice module we use concepts from our transforms, band math and raster algorithms labs.\n",
    "\n",
    "The data can be obtained from https://landsat-pds.s3.amazonaws.com/L8/042/035/LC80420352013156LGN00/index.html"
   ]
  },
  {
   "cell_type": "markdown",
   "metadata": {},
   "source": [
    "### Task: Obtaining the red (band 4) and near-infrared (band 5) bands of Landsat-8 collection\n",
    "Store the band images in `../temp/LC80420352013156LGN00/` folder.\n",
    "\n",
    "_Note: Make sure you are downloading files with `.TIF` extension only_"
   ]
  },
  {
   "cell_type": "code",
   "execution_count": 41,
   "metadata": {
    "collapsed": true
   },
   "outputs": [],
   "source": [
    "# M6:P6:Cell01\n",
    "# Add your code to download the file\n",
    "#--------------------------------\n",
    "\n",
    "# Imports\n",
    "\n",
    "\n",
    "# File URL and Local File Path Variables - Red band\n",
    "\n",
    "\n",
    "\n",
    "\n",
    "# Download and Save - Red band\n",
    "\n",
    "\n",
    "\n",
    "\n",
    "# File URL and Local File Path Variables - near-infrared band\n",
    "\n",
    "\n",
    "\n",
    "\n",
    "\n",
    "# Download and Save - near-infrared band\n",
    "\n",
    "\n",
    "\n"
   ]
  },
  {
   "cell_type": "markdown",
   "metadata": {},
   "source": [
    "We then expect, if all went well, that we can load the file with the next cell.\n",
    "\n",
    "<span style=\"background:yellow\">If you get any errors </span>, carefully resolve your issues until your directory structure under module5 for the `temp` folder matches in above code!\n"
   ]
  },
  {
   "cell_type": "code",
   "execution_count": 42,
   "metadata": {
    "collapsed": true
   },
   "outputs": [],
   "source": [
    "###### TRY TO GET THIS CELL TO RUN WITHOUT CHANGES\n",
    "\n",
    "import rasterio\n",
    "\n",
    "src = rasterio.open('../temp/LC80420352013156LGN00/redband.TIF')\n",
    "redband = src.read()"
   ]
  },
  {
   "cell_type": "markdown",
   "metadata": {},
   "source": [
    "Now that we successfully downloaded the `red` and `nearIR` bands, we shall downsample the image to have $\\frac{1}{10}^{th}$ height and width of the original image.\n",
    "\n",
    "### Task: Build destination transformation\n"
   ]
  },
  {
   "cell_type": "code",
   "execution_count": 4,
   "metadata": {},
   "outputs": [],
   "source": [
    "# M6:P6:Cell02\n",
    "# Build destination transformation\n",
    "#--------------------------------\n",
    "\n",
    "# Imports \n",
    "\n",
    "\n",
    "\n",
    "dst_transform = []\n",
    "height = round(redband.shape[1]/10)\n",
    "width = round(redband.shape[2]/10)\n",
    "\n",
    "# Build destination transform\n",
    "\n",
    "\n"
   ]
  },
  {
   "cell_type": "code",
   "execution_count": 44,
   "metadata": {
    "collapsed": true
   },
   "outputs": [],
   "source": [
    "###### TRY TO GET THIS CELL TO RUN WITHOUT CHANGES\n",
    "\n",
    "# Update kwargs\n",
    "#--------------------------------\n",
    "kwargs = src.meta.copy()\n",
    "kwargs.update({\n",
    "    'crs': src.crs,\n",
    "    'transform': dst_transform,\n",
    "    'width' : width,\n",
    "    'height': height\n",
    "})"
   ]
  },
  {
   "cell_type": "markdown",
   "metadata": {},
   "source": [
    "### Task : Use reprojection to downsample and save it as `../temp/LC80420352013156LGN00/redband_downsampled.TIF`"
   ]
  },
  {
   "cell_type": "code",
   "execution_count": 5,
   "metadata": {
    "scrolled": true
   },
   "outputs": [],
   "source": [
    "# M6:P6:Cell03\n",
    "\n",
    "# Imports\n",
    "\n",
    "\n",
    "# Reproject and save downsampled raster\n",
    "\n",
    "\n",
    "\n",
    "\n",
    "\n",
    "    "
   ]
  },
  {
   "cell_type": "markdown",
   "metadata": {},
   "source": [
    "### Task : Downsample `nearIRband`"
   ]
  },
  {
   "cell_type": "code",
   "execution_count": 46,
   "metadata": {
    "collapsed": true
   },
   "outputs": [],
   "source": [
    "###### TRY TO GET THIS CELL TO RUN WITHOUT CHANGES\n",
    "src = rasterio.open('../temp/LC80420352013156LGN00/nearIRband.TIF')\n",
    "nearIRband = src.read()"
   ]
  },
  {
   "cell_type": "markdown",
   "metadata": {},
   "source": [
    "### Task : Use reprojection to downsample and save it as `../temp/LC80420352013156LGN00/nearIRband_downsampled.TIF`"
   ]
  },
  {
   "cell_type": "code",
   "execution_count": 6,
   "metadata": {},
   "outputs": [],
   "source": [
    "# M6:P6:Cell04\n",
    "\n",
    "# Reproject and save downsampled raster\n",
    "\n",
    "\n",
    "\n",
    "\n",
    "\n",
    "\n"
   ]
  },
  {
   "cell_type": "markdown",
   "metadata": {},
   "source": [
    "Load and visualize the downsampled rasters"
   ]
  },
  {
   "cell_type": "code",
   "execution_count": 7,
   "metadata": {
    "scrolled": false
   },
   "outputs": [],
   "source": [
    "###### TRY TO GET THIS CELL TO RUN WITHOUT CHANGES\n",
    "\n",
    "import matplotlib.pyplot as plt\n",
    "from rasterio.plot import show\n",
    "%matplotlib inline\n",
    "\n",
    "with rasterio.open('../temp/LC80420352013156LGN00/redband_downsampled.TIF') as src:\n",
    "    redband = src.read()\n",
    "    fig = plt.figure(figsize = (6,6))\n",
    "    rasterio.plot.show(redband)\n",
    "with rasterio.open('../temp/LC80420352013156LGN00/nearIRband_downsampled.TIF') as src:\n",
    "    nirband = src.read()\n",
    "    fig = plt.figure(figsize = (6,6))\n",
    "    rasterio.plot.show(nirband)"
   ]
  },
  {
   "cell_type": "markdown",
   "metadata": {},
   "source": [
    "Your images should look like below.\n",
    "\n",
    "![downsampled_raster_2.png MISSING](../images/downsampled_raster_2.png)\n",
    "\n",
    "---\n"
   ]
  },
  {
   "cell_type": "markdown",
   "metadata": {},
   "source": [
    "### Task: Calculate NDVI "
   ]
  },
  {
   "cell_type": "code",
   "execution_count": 80,
   "metadata": {
    "collapsed": true
   },
   "outputs": [],
   "source": [
    "# M6:P6:Cell05\n",
    "##------------\n",
    "## Calculate NDVI\n",
    "##------------\n",
    "\n",
    "\n",
    "\n",
    "\n"
   ]
  },
  {
   "cell_type": "code",
   "execution_count": 8,
   "metadata": {},
   "outputs": [],
   "source": [
    "###### TRY TO GET THIS CELL TO RUN WITHOUT CHANGES\n",
    "\n",
    "fig = plt.figure(figsize=(6,6))\n",
    "rasterio.plot.show(ndvi, cmap = 'RdYlGn')"
   ]
  },
  {
   "cell_type": "markdown",
   "metadata": {},
   "source": [
    "Your images should look like below. Use `cmap = \"RdYlGn\"`.\n",
    "\n",
    "![ndvi_2.png MISSING](../images/ndvi_2.png)\n",
    "\n",
    "---"
   ]
  },
  {
   "cell_type": "markdown",
   "metadata": {},
   "source": [
    "### Task: Threshold the ndvi index with `T=0.3`"
   ]
  },
  {
   "cell_type": "code",
   "execution_count": 1,
   "metadata": {
    "scrolled": false
   },
   "outputs": [],
   "source": [
    "# M6:P6:Cell06\n",
    "##------------\n",
    "## Threshold NDVI\n",
    "##------------\n",
    "\n",
    "\n",
    "\n",
    "\n"
   ]
  },
  {
   "cell_type": "markdown",
   "metadata": {},
   "source": [
    "### Task: Median filtering\n",
    "\n",
    "Perform median filtering of `redband` and `nirband` with windows of size 3&times;3. Calculate the NDVI index based on filtered images, threshold the NDVI index with `T=0.3`. Store the thresholded NDVI in the `segmented` variable."
   ]
  },
  {
   "cell_type": "code",
   "execution_count": 2,
   "metadata": {
    "scrolled": true
   },
   "outputs": [],
   "source": [
    "# M6:P6:Cell07\n",
    "##------------\n",
    "## Median Filter redband and nirband\n",
    "##------------\n",
    "\n",
    "# Imports\n",
    "\n",
    "\n",
    "\n",
    "\n",
    "## Calculate NDVI\n",
    "\n",
    "\n",
    "\n",
    "\n",
    "\n",
    "## Threshold NDVI\n",
    "\n",
    "\n",
    "\n"
   ]
  },
  {
   "cell_type": "markdown",
   "metadata": {},
   "source": [
    "The following code counts the number of isolated pixel groups in the thresholded image, note down the pixel group counts. Change the window size to 5&times;5, 11&times;11, 21&times;21, and note the pixel group count value for every window size."
   ]
  },
  {
   "cell_type": "code",
   "execution_count": 90,
   "metadata": {},
   "outputs": [
    {
     "name": "stdout",
     "output_type": "stream",
     "text": [
      "The thresholded image has 86 pixel groups\n"
     ]
    }
   ],
   "source": [
    "###### TRY TO GET THIS CELL TO RUN WITHOUT CHANGES\n",
    "\n",
    "from scipy.ndimage.measurements import label\n",
    "\n",
    "segmented = np.squeeze(segmented)\n",
    "s = np.array([[1,1,1],[1,1,1],[1,1,1]])\n",
    "labeled, pixel_group_count = label(segmented, structure = s)\n",
    "\n",
    "print('The thresholded image has {} pixel groups'.format(pixel_group_count))\n"
   ]
  },
  {
   "cell_type": "markdown",
   "metadata": {},
   "source": [
    "-------- Record the pixel counts here ----------------\n",
    "\n",
    "* 3x3 - \n",
    "* 5x5 - \n",
    "* 11x11 - \n",
    "* 21x21 - "
   ]
  },
  {
   "cell_type": "markdown",
   "metadata": {},
   "source": [
    "#### What is you observation on the pixel group counts on increasing the window size?"
   ]
  },
  {
   "cell_type": "markdown",
   "metadata": {},
   "source": [
    "------ Write your observations here--------\n",
    "\n"
   ]
  },
  {
   "cell_type": "markdown",
   "metadata": {},
   "source": [
    "****\n",
    "# Save your Notebook\n",
    "## Then, File > Close and Halt"
   ]
  }
 ],
 "metadata": {
  "kernelspec": {
   "display_name": "Python 3",
   "language": "python",
   "name": "python3"
  },
  "language_info": {
   "codemirror_mode": {
    "name": "ipython",
    "version": 3
   },
   "file_extension": ".py",
   "mimetype": "text/x-python",
   "name": "python",
   "nbconvert_exporter": "python",
   "pygments_lexer": "ipython3",
   "version": "3.4.5"
  }
 },
 "nbformat": 4,
 "nbformat_minor": 2
}
