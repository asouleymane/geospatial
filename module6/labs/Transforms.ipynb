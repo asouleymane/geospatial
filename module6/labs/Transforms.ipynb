{
 "cells": [
  {
   "cell_type": "markdown",
   "metadata": {},
   "source": [
    "## Transforms\n",
    "\n",
    "Raster transformations are the operations that maps pixels of a source raster to a destination raster with an associated coordinate reference systems. The CRSs of source and destination raster may or may not be different.\n",
    "\n",
    "To perform transformations we will use a Landsat-8 dataset in this lab. \n",
    "It is publicly accessible at https://landsat-pds.s3.amazonaws.com/L8/042/034/LC80420342013156LGN00/index.html\n",
    "\n",
    "More information on Landsat-8 can be found [here](https://landsat.usgs.gov/landsat-collections). \n",
    "We will be using two bands of the scene, red and near-infrared for the rest of the labs. \n",
    "\n",
    "##### Obtaining the red and near-infrared bands of Landsat-8 collection"
   ]
  },
  {
   "cell_type": "code",
   "execution_count": null,
   "metadata": {
    "collapsed": true
   },
   "outputs": [],
   "source": [
    "###############-----------------------------\n",
    "### Obtaining red and near-infrared bands\n",
    "############## -----------------------------\n",
    "\n",
    "import urllib.request\n",
    "import shutil\n",
    "from pathlib import Path\n",
    "\n",
    "RED_BAND_URL = 'https://landsat-pds.s3.amazonaws.com/L8/042/034/LC80420342013156LGN00/LC80420342013156LGN00_B4.TIF'\n",
    "local_file_name = 'redband.TIF'\n",
    "\n",
    "file_path = Path('../temp/')\n",
    "file_path /= local_file_name\n",
    "\n",
    "with urllib.request.urlopen(RED_BAND_URL) as response, file_path.open(mode='w+b') as outfile:\n",
    "    shutil.copyfileobj(response, outfile)\n",
    "\n",
    "NIR_BAND_URL = 'https://landsat-pds.s3.amazonaws.com/L8/042/034/LC80420342013156LGN00/LC80420342013156LGN00_B5.TIF'\n",
    "local_file_name = 'nearIRband.TIF'\n",
    "\n",
    "file_path = Path('../temp/')\n",
    "file_path /= local_file_name\n",
    "\n",
    "with urllib.request.urlopen(NIR_BAND_URL) as response, file_path.open(mode='w+b') as outfile:\n",
    "    shutil.copyfileobj(response, outfile)"
   ]
  },
  {
   "cell_type": "markdown",
   "metadata": {},
   "source": [
    "##### Load raster data files\n",
    "\n",
    "Let's load the raster files that we obtained in the previous step and visualize them."
   ]
  },
  {
   "cell_type": "code",
   "execution_count": null,
   "metadata": {
    "collapsed": true
   },
   "outputs": [],
   "source": [
    "###############-----------------------------\n",
    "### Loading\n",
    "############## -----------------------------\n",
    "\n",
    "import rasterio\n",
    "import numpy as np\n",
    "from pprint import pprint\n",
    "import time\n",
    "\n",
    "# start = time.time()\n",
    "\n",
    "with rasterio.open('../temp/redband.TIF') as src:\n",
    "    redband = src.read()\n",
    "\n",
    "with rasterio.open('../temp/nearIRband.TIF') as src:\n",
    "    nirband = src.read()\n",
    "    \n",
    "# end = time.time()\n",
    "# print(\"It took {} milli-seconds to load the raster files\".format((end-start)*1000))"
   ]
  },
  {
   "cell_type": "code",
   "execution_count": null,
   "metadata": {
    "scrolled": false
   },
   "outputs": [],
   "source": [
    "###############-----------------------------\n",
    "### Visualizing\n",
    "############## -----------------------------\n",
    "\n",
    "from rasterio.plot import show\n",
    "import matplotlib.pyplot as plt\n",
    "\n",
    "%matplotlib inline\n",
    "\n",
    "# start = time.time()\n",
    "\n",
    "fig = plt.figure(figsize= (6,6))\n",
    "rasterio.plot.show(redband)\n",
    "\n",
    "fig = plt.figure(figsize= (6,6))\n",
    "rasterio.plot.show(nirband)\n",
    "# end = time.time()\n",
    "# print(\"It took {} milli-seconds to display the raster files\".format((end-start)*1000))"
   ]
  },
  {
   "cell_type": "markdown",
   "metadata": {},
   "source": [
    "Your images should look like below.\n",
    "\n",
    "![Red_NIR_bands_original.png MISSING](../images/Red_NIR_bands_original.png)\n",
    "\n",
    "---\n"
   ]
  },
  {
   "cell_type": "markdown",
   "metadata": {},
   "source": [
    "Looks like it took a good amount of time to load and visualize rasters. Uncomment the lines\n",
    "``` python\n",
    "#start = time.time()\n",
    "........\n",
    "#end = time.time()\n",
    "#print(\"...\".format((end-start)*1000))\n",
    "```\n",
    "\n",
    "in the above to cells to measure the time in milli-seconds and record the time."
   ]
  },
  {
   "cell_type": "markdown",
   "metadata": {},
   "source": [
    "### Why did it take so long? \n",
    "\n",
    "To understand the reason, let's check the size of each raster image."
   ]
  },
  {
   "cell_type": "code",
   "execution_count": null,
   "metadata": {},
   "outputs": [],
   "source": [
    "print(redband.shape)\n",
    "print(nirband.shape)"
   ]
  },
  {
   "cell_type": "markdown",
   "metadata": {},
   "source": [
    "Now you see the reason, the images are of size (1&times;7531&times;7711, i.e., 58 Megapixels), which is why it took so long to render the images. \n",
    "It takes a long time to perfom any operation on such large images. \n",
    "\n",
    "So, the transformation that we will be learning in this lab is to reduce the size of image, \n",
    "while maintaining the resemblance with the original image. \n",
    "This is the **downsampling** transformation.\n",
    "\n",
    "#### Downsampling\n",
    "Downsampling is the process of converting high-resolution rasterdata (images) into lower-resolution images.\n",
    "The following code presents the simplest way to downsample raster images using `rasterio`. \n",
    "As the images are of size (1&times;7531&times;7711), we shall reduce it to (1&times;753&times;771)"
   ]
  },
  {
   "cell_type": "code",
   "execution_count": null,
   "metadata": {},
   "outputs": [],
   "source": [
    "import rasterio\n",
    "import numpy as np\n",
    "\n",
    "# Create an empty NumPy ND-array of the specified size and with the Unsigned Integer, 16-bit datatype\n",
    "redband = np.empty(shape=(1,753,771), dtype = np.uint16)\n",
    "nirband = np.empty(shape=(1,753,771), dtype = np.uint16)\n",
    "with rasterio.open('../temp/redband.TIF') as src:\n",
    "    # Note, we provide a container to receive the data\n",
    "    src.read(out = redband)\n",
    "\n",
    "with rasterio.open('../temp/nearIRband.TIF') as src:\n",
    "    # Note, we provide a container to receive the data\n",
    "    src.read(out= nirband)"
   ]
  },
  {
   "cell_type": "markdown",
   "metadata": {},
   "source": [
    "To get an idea of performance gain, let's `time` the visualization code."
   ]
  },
  {
   "cell_type": "code",
   "execution_count": null,
   "metadata": {
    "scrolled": false
   },
   "outputs": [],
   "source": [
    "from rasterio.plot import show\n",
    "import matplotlib.pyplot as plt\n",
    "\n",
    "%matplotlib inline\n",
    "\n",
    "start = time.time()\n",
    "\n",
    "fig = plt.figure(figsize= (6,6))\n",
    "rasterio.plot.show(redband)\n",
    "\n",
    "fig = plt.figure(figsize=(6,6))\n",
    "rasterio.plot.show(nirband)\n",
    "\n",
    "end = time.time()\n",
    "print(\"It took {} milli-seconds to display the raster files\".format((end-start)*1000))"
   ]
  },
  {
   "cell_type": "markdown",
   "metadata": {},
   "source": [
    "From now on, we would be dealing with the downsampled images. \n",
    "Here we present another way of downsampling raster data, and save the downsampled images to the `temp` folder.\n",
    "\n",
    "In the code, we create a new empty array `downsampled` to store the downsampled version of the original image, \n",
    "set its height and width to 1/10<sup>th</sup> of the height and widths of the original image. \n",
    "\n",
    "_Note: The type of variables `redband` and `downsampled` has to match. In our case, both of them are of `uint16`._"
   ]
  },
  {
   "cell_type": "code",
   "execution_count": null,
   "metadata": {
    "collapsed": true
   },
   "outputs": [],
   "source": [
    "from rasterio import Affine\n",
    "from rasterio.warp import reproject,RESAMPLING\n",
    "import numpy as np\n",
    "%matplotlib inline\n",
    "\n",
    "src = rasterio.open('../temp/redband.TIF')\n",
    "redband = src.read()\n",
    "height = round(redband.shape[1]/10)\n",
    "width = round(redband.shape[2]/10)\n",
    "downsampled = np.empty(shape = (redband.shape[0], height, width), dtype = np.uint16)\n"
   ]
  },
  {
   "cell_type": "markdown",
   "metadata": {},
   "source": [
    "Before we proceed with the downsampling, let's inspect and understand the transform property of source raster."
   ]
  },
  {
   "cell_type": "code",
   "execution_count": null,
   "metadata": {
    "scrolled": true
   },
   "outputs": [],
   "source": [
    "print(src.transform)"
   ]
  },
  {
   "cell_type": "markdown",
   "metadata": {},
   "source": [
    "The transform is a tuple of 6 numbers, \n",
    "the first and fourth corresponds to the world coordinates of top left corner pixel of the raster data. \n",
    "Second and sixth represents the resolution. \n",
    "In this case, the raster has a resolution of 30m in height and width.\n",
    "\n",
    "**Note:** The negative 30 is because in Image coordinates, Y gets larger as you move from Top-Left downward.\n",
    "However, in geographic and mathematical coordinate spaces, the Y gets larger as you move upward.\n",
    "\n",
    "When we try to reduce the size of the raster data, \n",
    "the world coordinates of the top left corner stays the same, only the resolution changes. \n",
    "As we are reducing the size by 10 in both `x` and `y` directions, the resolution has to increase by 10,\n",
    "i.e., the downsampled image should have a resolution of 300m in `x` and `y` directions."
   ]
  },
  {
   "cell_type": "code",
   "execution_count": null,
   "metadata": {},
   "outputs": [],
   "source": [
    "dst_transform = src.transform.copy()\n",
    "\n",
    "dst_transform[1] = dst_transform[1]*10\n",
    "dst_transform[5] = dst_transform[5]*10\n",
    "\n",
    "print(dst_transform)"
   ]
  },
  {
   "cell_type": "markdown",
   "metadata": {},
   "source": [
    "We use [`reproject()`](https://mapbox.s3.amazonaws.com/playground/perrygeo/rasterio-docs/reproject.html) method to perform this transformation and visualize the downsampled raster."
   ]
  },
  {
   "cell_type": "code",
   "execution_count": null,
   "metadata": {
    "scrolled": false
   },
   "outputs": [],
   "source": [
    "reproject(\n",
    "    redband, \n",
    "    downsampled,\n",
    "    src_transform = src.transform,\n",
    "    src_crs = src.crs,\n",
    "    dst_transform = dst_transform,\n",
    "    dst_crs = src.crs,\n",
    "    resampling = RESAMPLING.nearest)\n",
    "\n",
    "fig = plt.figure(figsize=(6,6))\n",
    "rasterio.plot.show(downsampled)"
   ]
  },
  {
   "cell_type": "markdown",
   "metadata": {},
   "source": [
    "We can then write the downsampled raster image to disk.\n",
    "\n",
    "**Note:** _The downsampled version of raster images are used in next labs._"
   ]
  },
  {
   "cell_type": "code",
   "execution_count": null,
   "metadata": {
    "scrolled": true
   },
   "outputs": [],
   "source": [
    "kwargs = src.meta.copy()\n",
    "kwargs.update({\n",
    "    'crs': src.crs,\n",
    "    'transform': dst_transform,\n",
    "    'width' : width,\n",
    "    'height': height\n",
    "})\n",
    "\n",
    "with rasterio.open('../temp/redband_downsampled.TIF','w', **kwargs) as dst:\n",
    "    reproject(\n",
    "        source = rasterio.band(src,1), \n",
    "        destination = rasterio.band(dst,1),\n",
    "        src_transform = src.transform,\n",
    "        src_crs = src.crs,\n",
    "        dst_transform = dst_transform,\n",
    "        dst_crs = src.crs,\n",
    "        resampling = RESAMPLING.nearest)\n",
    "    "
   ]
  },
  {
   "cell_type": "markdown",
   "metadata": {},
   "source": [
    "Load and visualize the downsampled raster to make sure it resembles the original raster."
   ]
  },
  {
   "cell_type": "code",
   "execution_count": null,
   "metadata": {},
   "outputs": [],
   "source": [
    "with rasterio.open('../temp/redband_downsampled.TIF') as src:\n",
    "    fig = plt.figure(figsize = (6,6))\n",
    "    rasterio.plot.show(src.read())"
   ]
  },
  {
   "cell_type": "markdown",
   "metadata": {},
   "source": [
    "### Down sample the `nearIRband.TIF` following the above procedure and save it as `nearIRband_downsampled.TIF`.\n",
    "****"
   ]
  },
  {
   "cell_type": "code",
   "execution_count": null,
   "metadata": {
    "collapsed": true
   },
   "outputs": [],
   "source": [
    "from rasterio import Affine\n",
    "from rasterio.warp import reproject,RESAMPLING\n",
    "import numpy as np\n",
    "%matplotlib inline\n",
    "\n",
    "src = rasterio.open('../temp/nearIRband.TIF')\n",
    "nirband = src.read()\n",
    "height = round(nirband.shape[1]/10)  \n",
    "width = round(nirband.shape[2]/10)   \n",
    "downsampled = np.empty(shape = (nirband.shape[0], height, width), dtype = np.uint16)\n"
   ]
  },
  {
   "cell_type": "code",
   "execution_count": null,
   "metadata": {},
   "outputs": [],
   "source": [
    "dst_transform = src.transform.copy()\n",
    "\n",
    "dst_transform[1] = dst_transform[1]*10\n",
    "dst_transform[5] = dst_transform[5]*10\n"
   ]
  },
  {
   "cell_type": "code",
   "execution_count": null,
   "metadata": {},
   "outputs": [],
   "source": [
    "kwargs = src.meta.copy()\n",
    "kwargs.update({\n",
    "    'crs': src.crs,\n",
    "    'transform': dst_transform,\n",
    "    'width' : width,\n",
    "    'height': height\n",
    "})\n",
    "\n",
    "with rasterio.open('../temp/nearIRband_downsampled.TIF','w', **kwargs) as dst:\n",
    "    reproject(\n",
    "        source = rasterio.band(src,1), \n",
    "        destination = rasterio.band(dst,1),\n",
    "        src_transform = src.transform,\n",
    "        src_crs = src.crs,\n",
    "        dst_transform = dst_transform,\n",
    "        dst_crs = src.crs,\n",
    "        resampling = RESAMPLING.nearest)\n",
    "    "
   ]
  },
  {
   "cell_type": "code",
   "execution_count": null,
   "metadata": {},
   "outputs": [],
   "source": [
    "with rasterio.open('../temp/nearIRband_downsampled.TIF') as src:\n",
    "    fig = plt.figure(figsize = (6,6))\n",
    "    rasterio.plot.show(src.read())"
   ]
  },
  {
   "cell_type": "markdown",
   "metadata": {},
   "source": [
    "****\n",
    "# Save your Notebook\n",
    "## Then, File > Close and Halt"
   ]
  }
 ],
 "metadata": {
  "kernelspec": {
   "display_name": "Python 3",
   "language": "python",
   "name": "python3"
  },
  "language_info": {
   "codemirror_mode": {
    "name": "ipython",
    "version": 3
   },
   "file_extension": ".py",
   "mimetype": "text/x-python",
   "name": "python",
   "nbconvert_exporter": "python",
   "pygments_lexer": "ipython3",
   "version": "3.4.5"
  }
 },
 "nbformat": 4,
 "nbformat_minor": 2
}
