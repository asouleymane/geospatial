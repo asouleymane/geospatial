{
 "cells": [
  {
   "cell_type": "markdown",
   "metadata": {},
   "source": [
    "## Raster Algorithms\n",
    "\n",
    "In previous lab, we have looked at band math and calculated [NDVI](https://en.wikipedia.org/wiki/Normalized_difference_vegetation_index) \n",
    "for Landsat-8 imagery using red and near infrared bands. \n",
    "In this lab, we walk you through a few raster data algorithms. \n",
    "Some of these algorithms can be applied not only to geospatial raster data but any type of image data. \n",
    "\n",
    "Before we start with any of the raster algorithms, let's recalculate the **NDVI** from red and near infrared bands.\n",
    "\n",
    "**Note:** We are processing the downsampled bands you created in a prior lab, [Transforms](./Transforms.ipynb)."
   ]
  },
  {
   "cell_type": "code",
   "execution_count": null,
   "metadata": {
    "scrolled": false
   },
   "outputs": [],
   "source": [
    "import rasterio\n",
    "import numpy as np\n",
    "from rasterio.plot import show\n",
    "import matplotlib.pyplot as plt\n",
    "\n",
    "%matplotlib inline\n",
    "\n",
    "\n",
    "with rasterio.open('../temp/redband_downsampled.TIF') as band1:\n",
    "    redband = band1.read()\n",
    "\n",
    "with rasterio.open('../temp/nearIRband_downsampled.TIF') as band2:\n",
    "       nirband = band2.read()\n",
    "\n",
    "nirband = nirband.astype(np.float64)\n",
    "redband = redband.astype(np.float64)\n",
    "ndvi = (nirband - redband)/(nirband + redband+0.0000000001) # +0.0000000001 is to avoid 0/0\n",
    "        \n",
    "fig = plt.figure(figsize=(6,6))\n",
    "rasterio.plot.show(ndvi, cmap ='YlGn')"
   ]
  },
  {
   "cell_type": "markdown",
   "metadata": {},
   "source": [
    "The first raster algorithm we are going to learn, thresholding, makes it possible to visualize only the pixels with high presence of live green vegetation.\n",
    "\n",
    "### Thresholding\n",
    "\n",
    "The simple [thresholding](https://en.wikipedia.org/wiki/Thresholding_%28image_processing%29) is a method that replaces each pixel in an image with a black pixel if the pixel value is is less than some fixed constant _T_ or a white pixel if the image intensity is greater than that constant. \n",
    "\n",
    "So, we can threshold the NDVI to obtain areas with live green vegetation."
   ]
  },
  {
   "cell_type": "markdown",
   "metadata": {},
   "source": [
    "From previous section, we know that areas containing a dense vegetation will tend to have positive values \n",
    "(say 0.3 to 0.8).\n",
    "To isolate the areas contaning vegetation from others, \n",
    "we threshold the NDVI index i.e. we set a pixel with NDVI value >=0.3 to 1 and < 0.3 to 0 i.e. _T=0.3_."
   ]
  },
  {
   "cell_type": "code",
   "execution_count": null,
   "metadata": {
    "scrolled": false
   },
   "outputs": [],
   "source": [
    "ndvi[np.where(ndvi>=0.3)] = 1\n",
    "ndvi[np.where(ndvi<0.3)] = 0\n",
    "fig = plt.figure(figsize = (6,6))\n",
    "rasterio.plot.show(ndvi)\n"
   ]
  },
  {
   "cell_type": "markdown",
   "metadata": {},
   "source": [
    "In the above image, we have set the pixels with NDVI value >=0.3 to 1 and < 0.3 to 0. It can be observed that the coastal area accomodates most of the green vegetation. Apart from that, there are a few little islands of pixels that also contain some vegetation. \n",
    "\n",
    "---\n",
    "\n",
    "Let's say we want to calculate the area of major vegetative fields. \n",
    "We can find the [convex hull](https://en.wikipedia.org/wiki/Convex_hull) that can highlight the major vegetative areas and find their geometrical area. \n",
    "In our case, we have 2 such areas, one in the center of the image, the other in the lower left corner. \n",
    "If we try to inclue all of the little islands, in our convex hull, then the area of convex hull would be an overestimation of actual vegetative area.\n",
    "\n",
    "To get a reasonable approximation of vegetative area, \n",
    "we have to get rid of those little islands. This is where raster algorithms are applicable. \n",
    "We first clean the raster image by removing the small vegetative areas, and then calculate NDVI.\n",
    "\n",
    "We use a specific algorithm called _Median Filtering_ to clean raster images."
   ]
  },
  {
   "cell_type": "markdown",
   "metadata": {},
   "source": [
    "## Median Filtering\n",
    "\n",
    "The [median filtering](https://en.wikipedia.org/wiki/Median_filter) is a digital image processing technique, \n",
    "often used to remove noise from an image. \n",
    "Such noise reduction is a typical pre-processing step to improve the results of later processing. \n",
    "\n",
    "The main idea of the median filter is to run through the image from pixel to pixel and replace its value with the median of neighboring pixels.\n",
    "\n",
    "Lets consider the below raster.\n",
    "\n",
    "<table border=1>\n",
    "<tr><td>50 </td><td> 50 </td><td> 50 </td><td> 50 </td><td> 50 </td></tr>\n",
    "<tr><td>50 </td><td> 50 </td><td> 50 </td><td> 50 </td><td> 50 </td></tr>\n",
    "<tr><td>50 </td><td style=\"border:1px solid black\"> 100 </td><td> 50 </td><td> 50 </td><td> 50 </td></tr>\n",
    "<tr><td>50 </td><td> 50 </td><td> 50 </td><td> 50 </td><td> 50 </td></tr>\n",
    "<tr><td>50 </td><td> 50 </td><td> 50 </td><td> 50 </td><td> 50 </td></tr>\n",
    "</table>\n",
    "\n",
    "_Note that, every pixel has a value of 50, except one pixel which has a value of 100._"
   ]
  },
  {
   "cell_type": "markdown",
   "metadata": {},
   "source": [
    "A neighborhood is a set of pixels surrounding a pixels. \n",
    "Every pixel in the 3&times;3 matrix with highlighted borders is a neighbor of the center pixel. Here the center pixel is the pixel with the value `100`.\n",
    "\n",
    "<table >\n",
    "<tr><td>50 </td><td> 50 </td><td> 50 </td><td> 50 </td><td> 50 </td></tr>\n",
    "<tr><td style=\"border:1px solid black\">50 </td><td style=\"border:1px solid black\"> 50 </td><td style=\"border:1px solid black\"> 50 </td><td> 50 </td><td> 50 </td></tr>\n",
    "<tr><td style=\"border:1px solid black\">50 </td><td style=\"border:1px solid black\"> 100 </td><td style=\"border:1px solid black\"> 50 </td><td> 50 </td><td> 50 </td></tr>\n",
    "<tr><td style=\"border:1px solid black\">50 </td><td style=\"border:1px solid black\"> 50 </td><td style=\"border:1px solid black\"> 50 </td><td> 50 </td><td> 50 </td></tr>\n",
    "<tr><td>50 </td><td> 50 </td><td> 50 </td><td> 50 </td><td> 50 </td></tr>\n",
    "</table>\n"
   ]
  },
  {
   "cell_type": "markdown",
   "metadata": {},
   "source": [
    "In median filtering, we sort the values of the highlighted 3&times;3 matrix i.e.\n",
    "<table>\n",
    "<tr><td style=\"border:1px solid black\">50 </td><td style=\"border:1px solid black\"> 50 </td><td style=\"border:1px solid black\"> 50 </td>\n",
    "<tr><td style=\"border:1px solid black\">50 </td><td style=\"border:1px solid black\"> 100 </td><td style=\"border:1px solid black\"> 50 </td>\n",
    "<tr><td style=\"border:1px solid black\">50 </td><td style=\"border:1px solid black\"> 50 </td><td style=\"border:1px solid black\"> 50 </td>\n",
    "</table>\n",
    "Original values: 50,50,50,50,100,50,50,50,50\n",
    "\n",
    "sorted values : 50,50,50,50,50,50,50,50,100\n",
    "\n",
    "Median: 50\n"
   ]
  },
  {
   "cell_type": "markdown",
   "metadata": {},
   "source": [
    "\n",
    "\n",
    "The value of the central pixel is replace with the median value of its neighbors. So the 100 is replaced with 50.\n",
    "\n",
    "<table border=1>\n",
    "<tr><td>50 </td><td> 50 </td><td> 50 </td><td> 50 </td><td> 50 </td></tr>\n",
    "<tr><td>50 </td><td> 50 </td><td> 50 </td><td> 50 </td><td> 50 </td></tr>\n",
    "<tr><td>50 </td><td style=\"border:1px solid black\"> 50 </td><td> 50 </td><td> 50 </td><td> 50 </td></tr>\n",
    "<tr><td>50 </td><td> 50 </td><td> 50 </td><td> 50 </td><td> 50 </td></tr>\n",
    "<tr><td>50 </td><td> 50 </td><td> 50 </td><td> 50 </td><td> 50 </td></tr>\n",
    "</table>\n",
    "\n",
    "In our case, we have few isolated pixels with high NDVI value, surrounded by background (pixels with low NDVI value). \n",
    "So, to get rid of the isolated pixels, median filtering is performed below with a window or matrix of size (7&times;7).\n",
    "\n",
    "We will leverage code already created for this operation, namely the median filter from \n",
    "[SciPy - Signal Processing](https://docs.scipy.org/doc/scipy/reference/signal.html)."
   ]
  },
  {
   "cell_type": "code",
   "execution_count": null,
   "metadata": {
    "scrolled": false
   },
   "outputs": [],
   "source": [
    "# See : https://docs.scipy.org/doc/scipy/reference/signal.html\n",
    "from scipy.signal import medfilt\n",
    "%matplotlib inline\n",
    "\n",
    "redband = medfilt(redband, (1,7,7))\n",
    "nirband = medfilt(nirband, (1,7,7))\n",
    "\n",
    "nirband = nirband.astype(np.float64)\n",
    "redband = redband.astype(np.float64)\n",
    "ndvi = (nirband - redband)/(nirband + redband+0.0000000001)\n",
    "\n",
    "fig = plt.figure(figsize=(6,6))\n",
    "rasterio.plot.show(ndvi, cmap ='YlGn')\n"
   ]
  },
  {
   "cell_type": "markdown",
   "metadata": {},
   "source": [
    "Let's threshold the obtained image to find major vegetative areas."
   ]
  },
  {
   "cell_type": "code",
   "execution_count": null,
   "metadata": {},
   "outputs": [],
   "source": [
    "ndvi[np.where(ndvi>=0.3)] = 1\n",
    "ndvi[np.where(ndvi<0.3)] = 0\n",
    "fig = plt.figure(figsize = (6,6))\n",
    "rasterio.plot.show(ndvi)"
   ]
  },
  {
   "cell_type": "markdown",
   "metadata": {},
   "source": [
    "Comparing the above image with the one obtained previously shows that there are very few isolated foreground (pixels with high ndvi value). \n",
    "You can change the window size from (1,7,7) to (1,11,11) or (1,21,21) or (1,3,3) in \n",
    "\n",
    "``` python\n",
    "redband = medfilt(redband, (1,7,7))\n",
    "nirband = medfilt(nirband, (1,7,7))\n",
    "```\n",
    "and observe the different thresholding results.\n"
   ]
  },
  {
   "cell_type": "markdown",
   "metadata": {},
   "source": [
    "# Save your Notebook\n",
    "## Then, Close and Halt"
   ]
  }
 ],
 "metadata": {
  "kernelspec": {
   "display_name": "Python 3",
   "language": "python",
   "name": "python3"
  },
  "language_info": {
   "codemirror_mode": {
    "name": "ipython",
    "version": 3
   },
   "file_extension": ".py",
   "mimetype": "text/x-python",
   "name": "python",
   "nbconvert_exporter": "python",
   "pygments_lexer": "ipython3",
   "version": "3.4.5"
  }
 },
 "nbformat": 4,
 "nbformat_minor": 2
}
