{
 "cells": [
  {
   "cell_type": "markdown",
   "metadata": {},
   "source": [
    "# Pixel Access and Cropping\n",
    "\n",
    "Recall that pixels represent an ordered collection of measurements from a particular small region of Earth.\n",
    "Each band is a particular measurement and all pixels, for a particular band, have the same _data_ being measured by that band.\n",
    "For example, in a color image of Earth, the first band typically measures the amount of light in the _red wavelength_ range.\n",
    "That is the Red band, followed by Green and Blue.\n",
    "\n",
    "Based on the ground sample distance (GSD) of pixels, any particular sub-raster (AKA tile, chip, sub-image) from a larger image covers an area of Earth that is a subset of the Earth from the larger raster.\n",
    "In this lab, we will access individual pixels and sub-rasters, as well as compute their coverage."
   ]
  },
  {
   "cell_type": "code",
   "execution_count": null,
   "metadata": {},
   "outputs": [],
   "source": [
    "###############-----------------------------\n",
    "### Loading and Basic Visualization\n",
    "############## -----------------------------\n",
    "\n",
    "import rasterio\n",
    "import numpy as np\n",
    "%matplotlib inline\n",
    "from rasterio.plot import show\n",
    "\n",
    "# Open, and visualize with a little Band and Datatype information\n",
    "with rasterio.open('/dsa/data/all_datasets/rasters/NED10Meter.tif') as raster_data:\n",
    "    print(\"Number of bands: {}\".format(raster_data.count))\n",
    "    print(\"Data Types: {}\".format(raster_data.dtypes))\n",
    "    \n",
    "    band1 = raster_data.read(1)\n",
    "    rasterio.plot.show(band1, cmap='Greys')"
   ]
  },
  {
   "cell_type": "markdown",
   "metadata": {},
   "source": [
    "## Examine the Spatial Characteristics"
   ]
  },
  {
   "cell_type": "code",
   "execution_count": null,
   "metadata": {},
   "outputs": [],
   "source": [
    "print(raster_data.crs)\n",
    "print(\" ------------\")\n",
    "print(raster_data.crs.wkt)"
   ]
  },
  {
   "cell_type": "code",
   "execution_count": null,
   "metadata": {},
   "outputs": [],
   "source": [
    "raster_data.bounds"
   ]
  },
  {
   "cell_type": "markdown",
   "metadata": {},
   "source": [
    "We see that this image is in \"UTM zone 13N\" and that the Top-Left position is expected to be:   \n",
    "`(X=467810.81 , Y=4399871.96)`\n",
    "\n",
    "In the CRS, we see the unit of measure is: `UNIT[\"metre\",1,AUTHORITY[\"EPSG\",\"9001\"]]` ... meaning meters!\n",
    "\n",
    "So, the Upper-Left is over 467 KM away (to the right) from the centeral meridian (center vertical line) of the projection. \n",
    "It is also nearly 440 KM north of the projection's equator (center horizontal line).\n",
    "\n",
    "---\n",
    "\n",
    "## Affine Transform\n",
    "The Affine Transform maps a raster's pixels from pixel cooridinate space (X,Y) with Y growing larger as you move down the raster to CRS coordinates (typically Y growing larger as you move North).\n",
    " * (More Mathy) - http://mathworld.wolfram.com/AffineTransformation.html\n",
    " * (Slightly Less Mathy) - https://en.wikipedia.org/wiki/Affine_transformation\n"
   ]
  },
  {
   "cell_type": "code",
   "execution_count": null,
   "metadata": {},
   "outputs": [],
   "source": [
    "print(raster_data.affine)"
   ]
  },
  {
   "cell_type": "markdown",
   "metadata": {},
   "source": [
    "The affine transform matrix allow us to use simple Python math operations to determine the position of a pixel on Earth that is selected from the raster.\n",
    "\n",
    "\n",
    "You will notice in the affine matrix above that the Upper-Left is represented as the first two rows of the right-most column.\n",
    "Therefore, if we multiply the raster size by the affine, e.g., `affine * size`, we should get the lower-right coordinates."
   ]
  },
  {
   "cell_type": "code",
   "execution_count": null,
   "metadata": {},
   "outputs": [],
   "source": [
    "raster_dims_xy = (raster_data.width, raster_data.height)\n",
    "\n",
    "print(\"Compare Raster Dims from Above: {}\".format(raster_dims_xy))\n",
    "print(\"---------------------------------------------------------\")\n",
    "print(\"To Internal Raster Shape: {}\".format(raster_data.shape))\n"
   ]
  },
  {
   "cell_type": "markdown",
   "metadata": {},
   "source": [
    "#### Note: In square rasters this is not a problem, however under the hood the RasterIO library is using NumPy ND-Arrays and so major (first) index is Y or Row, not X or Column. "
   ]
  },
  {
   "cell_type": "code",
   "execution_count": null,
   "metadata": {},
   "outputs": [],
   "source": [
    "lower_right = raster_data.affine * raster_dims_xy\n",
    "print(\"Lower-Right: {}\".format(lower_right))\n",
    "\n",
    "print(\"----------- COMPARE TO BOUNDS ------------------------\")\n",
    "print(raster_data.bounds)"
   ]
  },
  {
   "cell_type": "markdown",
   "metadata": {},
   "source": [
    "So, if I want to know the position of the center (approximate)"
   ]
  },
  {
   "cell_type": "code",
   "execution_count": null,
   "metadata": {},
   "outputs": [],
   "source": [
    "raster_center_xy = (raster_data.width/2, raster_data.height/2)\n",
    "center = raster_data.affine * raster_center_xy\n",
    "print(\"Center: {}\".format(center))"
   ]
  },
  {
   "cell_type": "markdown",
   "metadata": {},
   "source": [
    "## Reading values from the Raster\n",
    "\n",
    "Any arbitrary pixel or window of pixels (sub-raster) can be accessed from the raster.\n",
    "This can be done in two ways:\n",
    " 1. Loading all the data, accessing the band, then using NumPy indexing to access values.\n",
    " 1. Using the RasterIO `window` options to pull out sub-rasters\n",
    " \n",
    "### NumPy pixel value access"
   ]
  },
  {
   "cell_type": "code",
   "execution_count": null,
   "metadata": {},
   "outputs": [],
   "source": [
    "# NumPy Sub-array access\n",
    "numpy_window = band1[256:768,256:768]\n",
    "\n",
    "\n",
    "rasterio.plot.show(numpy_window, cmap='Greys')"
   ]
  },
  {
   "cell_type": "code",
   "execution_count": null,
   "metadata": {},
   "outputs": [],
   "source": [
    "pixel_c = band1[512,512]\n",
    "print(\"Center-ish pixel value = {}\".format(pixel_c))\n",
    "\n",
    "pixel_other = band1[200,512]\n",
    "print(\"Other pixel value = {}\".format(pixel_other))\n"
   ]
  },
  {
   "cell_type": "markdown",
   "metadata": {},
   "source": [
    "### Sub-windows\n",
    "\n",
    "A window is defined as follows:  \n",
    "`((row_start, row_stop), (col_start, col_stop))`\n",
    "\n",
    "The window is then an argument to the RasterIO dataset's band reading function."
   ]
  },
  {
   "cell_type": "code",
   "execution_count": null,
   "metadata": {},
   "outputs": [],
   "source": [
    "# Center Cropping, Y\n",
    "y_size = raster_data.height\n",
    "y_chip_base = raster_data.height/4 # go 1/4 down\n",
    "y_chip_size = raster_data.height/2 # get sub-raster half height of original\n",
    "\n",
    "# Center Cropping, X\n",
    "x_size = raster_data.width\n",
    "x_chip_base = raster_data.width/4 # go 1/4 to the right\n",
    "x_chip_size = raster_data.width/2 # get sub-raster half width of original\n",
    "\n",
    "# Buid our Window from base of window plus window size\n",
    "y_range = (y_chip_base, y_chip_base + y_chip_size)  # defining a tuple\n",
    "x_range = (x_chip_base, x_chip_base + x_chip_size)  # definign a tuple\n",
    "\n",
    "subraster_window = (y_range, x_range)\n",
    "print(subraster_window)"
   ]
  },
  {
   "cell_type": "code",
   "execution_count": null,
   "metadata": {},
   "outputs": [],
   "source": [
    "with rasterio.open('/dsa/data/all_datasets/rasters/NED10Meter.tif') as raster_data:\n",
    "    window = raster_data.read(1, window=subraster_window )\n",
    "    print(window.shape)\n",
    "    rasterio.plot.show(window, cmap='Greys')"
   ]
  },
  {
   "cell_type": "markdown",
   "metadata": {},
   "source": [
    "### Ponder \n",
    "\n",
    "Geospatial raster files can exceed a billion pixels, e.g., a 1000 megapixel image.\n",
    "Often, this may be memory prohibitive on a computing system you are using.\n",
    "To get around the resource limits, you can use the Window-based access to rasters to read and then analyze/process/write a series of subrasters using Python loop constructs."
   ]
  },
  {
   "cell_type": "markdown",
   "metadata": {},
   "source": [
    "# Save your Notebook\n",
    "## Then, Close and Halt"
   ]
  },
  {
   "cell_type": "code",
   "execution_count": null,
   "metadata": {
    "collapsed": true
   },
   "outputs": [],
   "source": []
  }
 ],
 "metadata": {
  "kernelspec": {
   "display_name": "Python 3",
   "language": "python",
   "name": "python3"
  },
  "language_info": {
   "codemirror_mode": {
    "name": "ipython",
    "version": 3
   },
   "file_extension": ".py",
   "mimetype": "text/x-python",
   "name": "python",
   "nbconvert_exporter": "python",
   "pygments_lexer": "ipython3",
   "version": "3.4.5"
  }
 },
 "nbformat": 4,
 "nbformat_minor": 2
}
