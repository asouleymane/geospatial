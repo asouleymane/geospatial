{
 "cells": [
  {
   "cell_type": "markdown",
   "metadata": {},
   "source": [
    "## Band Math\n",
    "Band math deals with performing mathematical operations on bands of a raster. \n",
    "These operations could involve single band or multiple bands of the same raster. \n",
    "The results of operations are analyzed to draw conclusions. \n",
    "\n",
    "Let's look at some mathematical operations involving single band and multiple bands. "
   ]
  },
  {
   "cell_type": "markdown",
   "metadata": {},
   "source": [
    "### Single Band\n",
    "This section will demonstrate the usefulness of band math involving a single band. \n",
    "Before applying any algorithm on raster images, \n",
    "it is always good to know the statistics of each band, \n",
    "such as minimum, maximum and median values of the band. \n",
    "Calculating statistics is one of many band math operations involving single band. \n",
    "Other single band operations that we deal with in this course are thresholding. \n",
    "We shall discuss about thresholding in the later labs.\n",
    "\n",
    "Let's read the red band raster and calculate its mean, median, max and min values.\n",
    "\n",
    "**Note:** We are processing the downsampled bands you created in the prior lab, [Transforms](./Transforms.ipynb)."
   ]
  },
  {
   "cell_type": "code",
   "execution_count": null,
   "metadata": {},
   "outputs": [],
   "source": [
    "########---------------------\n",
    "### Reading pixel values from  red band\n",
    "########---------------------\n",
    "import rasterio\n",
    "import numpy as np\n",
    "from pprint import pprint\n",
    "\n",
    "with rasterio.open('../temp/redband_downsampled.TIF') as src:\n",
    "    redband = src.read()\n",
    "stats = []\n",
    "stats.append({\n",
    "        'min': redband.min(),\n",
    "        'mean': redband.mean(),\n",
    "        'median': np.median(redband),\n",
    "        'max': redband.max()})\n",
    "\n",
    "pprint(stats)"
   ]
  },
  {
   "cell_type": "markdown",
   "metadata": {},
   "source": [
    "From the statistics, it looks like the redband has a range of (63030), \n",
    "i.e., the values in the red band are in the range [0,57917].\n",
    "\n",
    "Let's check the statistics of near-infrared band raster"
   ]
  },
  {
   "cell_type": "code",
   "execution_count": null,
   "metadata": {},
   "outputs": [],
   "source": [
    "with rasterio.open('../temp/nearIRband_downsampled.TIF') as src:\n",
    "    nirband = src.read()\n",
    "stats = []\n",
    "stats.append({\n",
    "        'min': nirband.min(),\n",
    "        'mean': nirband.mean(),\n",
    "        'median': np.median(nirband),\n",
    "        'max': nirband.max()})\n",
    "\n",
    "pprint(stats)"
   ]
  },
  {
   "cell_type": "markdown",
   "metadata": {},
   "source": [
    "From the statistics, it looks like the NIR band has a range of (62160), i.e., \n",
    "the values in the NIR band are in the range [0,62160].\n",
    "\n",
    "So, the range is a bit different.\n",
    "In some cases it is desirable to have the same range for both the bands.\n",
    "Let's bring them into the range [0.0,1.0] using the below equation.\n",
    "\n",
    "\\begin{equation}\n",
    "X' = \\frac{X-min(X)}{max(X) - min(X)}\n",
    "\\end{equation}\n",
    "\n",
    "The process of mapping an image from its inital range to [0,1] is referred to as _<b>nornalization_."
   ]
  },
  {
   "cell_type": "code",
   "execution_count": null,
   "metadata": {
    "collapsed": true
   },
   "outputs": [],
   "source": [
    "redband = (redband - redband.min())/(redband.max() - redband.min())\n",
    "nirband = (nirband - nirband.min())/(nirband.max() - nirband.min())"
   ]
  },
  {
   "cell_type": "markdown",
   "metadata": {},
   "source": [
    "Now check the range of both the bands"
   ]
  },
  {
   "cell_type": "code",
   "execution_count": null,
   "metadata": {},
   "outputs": [],
   "source": [
    "stats = []\n",
    "\n",
    "stats.append({\n",
    "        'band': 'RED',\n",
    "        'min': redband.min(),\n",
    "        'mean': redband.mean(),\n",
    "        'median': np.median(redband),\n",
    "        'max': redband.max()})\n",
    "\n",
    "\n",
    "stats.append({\n",
    "        'band': 'NIR',\n",
    "        'min': nirband.min(),\n",
    "        'mean': nirband.mean(),\n",
    "        'median': np.median(nirband),\n",
    "        'max': nirband.max()})\n",
    "pprint(stats)"
   ]
  },
  {
   "cell_type": "markdown",
   "metadata": {},
   "source": [
    "Now that we have seen how band math is performed on single bands, let's move on to band math involving multiple bands.\n",
    "\n",
    "## Multiple Bands\n",
    "\n",
    "This section will demonstrate the usefulness of band math involving multiple bands. \n",
    "Specifically, we will calculate _Normalized Difference Vegetation Index_ (NDVI), \n",
    "an indicator of biomass, from different bands of a remote sensing image. \n",
    "\n",
    "### Normalized Difference Vegetation Index (NDVI) \n",
    "Normalized Difference Vegetation index ([NDVI](https://en.wikipedia.org/wiki/Normalized_difference_vegetation_index)) is a simple graphical indicator used to assess presence of live green vegetation in the area under observation.\n",
    "This calculation uses the Red and Near-Infrared (NIR) bands of a multispectral image dataset.\n",
    "\n",
    "**Note:** Recall from early school days, green plants are reflecting green wavelength light and absorbing other wavelengths.  In essence, we can measure the amount of NIR radiation reflected versus Red reflected.  The more Red absorbed, the less reflected.\n",
    "\n",
    "[Read more on NDVI](https://en.wikipedia.org/wiki/Normalized_difference_vegetation_index)\n",
    "\n",
    "#### Calculating NDVI"
   ]
  },
  {
   "cell_type": "markdown",
   "metadata": {},
   "source": [
    "Lets start out by\n",
    "* Reading the pixel values from both the rasters\n",
    "* Visualize bands\n",
    "* Calculating NDVI\n",
    "* Visualizing the NDVI values"
   ]
  },
  {
   "cell_type": "markdown",
   "metadata": {},
   "source": [
    "##### Reading the pixel values from both the rasters"
   ]
  },
  {
   "cell_type": "code",
   "execution_count": null,
   "metadata": {
    "collapsed": true,
    "scrolled": true
   },
   "outputs": [],
   "source": [
    "########---------------------\n",
    "### Reading pixel values from  red band\n",
    "########---------------------\n",
    "import rasterio\n",
    "\n",
    "with rasterio.open('../temp/redband_downsampled.TIF') as band1:\n",
    "    redband = band1.read()\n",
    "\n",
    "\n",
    "########---------------------\n",
    "### Reading pixel values from  near-infrared band\n",
    "########---------------------\n",
    "with rasterio.open('../temp/nearIRband_downsampled.TIF') as band2:\n",
    "       nirband = band2.read()"
   ]
  },
  {
   "cell_type": "code",
   "execution_count": null,
   "metadata": {},
   "outputs": [],
   "source": [
    "redband.max()"
   ]
  },
  {
   "cell_type": "code",
   "execution_count": null,
   "metadata": {},
   "outputs": [],
   "source": [
    "redband.dtype"
   ]
  },
  {
   "cell_type": "markdown",
   "metadata": {},
   "source": [
    "##### Visualize bands"
   ]
  },
  {
   "cell_type": "code",
   "execution_count": null,
   "metadata": {},
   "outputs": [],
   "source": [
    "########---------------------\n",
    "### Visualizing  red band\n",
    "########---------------------\n",
    "from rasterio.plot import show\n",
    "import matplotlib.pyplot as plt\n",
    "import numpy as np\n",
    "%matplotlib inline\n",
    "\n",
    "fig = plt.figure(figsize= (6,6))\n",
    "rasterio.plot.show(redband)"
   ]
  },
  {
   "cell_type": "code",
   "execution_count": null,
   "metadata": {
    "scrolled": false
   },
   "outputs": [],
   "source": [
    "########---------------------\n",
    "### Visualizing  near-infrared band\n",
    "########---------------------\n",
    "from rasterio.plot import show\n",
    "\n",
    "\n",
    "fig = plt.figure(figsize= (6,6))\n",
    "rasterio.plot.show(nirband)"
   ]
  },
  {
   "cell_type": "markdown",
   "metadata": {},
   "source": [
    "##### Calculating NDVI "
   ]
  },
  {
   "cell_type": "code",
   "execution_count": null,
   "metadata": {
    "collapsed": true
   },
   "outputs": [],
   "source": [
    "nirband = nirband.astype(np.float64)\n",
    "redband = redband.astype(np.float64)\n",
    "ndvi = (nirband - redband)/(nirband + redband+0.0000000001) # +0.0000000001 is to avoid 0/0"
   ]
  },
  {
   "cell_type": "markdown",
   "metadata": {},
   "source": [
    "##### Visualizing the NDVI values\n",
    "\n",
    "We shall visualize the NDVI obtained using `rasterio.plot.show()` with `YlGn` as colormap. \n",
    "Save the NDVI image obtained for future purposes.\n"
   ]
  },
  {
   "cell_type": "code",
   "execution_count": null,
   "metadata": {
    "scrolled": false
   },
   "outputs": [],
   "source": [
    "%matplotlib notebook\n",
    "%matplotlib notebook\n",
    "\n",
    "fig = plt.figure(figsize=(6,6))\n",
    "rasterio.plot.show(ndvi, cmap = 'YlGn')\n",
    "ndvi.min()"
   ]
  },
  {
   "cell_type": "markdown",
   "metadata": {},
   "source": [
    "Let's save the above image for future labs."
   ]
  },
  {
   "cell_type": "code",
   "execution_count": null,
   "metadata": {},
   "outputs": [],
   "source": [
    "src = rasterio.open('../temp/redband_downsampled.TIF')\n",
    "kwargs = src.meta.copy()\n",
    "kwargs.update({ 'dtype': rasterio.float64 })\n",
    "print(kwargs)"
   ]
  },
  {
   "cell_type": "code",
   "execution_count": null,
   "metadata": {},
   "outputs": [],
   "source": [
    "with rasterio.open('../temp/ndvi_downsampled_1.TIF','w', **kwargs) as dst:\n",
    "     dst.write(ndvi)"
   ]
  },
  {
   "cell_type": "code",
   "execution_count": null,
   "metadata": {},
   "outputs": [],
   "source": [
    "%matplotlib inline\n",
    "with rasterio.open('../temp/ndvi_downsampled_1.TIF') as src:\n",
    "    fig = plt.figure(figsize = (6,6))\n",
    "    rasterio.plot.show(src.read(),cmap = 'YlGn')"
   ]
  },
  {
   "cell_type": "markdown",
   "metadata": {},
   "source": [
    "### Analyzing NDVI image\n",
    "\n",
    "The NDVI values range from -1 to 1. The greener the area, the more the presence of live green vegetation. \n",
    "In general, \n",
    "* Areas containing a dense vegetation will tend to have positive values (say 0.3 to 0.8) \n",
    "* Clouds and snow fields will be characterized by negative values of this index.\n",
    "* Free standing water tend to have very low positive or even slightly negative NDVI values,\n",
    "* Soils also tend to generate small positive NDVI values (say 0.1 to 0.2).\n",
    "\n",
    ">According to the docs for [Landsat 8](https://landsat.usgs.gov/collectionqualityband), those blank areas around the edges should be ignored. Many raster datasets implement this with an optional nodata value."
   ]
  },
  {
   "cell_type": "markdown",
   "metadata": {},
   "source": [
    "Let's follow the above guidelines, and compare the original RGB image of the scene with the NDVI image."
   ]
  },
  {
   "cell_type": "code",
   "execution_count": null,
   "metadata": {
    "scrolled": true
   },
   "outputs": [],
   "source": [
    "import matplotlib.pyplot as plt\n",
    "\n",
    "%matplotlib notebook\n",
    "%matplotlib notebook\n",
    "\n",
    "original_image = ''\n",
    "with rasterio.open('/dsa/data/all_datasets/rasters/RGB.byte.tif') as data:\n",
    "    original_image = data.read()\n",
    "\n",
    "\n",
    "fig = plt.figure(figsize=(10,10))\n",
    "a = fig.add_subplot(1,2,1)\n",
    "a.set_title('Original RGB Image')\n",
    "rasterio.plot.show(original_image)\n",
    "a = fig.add_subplot(1,2,2)\n",
    "a.set_title('NDVI index image')\n",
    "rasterio.plot.show(ndvi, cmap = 'YlGn')\n"
   ]
  },
  {
   "cell_type": "markdown",
   "metadata": {},
   "source": [
    "If you observe the above images closely, the snow fields and clouds assume negative values, while water assumed small positive values. The area to the right of standing water has dense green vegetation.\n",
    "\n",
    "> As you can imagine one interesting application of such an index is to determine the presence of life on other planets."
   ]
  },
  {
   "cell_type": "markdown",
   "metadata": {},
   "source": [
    "### Save the NDVI image as `ndvi_downsampled.TIF` following the reprojection procedure from previous `Transforms.ipynb` lab.\n",
    "\n",
    "_Tips for saving NDVI_\n",
    "    1. Normalize the NDVI image to the range [0,1], its original range would be [-1,1]\n",
    "    2. After normalizing, convert it into the range [0,2^16 -1] by multiplying it with (2^16 -1)\n",
    "    \n",
    "Read the `ndvi_downsampled.tif` file and visualize the raster. It should look like below.\n",
    "\n",
    "![NDVI_raster.png MISSING](../images/NDVI_raster.png)"
   ]
  },
  {
   "cell_type": "code",
   "execution_count": null,
   "metadata": {},
   "outputs": [],
   "source": [
    "from rasterio.warp import reproject,RESAMPLING\n",
    "\n",
    "ndvi = (ndvi - ndvi.min())/(ndvi.max() - ndvi.min() + 0.00000000001)\n",
    "ndvi = (ndvi*(2**16 -1)).astype(np.uint16)\n",
    "with rasterio.open('../temp/redband_downsampled.TIF') as src:\n",
    "    kwargs = src.meta.copy()\n",
    "    kwargs.update({\n",
    "        'crs': src.crs,\n",
    "        'transform': src.transform,\n",
    "        'width' : src.width,\n",
    "        'height': src.height\n",
    "    })\n",
    "\n",
    "    with rasterio.open('../temp/ndvi_downsampled.TIF','w', **kwargs) as dst:\n",
    "        reproject(\n",
    "            source = ndvi, \n",
    "            destination = rasterio.band(dst,1),\n",
    "            src_transform = src.transform,\n",
    "            src_crs = src.crs,\n",
    "            dst_transform = src.transform,\n",
    "            dst_crs = src.crs,\n",
    "            resampling = RESAMPLING.nearest)"
   ]
  },
  {
   "cell_type": "code",
   "execution_count": null,
   "metadata": {},
   "outputs": [],
   "source": [
    "with rasterio.open('../temp/ndvi_downsampled.TIF') as ndvi_img:\n",
    "    \n",
    "    fig = plt.figure(figsize=(6,6))\n",
    "    rasterio.plot.show(ndvi_img.read())"
   ]
  },
  {
   "cell_type": "markdown",
   "metadata": {},
   "source": [
    "# Save your Notebook\n",
    "## Then, File > Close and Halt"
   ]
  }
 ],
 "metadata": {
  "kernelspec": {
   "display_name": "Python 3",
   "language": "python",
   "name": "python3"
  },
  "language_info": {
   "codemirror_mode": {
    "name": "ipython",
    "version": 3
   },
   "file_extension": ".py",
   "mimetype": "text/x-python",
   "name": "python",
   "nbconvert_exporter": "python",
   "pygments_lexer": "ipython3",
   "version": "3.4.5"
  }
 },
 "nbformat": 4,
 "nbformat_minor": 2
}
