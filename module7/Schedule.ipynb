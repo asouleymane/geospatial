{
 "cells": [
  {
   "cell_type": "markdown",
   "metadata": {},
   "source": [
    "# Module 7: Visualization"
   ]
  },
  {
   "cell_type": "markdown",
   "metadata": {},
   "source": [
    "## Module Topics\n",
    "\n",
    "  * Visualization\n"
   ]
  },
  {
   "cell_type": "markdown",
   "metadata": {},
   "source": [
    "## Readings\n",
    "  * [Leaflet.js Documentation](http://leafletjs.com/reference-1.3.0.html)\n",
    "  * [folium Documentation](http://python-visualization.github.io/folium/docs-v0.5.0/)\n",
    "  * [Design Considerations](https://www.wired.com/2014/10/cindy-brewer-map-design/)\n",
    "  * [Explore Color Brewer](http://colorbrewer2.org/)\n",
    "  * [Ten Things to Consider When Making a Map](https://www.gislounge.com/ten-things-to-consider-when-making-a-map/)\n",
    "  * [Mapping the World](https://medium.com/airbnb-engineering/mapping-the-world-a631a96a3b3a)\n"
   ]
  },
  {
   "cell_type": "markdown",
   "metadata": {},
   "source": [
    "## Labs\n",
    "\n",
    "The goal of the labs this module are to introduce different visualization methods for geospatial data.  \n",
    "\n",
    "  * [Leaflet](./labs/Leaflet.ipynb)\n",
    "  * [Markers](./labs/Markers.ipynb)\n",
    "  * [Choropleth](./labs/Choropleth.ipynb)\n",
    "  * [Heatmaps](./labs/HeatMap.ipynb)\n"
   ]
  },
  {
   "cell_type": "markdown",
   "metadata": {},
   "source": [
    "## Practices\n",
    "\n",
    "  * [Putting it all together](./practices/OneMap.ipynb)\n"
   ]
  },
  {
   "cell_type": "markdown",
   "metadata": {},
   "source": [
    "## Discussions\n",
    "* [Module 7 Discussion Topic: Geospatial Data Science Resume](https://missouri.instructure.com/courses/11580/discussion_topics/228822)\n",
    "* [Mutual Aid via Slack Channel](https://datagoggles.slack.com/messages/G8SHDSAJ0/)"
   ]
  },
  {
   "cell_type": "markdown",
   "metadata": {},
   "source": [
    "## Exercises\n",
    "\n",
    "  * No exercise this week"
   ]
  },
  {
   "cell_type": "markdown",
   "metadata": {},
   "source": [
    "## Submitting your work\n",
    "\n",
    "#### Steps:\n",
    "  1. Open Terminal in JupyterHub\n",
    "  1. Change into the course folder\n",
    "  1. Stage (Git Add) the module's practive and exercise work   \n",
    "  `git  add   module7/practices    module7/exercises`\n",
    "  1. Create your work snapshot (Git Commit)  \n",
    "  `git   commit   -m   \"Module 7 submission\"`\n",
    "  1. Upload the snapshot to the server (Git Push)  \n",
    "  `git   push`\n"
   ]
  },
  {
   "cell_type": "markdown",
   "metadata": {},
   "source": [
    "## Congratulations, you have completed the learning activities for this module!"
   ]
  }
 ],
 "metadata": {
  "kernelspec": {
   "display_name": "Python 3",
   "language": "python",
   "name": "python3"
  },
  "language_info": {
   "codemirror_mode": {
    "name": "ipython",
    "version": 3
   },
   "file_extension": ".py",
   "mimetype": "text/x-python",
   "name": "python",
   "nbconvert_exporter": "python",
   "pygments_lexer": "ipython3",
   "version": "3.4.5"
  }
 },
 "nbformat": 4,
 "nbformat_minor": 2
}
