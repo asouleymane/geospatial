{
 "cells": [
  {
   "cell_type": "markdown",
   "metadata": {},
   "source": [
    "# Putting it all together \n",
    "\n",
    "For this practice we will practice putting different elements on a map and learn how to put them on in a way that they become multiples layers on the leaflet map that can be toggled off and on. \n",
    "\n",
    "For this practice, we will explore the following data sets:\n",
    " * European Countries Geo Json file, FYI includes part of Israel - located in the data directory for this module (europe.geojson). This will be used to create a Choropleth using population values\n",
    " * Points of Interest shape file (http://www.mapcruzin.com/download-shapefile/europe-places-shape.zip), we will be using the first 100 so as to not overload the system. This will be used to create markers "
   ]
  },
  {
   "cell_type": "code",
   "execution_count": null,
   "metadata": {
    "collapsed": true
   },
   "outputs": [],
   "source": [
    "# import packages\n",
    "import pandas as pd\n",
    "import geopandas as gpd\n",
    "import json\n",
    "import sys\n",
    "import os\n",
    "import urllib.request\n",
    "import shutil\n",
    "from pathlib import Path\n",
    "from zipfile import ZipFile\n",
    "import folium\n",
    "from folium.plugins import MarkerCluster\n",
    "from branca.colormap import linear"
   ]
  },
  {
   "cell_type": "markdown",
   "metadata": {
    "collapsed": true
   },
   "source": [
    "## Task 1: Load Data\n",
    "Load the dataset to be used."
   ]
  },
  {
   "cell_type": "code",
   "execution_count": null,
   "metadata": {
    "collapsed": true
   },
   "outputs": [],
   "source": [
    "## M3:P1:Cell01\n",
    "# Add Your Code load the European Countries dataset\n",
    "# -------------------------------------------------\n"
   ]
  },
  {
   "cell_type": "code",
   "execution_count": null,
   "metadata": {
    "collapsed": true
   },
   "outputs": [],
   "source": [
    "## M3:E1:Cell02\n",
    "# Add Your Code to Download / unzip and load the intresting places data.\n",
    "# ----------------------------------------------------------------------\n"
   ]
  },
  {
   "cell_type": "markdown",
   "metadata": {},
   "source": [
    "### Task 2: Examine Datasets"
   ]
  },
  {
   "cell_type": "code",
   "execution_count": null,
   "metadata": {
    "scrolled": true
   },
   "outputs": [],
   "source": [
    "# display a map with the countries outlined. \n"
   ]
  },
  {
   "cell_type": "code",
   "execution_count": null,
   "metadata": {},
   "outputs": [],
   "source": [
    "# Look at the head of the interest data.\n",
    "interest.head()"
   ]
  },
  {
   "cell_type": "markdown",
   "metadata": {},
   "source": [
    "### Task 3: Choropleth\n",
    "Now that the data is ready to be used let's create a Choropleth map using the European Countries dataset that includes the population numbers.  "
   ]
  },
  {
   "cell_type": "code",
   "execution_count": null,
   "metadata": {},
   "outputs": [],
   "source": [
    "## M3:P1:Cell03\n",
    "# Add Your Code for creating a color map here, it is your choice on color scale used. Display the scale\n",
    "# -----------------------------------------------------------------------------------------------------\n",
    "\n"
   ]
  },
  {
   "cell_type": "code",
   "execution_count": null,
   "metadata": {
    "collapsed": true
   },
   "outputs": [],
   "source": [
    "## M3:P1:Cell04\n",
    "# Add Your Code for creating a population dictionary it should include name and the population. \n",
    "# --------------------------------------------------------------------------------------------\n",
    "\n"
   ]
  },
  {
   "cell_type": "code",
   "execution_count": null,
   "metadata": {
    "scrolled": true
   },
   "outputs": [],
   "source": [
    "## M3:P1:Cell05\n",
    "# Add Your Code to create a folium map that is displaying the Choropleth. \n",
    "# -----------------------------------------------------------------------\n",
    "\n",
    "# Create a map object centered to (47.751569, 1.675063), starting at zoom level 3 and CartoDB Positron map tiles. \n",
    "m = \n",
    "\n",
    "#style function\n",
    "def style_function(feature):\n",
    "    return {\n",
    "        'fillOpacity': 0.9,\n",
    "        'weight': 1,\n",
    "       # 'Use the line below to build your fillColor.\n",
    "       # 'fillColor': colormap(population_dict[feature[/*This will not be id as the two datasets do not align on id*/]])\n",
    "        'fillColor' : \n",
    "    }\n",
    "\n",
    "# apply the county outlines to the map and save this object as Choropleth\n",
    "Choropleth = folium.GeoJson( #Data goes here, \n",
    "                            name='Choropleth', \n",
    "               style_function=lambda feature: {\n",
    "                'fillColor': colormap(population_dict[feature['properties']['NAME']]),\n",
    "                'color' : 'black',\n",
    "                'weight' : 1,\n",
    "                'fillOpacity' : .9,\n",
    "               } \n",
    "                          \n",
    "              )\n",
    "\n",
    "\n",
    "# apply the county outlines to the map, XXXX needs to be replaced\n",
    "folium.GeoJson(XXXX,\n",
    "               name='Choropleth'\n",
    "               style_function=style_function\n",
    "              ).add_to(m)\n",
    "\n",
    "# Overlay the image to the map\n",
    "\n",
    "\n",
    "# display map\n",
    "m"
   ]
  },
  {
   "cell_type": "markdown",
   "metadata": {},
   "source": [
    "### Task 4: Markers\n",
    "Now lets create a map and place the first 100 points of interest on it. "
   ]
  },
  {
   "cell_type": "code",
   "execution_count": null,
   "metadata": {},
   "outputs": [],
   "source": [
    "## M3:P1:Cell06\n",
    "# Add Your Code to create a folium map that is displaying the first 100 points of interest as cluster markers.\n",
    "# When a user clicks on a single marker the marker should display the name of the point of interest. \n",
    "# ------------------------------------------------------------------------------------------------------------\n",
    "\n",
    "# Create a map object centered to (47.751569, 1.675063), starting at zoom level 3 and Open Street map tiles. \n",
    " \n",
    "\n",
    "# Create a loop to iterator over the points of interest use if index == 100: break to stop the loop at 100. \n",
    "\n",
    "Cluster = MarkerCluster(XXXXX, name='Points of interest')\n",
    "\n",
    "# add the markers to the map\n",
    "\n",
    "# display map\n"
   ]
  },
  {
   "cell_type": "markdown",
   "metadata": {},
   "source": [
    "### Task 5: One Map \n",
    "Now that you have created two different maps, let's make one map that has two layers instead. \n",
    "No code should need to be added. "
   ]
  },
  {
   "cell_type": "code",
   "execution_count": null,
   "metadata": {},
   "outputs": [],
   "source": [
    "# create map\n",
    "one_map = folium.Map([47.751569, 1.675063], tiles='Stamen Toner', zoom_start=6)\n",
    "\n",
    "# Add Marker Cluster\n",
    "one_map.add_child(Cluster)\n",
    "\n",
    "# Add Choropleth\n",
    "one_map.add_child(Choropleth)\n",
    "\n",
    "# add the layer control\n",
    "folium.LayerControl().add_to(one_map)\n",
    "\n",
    "# display map\n",
    "one_map"
   ]
  },
  {
   "cell_type": "code",
   "execution_count": null,
   "metadata": {
    "collapsed": true
   },
   "outputs": [],
   "source": []
  }
 ],
 "metadata": {
  "kernelspec": {
   "display_name": "Python 3",
   "language": "python",
   "name": "python3"
  },
  "language_info": {
   "codemirror_mode": {
    "name": "ipython",
    "version": 3
   },
   "file_extension": ".py",
   "mimetype": "text/x-python",
   "name": "python",
   "nbconvert_exporter": "python",
   "pygments_lexer": "ipython3",
   "version": "3.4.5"
  }
 },
 "nbformat": 4,
 "nbformat_minor": 2
}
