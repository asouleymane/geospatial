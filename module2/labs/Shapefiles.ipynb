{
 "cells": [
  {
   "cell_type": "markdown",
   "metadata": {},
   "source": [
    "# ESRI Shapefiles\n",
    "\n",
    "   -- From: [Library of Congress, Digital Format](https://www.loc.gov/preservation/digital/formats/fdd/fdd000280.shtml)\n",
    "\n",
    "The ESRI Shapefile (known here as the ESRI Shapefile format), stores nontopological geometry and attribute information for the spatial features in a data set. \n",
    "A shapefile consists minimally of a main file, an index file, and a dBASE table.\n",
    "\n",
    "In the main file, the geometry for a feature is stored as a shape comprising a set of vector coordinates. \n",
    "This main file is a direct access, variable-record-length file in which each record describes a shape with a list of its vertices. \n",
    "In the index file, each record contains the offset of the corresponding main file record from the beginning of the main file. \n",
    "Attributes are held in a dBASE format file. \n",
    "The dBASE table contains feature attributes with one record per feature. \n",
    "Attribute records in the dBASE file must be in the same order as records in the main file. \n",
    "Each attribute record has a one-to-one relationship with the associated shape record.\n",
    "\n",
    "The shapefile format can support point, line, and area features. \n",
    "Area features are represented as closed loop, double-digitized polygons.\n"
   ]
  },
  {
   "cell_type": "markdown",
   "metadata": {},
   "source": [
    "## Shapefile Specifics and Limits\n",
    "\n",
    "A shapefile is generally composed of these three expected subordinate files:\n",
    " * .shp – this file stores the geometry of the feature (main file)\n",
    " * .shx – this file stores the index of the geometry (index file)\n",
    " * .dbf – this file stores the attribute information for the feature (dBASE Table)\n",
    "\n",
    "Some other files may also be present depending on the generating application.\n",
    " \n",
    "A key aspect of the Shapefile is that it can be a collection of layers!\n",
    "Each layer becomes a 3-tuple of the files above.\n",
    "\n",
    "For example, here is a Florida Coastline file. A command line interface (CLI) tool, ogrinfo, that comes from GDAL can read the file and see that it is a collection of layers.\n",
    "```BASH\n",
    " ogrinfo florida_coast\n",
    "INFO: Open of `florida_coast'\n",
    "      using driver `ESRI Shapefile' successful.\n",
    "1: fl_transects_lt (Line String)\n",
    "2: fl_baseline (Line String)\n",
    "3: fl1855_1895 (Line String)\n",
    "4: fl_transects_st (Line String)\n",
    "5: fl1998_2001 (Line String)\n",
    "6: fl_nourish (Line String)\n",
    "7: fl1976_1979 (Line String)\n",
    "8: fl1926_1953 (Line String)\n",
    "9: fl_intersects (Point)\n",
    "```\n",
    "\n",
    "If we look inside:\n",
    "```BASH\n",
    "ls florida_coast/\n",
    "fl1855_1895.avl      fl1976_1979.dbf      fl_baseline.shp.xml    fl_nourish.shp.xml\n",
    "fl1855_1895.dbf      fl1976_1979.prj      fl_baseline.shx        fl_nourish.shx\n",
    "fl1855_1895.prj      fl1976_1979.shp      fl_error.avl           fl_transects_lt.avl\n",
    "fl1855_1895.shp      fl1976_1979.shp.xml  fl_intersects.avl      fl_transects_lt.dbf\n",
    "fl1855_1895.shp.xml  fl1976_1979.shx      fl_intersects.dbf      fl_transects_lt.prj\n",
    "fl1855_1895.shx      fl1998_2001.avl      fl_intersects.prj      fl_transects_lt.shp\n",
    "fl1926_1953.avl      fl1998_2001.dbf      fl_intersects.shp      fl_transects_lt.shp.xml\n",
    "fl1926_1953.dbf      fl1998_2001.prj      fl_intersects.shp.xml  fl_transects_lt.shx\n",
    "fl1926_1953.prj      fl1998_2001.shp      fl_intersects.shx      fl_transects_st.avl\n",
    "fl1926_1953.sbn      fl1998_2001.shp.xml  fl_nourish.avl         fl_transects_st.dbf\n",
    "fl1926_1953.sbx      fl1998_2001.shx      fl_nourish.dbf         fl_transects_st.prj\n",
    "fl1926_1953.shp      fl_baseline.avl      fl_nourish.prj         fl_transects_st.shp\n",
    "fl1926_1953.shp.xml  fl_baseline.dbf      fl_nourish.sbn         fl_transects_st.shp.xml\n",
    "fl1926_1953.shx      fl_baseline.prj      fl_nourish.sbx         fl_transects_st.shx\n",
    "fl1976_1979.avl      fl_baseline.shp      fl_nourish.shp\n",
    "```\n",
    "\n",
    "\n",
    "Shapefile format is over 20 years old, but still widely used.\n",
    "However, there are some format limitations that are present that rarely exist in the new formats or spatial database extensions.\n",
    "  * Do not support names in fields longer than 10 characters\n",
    "  * Cannot store date and time in the same field\n",
    "  * Do not store NULL values in a field; when a value is NULL, a shapefile will use 0 instead\n"
   ]
  },
  {
   "cell_type": "markdown",
   "metadata": {
    "collapsed": true
   },
   "source": [
    "## Library access\n",
    "Most open source libraries and software that interacts with Shapefiles rely on the [GDAL](http://www.gdal.org/) library, specifically its [OGR](http://gdal.org/1.11/ogr/) component.\n",
    "\n",
    "Software is often built using GDAL to access the data formats, including Raster and Vector formats.\n",
    "The software may include thick client software such as GRASS GIS or libraries such as Fiona (python geospatial data IO).\n",
    "\n",
    "### Fiona\n",
    "\n",
    "The example below uses the Fiona library to open and walk through the layers of the Shapefile."
   ]
  },
  {
   "cell_type": "code",
   "execution_count": null,
   "metadata": {},
   "outputs": [],
   "source": [
    "import fiona\n",
    "GEODATA_FILE = '/dsa/data/geospatial/florida_coast'\n",
    "numLayers = len(fiona.listlayers(GEODATA_FILE))\n",
    "print(\"'{}' has {} layers\".format(GEODATA_FILE,numLayers))"
   ]
  },
  {
   "cell_type": "code",
   "execution_count": null,
   "metadata": {},
   "outputs": [],
   "source": [
    "for i, name in enumerate(fiona.listlayers(GEODATA_FILE)):\n",
    "    with fiona.open(GEODATA_FILE, layer=i) as current_layer:\n",
    "        print(\"[{}/{}] Layer {} has {} features\".format((i+1),numLayers,name,len(current_layer)))"
   ]
  },
  {
   "cell_type": "markdown",
   "metadata": {
    "collapsed": true
   },
   "source": [
    "Let's look at one of the layers to try to decompose it a little and inspect it.\n",
    "\n",
    "We can look at layer 5 (from the 0-8 list), which above is labeled `[6/9]`.\n",
    "First, examine the `type`"
   ]
  },
  {
   "cell_type": "code",
   "execution_count": null,
   "metadata": {},
   "outputs": [],
   "source": [
    "with fiona.open(GEODATA_FILE, layer=5) as current_layer:\n",
    "    print(type(current_layer))"
   ]
  },
  {
   "cell_type": "markdown",
   "metadata": {
    "collapsed": true
   },
   "source": [
    "So, we see that a layer is a Collection.  \n",
    "Collections are traditionally iteratable in Python, and therefore suitable in the `for x in collection:` syntax.\n",
    "\n",
    "Let's see what is in our collection!"
   ]
  },
  {
   "cell_type": "code",
   "execution_count": null,
   "metadata": {},
   "outputs": [],
   "source": [
    "with fiona.open(GEODATA_FILE, layer=5) as current_layer:\n",
    "    for feature in current_layer:\n",
    "        print(type(feature))"
   ]
  },
  {
   "cell_type": "markdown",
   "metadata": {},
   "source": [
    "So, our collection is a list of dictionaries.\n",
    "\n",
    "Let's look at the first one!"
   ]
  },
  {
   "cell_type": "code",
   "execution_count": null,
   "metadata": {},
   "outputs": [],
   "source": [
    "import json\n",
    "with fiona.open(GEODATA_FILE, layer=5) as current_layer:\n",
    "    for feature in current_layer:\n",
    "        print(feature)\n",
    "        print(\"-------------------------------\")\n",
    "        print(json.dumps(feature, indent=2))\n",
    "        break # stop processing the features after this point"
   ]
  },
  {
   "cell_type": "markdown",
   "metadata": {},
   "source": [
    "So, our element of the layer is a geometric feature that has the following:\n",
    " * `geometry`\n",
    " * `properties`\n",
    " * `id`\n",
    " * `type`\n",
    "\n",
    "Note, that the `geometry` has `coordinates` (as list of X,Y) and `type`=\"LineString\".\n",
    "\n",
    "Fiona is a great low-level tool for walking through data and doing data carpentry!\n",
    "\n",
    "However, there is a higher-level library that leverages Fiona, and therefore GDAL, to get you a well structured representation of the data.\n",
    "\n",
    "### GeoPandas"
   ]
  },
  {
   "cell_type": "code",
   "execution_count": null,
   "metadata": {},
   "outputs": [],
   "source": [
    "import matplotlib.pyplot as plt\n",
    "%matplotlib inline\n",
    "import geopandas as gpd\n",
    "geo_df = gpd.read_file(GEODATA_FILE, layer=5)\n",
    "geo_df.head()"
   ]
  },
  {
   "cell_type": "code",
   "execution_count": null,
   "metadata": {},
   "outputs": [],
   "source": [
    "# plotting stuff\n",
    "geo_df.plot(figsize=(15,15))"
   ]
  },
  {
   "cell_type": "markdown",
   "metadata": {},
   "source": [
    "Read more about Fiona [here](https://github.com/Toblerity/Fiona).   \n",
    "Read more about GeoPandas [here](http://geopandas.org/).\n",
    "\n",
    "# Save Your Notebook\n",
    "## Then Notebook Menu:  File > Close and Halt"
   ]
  }
 ],
 "metadata": {
  "kernelspec": {
   "display_name": "Python 3",
   "language": "python",
   "name": "python3"
  },
  "language_info": {
   "codemirror_mode": {
    "name": "ipython",
    "version": 3
   },
   "file_extension": ".py",
   "mimetype": "text/x-python",
   "name": "python",
   "nbconvert_exporter": "python",
   "pygments_lexer": "ipython3",
   "version": "3.4.5"
  }
 },
 "nbformat": 4,
 "nbformat_minor": 2
}
