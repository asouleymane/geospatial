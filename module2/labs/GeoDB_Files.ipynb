{
 "cells": [
  {
   "cell_type": "markdown",
   "metadata": {},
   "source": [
    "# GeoDB Files\n",
    "\n",
    "   -- From: [Library of Congress, Digital Format](https://www.loc.gov/preservation/digital/formats/fdd/fdd000294.shtml)\n",
    "\n",
    "The GeoDB, ESRI Geodatabase (File-based) or GeoDB_File is a subtype of the GeoDB. \n",
    "The GeoDB is the primary data storage model for ArcGIS. \n",
    "It is a container of spatial and attribute data and enables the user to store many different types of GIS data within its structure. Its structure is implemented either in an RDBMS or as a collection of files in a file system. As an implementation of the GeoDB data model, the GeoDB_File is designed to:\n",
    "\n",
    " * Provide a widely available, simple, and scalable geodatabase solution for all users\n",
    " * Provide a portable geodatabase that works across operating systems\n",
    " * Scale up to provide fast performance for very large datasets, e.g., those containing well over 300 million features or scale beyond 500 gigabytes per file\n",
    " * Use an efficient data structure optimized for performance and storage that allows users to compress vector data to a read-only format, and uses about one third less storage space by comparison with shapefiles and personal geodatabases\n",
    " * Improve performance by comparison with shapefiles for operations involving attributes, such as classification or creating overlays"
   ]
  },
  {
   "cell_type": "markdown",
   "metadata": {},
   "source": [
    "## GeoDB Specifics and Limits\n",
    "\n",
    "\n",
    "\n",
    "\n",
    "\n",
    "For example, here is a Florida Coastline file. A command line interface (CLI) tool, ogrinfo, that comes from GDAL can read the file and see that it is a collection of layers.\n",
    "```BASH\n",
    " ogrinfo RH_SampleData.gdb\n",
    "Had to open data source read-only.\n",
    "INFO: Open of `RH_SampleData.gdb'\n",
    "      using driver `OpenFileGDB' successful.\n",
    "1: Centerline (3D Multi Line String)\n",
    "2: Calibration_Point (3D Measured Point)\n",
    "3: Redline (Multi Line String)\n",
    "4: Route (None)\n",
    "5: Centerline_Sequence (None)\n",
    "6: LRSN_MilePoint (3D Measured Multi Line String)\n",
    "7: AADT (None)\n",
    "8: Access_Control (None)\n",
    "9: Base_Thickness (None)\n",
    "10: Crashes (None)\n",
    "11: F_System (None)\n",
    "12: Speed_Limit (None)\n",
    "13: LRSE_Access_Control (3D Measured Multi Line String)\n",
    "14: LRSE_Crashes (3D Measured Point)\n",
    "15: LRSE_Speed_Limit (3D Measured Multi Line String)\n",
    "16: LRSE_Functional_Class (3D Measured Multi Line String)\n",
    "17: LRSI_MilePoint_Intersections (Point)\n",
    "18: LRSN_RefMarker (3D Measured Multi Line String)\n",
    "19: LRSE_Base_Thickness (3D Measured Multi Line String)\n",
    "20: LRSE_AADT (3D Measured Multi Line String)\n",
    "21: Redline__ATTACH (None)\n",
    "```\n",
    "\n",
    "If we look inside:\n",
    "```BASH\n",
    "ls RH_SampleData.gdb\n",
    "a00000001.freelist                           a0000002f.gdbtablx\n",
    "a00000001.gdbindexes                         a0000002f.ix_FROM_DATE.atx\n",
    "a00000001.gdbtable                           a0000002f.ix_ROUTE_ID.atx\n",
    "a00000001.gdbtablx                           a0000002f.ix_TO_DATE.atx\n",
    "a00000001.TablesByName.atx                   a00000030.gdbindexes\n",
    "a00000002.gdbtable                           a00000030.gdbtable\n",
    "a00000002.gdbtablx                           a00000030.gdbtablx\n",
    "  .\n",
    "  .\n",
    "  .\n",
    "a0000002e.gdbindexes                         a00000041.ix_TO_DATE.atx\n",
    "a0000002e.gdbtable                           a00000041.spx\n",
    "a0000002e.gdbtablx                           a00000042.GDB_60_REL_OBJECTID.atx\n",
    "a0000002e.ix_FROM_DATE.atx                   a00000042.gdbindexes\n",
    "a0000002e.ix_ROUTE_ID.atx                    a00000042.gdbtable\n",
    "a0000002e.ix_TO_DATE.atx                     a00000042.gdbtablx\n",
    "a0000002f.gdbindexes                         gdb\n",
    "a0000002f.gdbtable                           timestamps\n",
    "```\n",
    "\n",
    "\n",
    "\n"
   ]
  },
  {
   "cell_type": "markdown",
   "metadata": {
    "collapsed": true
   },
   "source": [
    "## Library access\n",
    "Most open source libraries and software that interacts with GeoDB files rely on the [GDAL](http://www.gdal.org/) library, specifically its [OGR](http://gdal.org/1.11/ogr/) component.\n",
    "\n",
    "Software is often built using GDAL to access the data formats, including Raster and Vector formats.\n",
    "The software may include thick client software such as [GRASS GIS](https://grass.osgeo.org) or libraries such as Fiona (python geospatial data IO).\n",
    "\n",
    "### Fiona\n",
    "\n",
    "The example below uses the Fiona library to open and walk through the layers of the Shapefile."
   ]
  },
  {
   "cell_type": "code",
   "execution_count": null,
   "metadata": {},
   "outputs": [],
   "source": [
    "import fiona\n",
    "GEODATA_FILE = '/dsa/data/geospatial/RH_SampleData.gdb'\n",
    "numLayers = len(fiona.listlayers(GEODATA_FILE))\n",
    "print(\"'{}' has {} layers\".format(GEODATA_FILE,numLayers))"
   ]
  },
  {
   "cell_type": "code",
   "execution_count": null,
   "metadata": {},
   "outputs": [],
   "source": [
    "for i, name in enumerate(fiona.listlayers(GEODATA_FILE)):\n",
    "    with fiona.open(GEODATA_FILE, layer=i) as current_layer:\n",
    "        print(\"[{}/{}] Layer {} has {} features\".format((i+1),numLayers,name,len(current_layer)))"
   ]
  },
  {
   "cell_type": "markdown",
   "metadata": {
    "collapsed": true
   },
   "source": [
    "Let's look at one of the layers to try to decompose it a little and inspect it.\n",
    "\n",
    "We can look at layer 17 (from the 0-20 list), which above is labeled `[18/21]`.\n",
    "First, examine the `type`"
   ]
  },
  {
   "cell_type": "code",
   "execution_count": null,
   "metadata": {},
   "outputs": [],
   "source": [
    "with fiona.open(GEODATA_FILE, layer=17) as current_layer:\n",
    "    print(type(current_layer))"
   ]
  },
  {
   "cell_type": "markdown",
   "metadata": {
    "collapsed": true
   },
   "source": [
    "So, we see that a layer is a Collection.  \n",
    "Collections are traditionally iteratable in Python, and therefore suitable in the `for x in collection:` syntax.\n",
    "\n",
    "Let's see what is in our collection!"
   ]
  },
  {
   "cell_type": "code",
   "execution_count": null,
   "metadata": {},
   "outputs": [],
   "source": [
    "with fiona.open(GEODATA_FILE, layer=17) as current_layer:\n",
    "    for feature in current_layer:\n",
    "        print(type(feature))\n",
    "        break # stop processing the features after this point"
   ]
  },
  {
   "cell_type": "markdown",
   "metadata": {},
   "source": [
    "So, our collection is a list of dictionaries.\n",
    "\n",
    "Let's look at the first one!"
   ]
  },
  {
   "cell_type": "code",
   "execution_count": null,
   "metadata": {},
   "outputs": [],
   "source": [
    "import json\n",
    "with fiona.open(GEODATA_FILE, layer=17) as current_layer:\n",
    "    for feature in current_layer:\n",
    "        print(feature)\n",
    "        print(\"-------------------------------\")\n",
    "        print(json.dumps(feature, indent=2))\n",
    "        break # stop processing the features after this point"
   ]
  },
  {
   "cell_type": "markdown",
   "metadata": {},
   "source": [
    "So, our element of the layer is a geometric feature that has the following:\n",
    " * `geometry`\n",
    " * `id`\n",
    " * `type`\n",
    " * `properties`\n",
    "\n",
    "Note, that the `geometry` has  `type`=\"MultiLineString\" and `coordinates` (as a X,Y,Z). In this case, Z is elevation, however it looks to be always zero.\n",
    "\n",
    "Fiona is a great low-level tool for walking through data and doing data carpentry!\n",
    "\n",
    "However, there is a higher-level library that leverages Fiona, and therefore GDAL, to get you a well structured representation of the data.\n",
    "\n",
    "### GeoPandas"
   ]
  },
  {
   "cell_type": "code",
   "execution_count": null,
   "metadata": {},
   "outputs": [],
   "source": [
    "import matplotlib.pyplot as plt\n",
    "%matplotlib inline\n",
    "import geopandas as gpd\n",
    "geo_df = gpd.read_file(GEODATA_FILE, layer=17)\n",
    "geo_df.head()"
   ]
  },
  {
   "cell_type": "code",
   "execution_count": null,
   "metadata": {},
   "outputs": [],
   "source": [
    "# plotting stuff\n",
    "geo_df.plot(figsize=(15,15))"
   ]
  },
  {
   "cell_type": "markdown",
   "metadata": {},
   "source": [
    "Read more about Fiona [here](https://github.com/Toblerity/Fiona).   \n",
    "Read more about GeoPandas [here](http://geopandas.org/).\n",
    "\n",
    "# Save Your Notebook\n",
    "## Then Notebook Menu:  File > Close and Halt"
   ]
  }
 ],
 "metadata": {
  "kernelspec": {
   "display_name": "Python 3",
   "language": "python",
   "name": "python3"
  },
  "language_info": {
   "codemirror_mode": {
    "name": "ipython",
    "version": 3
   },
   "file_extension": ".py",
   "mimetype": "text/x-python",
   "name": "python",
   "nbconvert_exporter": "python",
   "pygments_lexer": "ipython3",
   "version": "3.4.5"
  }
 },
 "nbformat": 4,
 "nbformat_minor": 2
}
