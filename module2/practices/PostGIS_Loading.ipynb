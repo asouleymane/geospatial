{
 "cells": [
  {
   "cell_type": "markdown",
   "metadata": {},
   "source": [
    "# Loading a PostGIS Database\n",
    "\n",
    "Often times, you can accumulate data from multiple sources and you want to persist it into a multilayer geodatabase.\n",
    "While Shapefiles and GeoDB Files support this, they are inherently *single user*.\n",
    "When you want to facilitate a *multi-user* environment or more advanced geospatial analytics via SQL,\n",
    "instead of programming, PostGIS may be the solution you are looking for!\n",
    "\n",
    "You have seen in previous courses and labs for this course how to query PostgreSQL and even PostGIS data.\n",
    "In this practice, we are going to load PostGIS data!"
   ]
  },
  {
   "cell_type": "markdown",
   "metadata": {},
   "source": [
    "\n",
    "# Data Sets\n",
    "\n",
    "For this practice, you will build on what you have learned and your previous data carpentry skills to acquire, stage, ingest, and persist various datasets.\n",
    "\n",
    "We will be accessing data linked at the US Government's Geospatial Platform: https://www.geoplatform.gov/\n",
    "\n",
    "\n",
    "All the datasets will be in different formats. Some you may have seen, some will be new.\n",
    "* [New Mexico Populated Places (GNIS), 2009](http://gstore.unm.edu/apps/rgis/datasets/c73b5e4d-fd64-4a2c-8a93-668e47d982d8/gnis_nm_poppl09.derived.csv)\n",
    "* [Bureau of Land Management Land Grant Boundaries](http://gstore.unm.edu/apps/rgis/datasets/3d23ac95-2b28-4c1f-b5cc-b656133a018f/land_grants.original.zip/)\n",
    "\n",
    "In the previous practice, you acquired these data sets.\n",
    "If, for some reason you removed or cleaned up your data, please re-acquire using the code you wrote in the [Geospatial Data Carpentry Notebook](./GeoCarpentry.ipynb)"
   ]
  },
  {
   "cell_type": "code",
   "execution_count": 1,
   "metadata": {},
   "outputs": [
    {
     "data": {
      "text/html": [
       "<div>\n",
       "<style>\n",
       "    .dataframe thead tr:only-child th {\n",
       "        text-align: right;\n",
       "    }\n",
       "\n",
       "    .dataframe thead th {\n",
       "        text-align: left;\n",
       "    }\n",
       "\n",
       "    .dataframe tbody tr th {\n",
       "        vertical-align: top;\n",
       "    }\n",
       "</style>\n",
       "<table border=\"1\" class=\"dataframe\">\n",
       "  <thead>\n",
       "    <tr style=\"text-align: right;\">\n",
       "      <th></th>\n",
       "      <th>count</th>\n",
       "      <th>mean</th>\n",
       "      <th>std</th>\n",
       "      <th>min</th>\n",
       "      <th>25%</th>\n",
       "      <th>50%</th>\n",
       "      <th>75%</th>\n",
       "      <th>max</th>\n",
       "    </tr>\n",
       "  </thead>\n",
       "  <tbody>\n",
       "    <tr>\n",
       "      <th>SOURCE_LAT</th>\n",
       "      <td>0.0</td>\n",
       "      <td>NaN</td>\n",
       "      <td>NaN</td>\n",
       "      <td>NaN</td>\n",
       "      <td>NaN</td>\n",
       "      <td>NaN</td>\n",
       "      <td>NaN</td>\n",
       "      <td>NaN</td>\n",
       "    </tr>\n",
       "    <tr>\n",
       "      <th>Object_ID</th>\n",
       "      <td>1702.0</td>\n",
       "      <td>1002.663337</td>\n",
       "      <td>638.115054</td>\n",
       "      <td>1.000000</td>\n",
       "      <td>426.250000</td>\n",
       "      <td>987.500000</td>\n",
       "      <td>1456.750000</td>\n",
       "      <td>2.217000e+03</td>\n",
       "    </tr>\n",
       "    <tr>\n",
       "      <th>FEATURE_ID</th>\n",
       "      <td>1702.0</td>\n",
       "      <td>951482.960047</td>\n",
       "      <td>218113.465934</td>\n",
       "      <td>885549.000000</td>\n",
       "      <td>899686.250000</td>\n",
       "      <td>906184.000000</td>\n",
       "      <td>918247.500000</td>\n",
       "      <td>2.413665e+06</td>\n",
       "    </tr>\n",
       "    <tr>\n",
       "      <th>STATE_NUME</th>\n",
       "      <td>1702.0</td>\n",
       "      <td>35.000000</td>\n",
       "      <td>0.000000</td>\n",
       "      <td>35.000000</td>\n",
       "      <td>35.000000</td>\n",
       "      <td>35.000000</td>\n",
       "      <td>35.000000</td>\n",
       "      <td>3.500000e+01</td>\n",
       "    </tr>\n",
       "    <tr>\n",
       "      <th>COUNTY_NUM</th>\n",
       "      <td>1702.0</td>\n",
       "      <td>32.477086</td>\n",
       "      <td>18.103702</td>\n",
       "      <td>1.000000</td>\n",
       "      <td>17.000000</td>\n",
       "      <td>35.000000</td>\n",
       "      <td>47.000000</td>\n",
       "      <td>6.100000e+01</td>\n",
       "    </tr>\n",
       "    <tr>\n",
       "      <th>PRIM_LAT_D</th>\n",
       "      <td>1702.0</td>\n",
       "      <td>34.714688</td>\n",
       "      <td>1.441798</td>\n",
       "      <td>31.333996</td>\n",
       "      <td>33.545841</td>\n",
       "      <td>35.074770</td>\n",
       "      <td>35.840867</td>\n",
       "      <td>3.699862e+01</td>\n",
       "    </tr>\n",
       "    <tr>\n",
       "      <th>PRIM_LONG1</th>\n",
       "      <td>1702.0</td>\n",
       "      <td>-106.211466</td>\n",
       "      <td>1.524765</td>\n",
       "      <td>-109.041204</td>\n",
       "      <td>-107.253004</td>\n",
       "      <td>-106.228775</td>\n",
       "      <td>-105.276537</td>\n",
       "      <td>-1.030513e+02</td>\n",
       "    </tr>\n",
       "    <tr>\n",
       "      <th>SOURCE_LON</th>\n",
       "      <td>0.0</td>\n",
       "      <td>NaN</td>\n",
       "      <td>NaN</td>\n",
       "      <td>NaN</td>\n",
       "      <td>NaN</td>\n",
       "      <td>NaN</td>\n",
       "      <td>NaN</td>\n",
       "      <td>NaN</td>\n",
       "    </tr>\n",
       "    <tr>\n",
       "      <th>SOURCE_L_1</th>\n",
       "      <td>0.0</td>\n",
       "      <td>NaN</td>\n",
       "      <td>NaN</td>\n",
       "      <td>NaN</td>\n",
       "      <td>NaN</td>\n",
       "      <td>NaN</td>\n",
       "      <td>NaN</td>\n",
       "      <td>NaN</td>\n",
       "    </tr>\n",
       "    <tr>\n",
       "      <th>SOURCE_L_2</th>\n",
       "      <td>0.0</td>\n",
       "      <td>NaN</td>\n",
       "      <td>NaN</td>\n",
       "      <td>NaN</td>\n",
       "      <td>NaN</td>\n",
       "      <td>NaN</td>\n",
       "      <td>NaN</td>\n",
       "      <td>NaN</td>\n",
       "    </tr>\n",
       "    <tr>\n",
       "      <th>ELEVATION</th>\n",
       "      <td>1702.0</td>\n",
       "      <td>1780.979436</td>\n",
       "      <td>401.458375</td>\n",
       "      <td>878.000000</td>\n",
       "      <td>1455.250000</td>\n",
       "      <td>1810.500000</td>\n",
       "      <td>2077.000000</td>\n",
       "      <td>3.295000e+03</td>\n",
       "    </tr>\n",
       "    <tr>\n",
       "      <th>observed</th>\n",
       "      <td>0.0</td>\n",
       "      <td>NaN</td>\n",
       "      <td>NaN</td>\n",
       "      <td>NaN</td>\n",
       "      <td>NaN</td>\n",
       "      <td>NaN</td>\n",
       "      <td>NaN</td>\n",
       "      <td>NaN</td>\n",
       "    </tr>\n",
       "  </tbody>\n",
       "</table>\n",
       "</div>"
      ],
      "text/plain": [
       "             count           mean            std            min  \\\n",
       "SOURCE_LAT     0.0            NaN            NaN            NaN   \n",
       "Object_ID   1702.0    1002.663337     638.115054       1.000000   \n",
       "FEATURE_ID  1702.0  951482.960047  218113.465934  885549.000000   \n",
       "STATE_NUME  1702.0      35.000000       0.000000      35.000000   \n",
       "COUNTY_NUM  1702.0      32.477086      18.103702       1.000000   \n",
       "PRIM_LAT_D  1702.0      34.714688       1.441798      31.333996   \n",
       "PRIM_LONG1  1702.0    -106.211466       1.524765    -109.041204   \n",
       "SOURCE_LON     0.0            NaN            NaN            NaN   \n",
       "SOURCE_L_1     0.0            NaN            NaN            NaN   \n",
       "SOURCE_L_2     0.0            NaN            NaN            NaN   \n",
       "ELEVATION   1702.0    1780.979436     401.458375     878.000000   \n",
       "observed       0.0            NaN            NaN            NaN   \n",
       "\n",
       "                      25%            50%            75%           max  \n",
       "SOURCE_LAT            NaN            NaN            NaN           NaN  \n",
       "Object_ID      426.250000     987.500000    1456.750000  2.217000e+03  \n",
       "FEATURE_ID  899686.250000  906184.000000  918247.500000  2.413665e+06  \n",
       "STATE_NUME      35.000000      35.000000      35.000000  3.500000e+01  \n",
       "COUNTY_NUM      17.000000      35.000000      47.000000  6.100000e+01  \n",
       "PRIM_LAT_D      33.545841      35.074770      35.840867  3.699862e+01  \n",
       "PRIM_LONG1    -107.253004    -106.228775    -105.276537 -1.030513e+02  \n",
       "SOURCE_LON            NaN            NaN            NaN           NaN  \n",
       "SOURCE_L_1            NaN            NaN            NaN           NaN  \n",
       "SOURCE_L_2            NaN            NaN            NaN           NaN  \n",
       "ELEVATION     1455.250000    1810.500000    2077.000000  3.295000e+03  \n",
       "observed              NaN            NaN            NaN           NaN  "
      ]
     },
     "execution_count": 1,
     "metadata": {},
     "output_type": "execute_result"
    }
   ],
   "source": [
    "import pandas as pd\n",
    "\n",
    "df=pd.read_csv('../temp/gnis_nm_poppl09.csv')\n",
    "\n",
    "df.describe().transpose()"
   ]
  },
  {
   "cell_type": "markdown",
   "metadata": {},
   "source": [
    "We see from the table above that we have the following columns:\n",
    " * SOURCE_LAT\n",
    " * Object_ID\n",
    " * FEATURE_ID\n",
    " * STATE_NUME\n",
    " * COUNTY_NUM\n",
    " * PRIM_LAT_D\n",
    " * PRIM_LONG1\n",
    " * SOURCE_LON\n",
    " * SOURCE_L_1\n",
    " * SOURCE_L_2\n",
    " * ELEVATION\n",
    " * observed\n",
    "\n",
    "Read about this dataset [here](https://catalog.data.gov/dataset/new-mexico-populated-places-gnis-2009).\n",
    "\n",
    "From some inspection, and digging into [related links](https://geonames.usgs.gov/) we can understand that *FEATURE_ID*, *PRIM_LAT_D*, *PRIM_LONG1*, and *ELEVATION* would be useful to have a map of populated places (location and elevation)."
   ]
  },
  {
   "cell_type": "markdown",
   "metadata": {},
   "source": [
    "## Defining a PostGIS Table\n",
    "\n",
    "Please review the [DBASE information sheet](../../resources/DSA_Student_DBASE_HotTo.pdf) for details on connecting to `dsa_student` PostGIS database using the `psql` CLI.  \n",
    "Please review the [PostGIS information Sheet](../../resources/PostGIS_Info_Sheet.pdf) for details on creating a PostGIS table.\n",
    "\n",
    " * **NOTE:** Substitute your actual MU SSO for in the `SSO` below. \n",
    " \n",
    "```SQL\n",
    "CREATE TABLE souleymanesaleya.new_mexico_populated_places (\n",
    "  feature_id INT,\n",
    "  elevation real,\n",
    "  CONSTRAINT pk_new_mexico_populated_places\n",
    "    PRIMARY KEY (feature_id)\n",
    ");\n",
    "SELECT AddGeometryColumn('souleymanesaleya','new_mexico_populated_places','coords',4326,'POINT',2);\n",
    "CREATE INDEX idx_new_mexico_populated_places_point ON souleymanesaleya.new_mexico_populated_places USING GIST (coords);\n",
    "```"
   ]
  },
  {
   "cell_type": "markdown",
   "metadata": {},
   "source": [
    "### Result Check:\n",
    "\n",
    "```SQL\n",
    "dsa_student=# \\d new_mexico_populated_places \n",
    "  Table \"scottgs.new_mexico_populated_places\"\n",
    "   Column   |         Type         | Modifiers \n",
    "------------+----------------------+-----------\n",
    " feature_id | integer              | not null\n",
    " elevation  | real                 | \n",
    " coords     | geometry(Point,4326) | \n",
    "Indexes:\n",
    "    \"pk_new_mexico_populated_places\" PRIMARY KEY, btree (feature_id)\n",
    "    \"idx_new_mexico_populated_places_point\" gist (coords)\n",
    "\n",
    "```\n",
    "\n",
    "## Task : Reduce the data frame to just the desired columns\n",
    "\n",
    "##### ('FEATURE_ID','ELEVATION','PRIM_LONG1','PRIM_LAT_D')"
   ]
  },
  {
   "cell_type": "code",
   "execution_count": 2,
   "metadata": {},
   "outputs": [
    {
     "data": {
      "text/plain": [
       "Index(['SOURCE_LAT', 'Object_ID', 'FEATURE_ID', 'FEATURE_NA', 'FEATURE_CL',\n",
       "       'STATE_ALPH', 'STATE_NUME', 'COUNTY_NAM', 'COUNTY_NUM', 'PRIMARY_LA',\n",
       "       'PRIM_LONG_', 'PRIM_LAT_D', 'PRIM_LONG1', 'SOURCE_LON', 'SOURCE_L_1',\n",
       "       'SOURCE_L_2', 'ELEVATION', 'MAP_NAME', 'DATE_CREAT', 'DATE_EDITE',\n",
       "       'observed'],\n",
       "      dtype='object')"
      ]
     },
     "execution_count": 2,
     "metadata": {},
     "output_type": "execute_result"
    }
   ],
   "source": [
    "df.columns"
   ]
  },
  {
   "cell_type": "code",
   "execution_count": 3,
   "metadata": {},
   "outputs": [
    {
     "data": {
      "text/plain": [
       "FEATURE_ID    float64\n",
       "PRIM_LAT_D    float64\n",
       "PRIM_LONG1    float64\n",
       "ELEVATION     float64\n",
       "dtype: object"
      ]
     },
     "execution_count": 3,
     "metadata": {},
     "output_type": "execute_result"
    }
   ],
   "source": [
    "## M2:P2:Cell01\n",
    "# Create a DF with limited original data\n",
    "# ---------- Add your code below this line\n",
    "df.drop(df.columns[[0,1,3,4,5,6,7,8,9,10,13,14,15,17,18,19,20]],axis=1,inplace=True)\n",
    "\n",
    "# ----- Then check data types and ensure you have what you expect\n",
    "df.dtypes"
   ]
  },
  {
   "cell_type": "code",
   "execution_count": 4,
   "metadata": {},
   "outputs": [
    {
     "data": {
      "text/html": [
       "<div>\n",
       "<style>\n",
       "    .dataframe thead tr:only-child th {\n",
       "        text-align: right;\n",
       "    }\n",
       "\n",
       "    .dataframe thead th {\n",
       "        text-align: left;\n",
       "    }\n",
       "\n",
       "    .dataframe tbody tr th {\n",
       "        vertical-align: top;\n",
       "    }\n",
       "</style>\n",
       "<table border=\"1\" class=\"dataframe\">\n",
       "  <thead>\n",
       "    <tr style=\"text-align: right;\">\n",
       "      <th></th>\n",
       "      <th>FEATURE_ID</th>\n",
       "      <th>PRIM_LAT_D</th>\n",
       "      <th>PRIM_LONG1</th>\n",
       "      <th>ELEVATION</th>\n",
       "    </tr>\n",
       "  </thead>\n",
       "  <tbody>\n",
       "    <tr>\n",
       "      <th>0</th>\n",
       "      <td>2413618.0</td>\n",
       "      <td>34.607173</td>\n",
       "      <td>-106.537676</td>\n",
       "      <td>1701.0</td>\n",
       "    </tr>\n",
       "    <tr>\n",
       "      <th>1</th>\n",
       "      <td>2375434.0</td>\n",
       "      <td>34.582778</td>\n",
       "      <td>-106.329722</td>\n",
       "      <td>2123.0</td>\n",
       "    </tr>\n",
       "    <tr>\n",
       "      <th>2</th>\n",
       "      <td>2375433.0</td>\n",
       "      <td>34.611944</td>\n",
       "      <td>-106.340000</td>\n",
       "      <td>2107.0</td>\n",
       "    </tr>\n",
       "    <tr>\n",
       "      <th>3</th>\n",
       "      <td>2055903.0</td>\n",
       "      <td>35.082269</td>\n",
       "      <td>-106.381135</td>\n",
       "      <td>1931.0</td>\n",
       "    </tr>\n",
       "    <tr>\n",
       "      <th>4</th>\n",
       "      <td>2413664.0</td>\n",
       "      <td>34.649593</td>\n",
       "      <td>-106.734030</td>\n",
       "      <td>1471.0</td>\n",
       "    </tr>\n",
       "  </tbody>\n",
       "</table>\n",
       "</div>"
      ],
      "text/plain": [
       "   FEATURE_ID  PRIM_LAT_D  PRIM_LONG1  ELEVATION\n",
       "0   2413618.0   34.607173 -106.537676     1701.0\n",
       "1   2375434.0   34.582778 -106.329722     2123.0\n",
       "2   2375433.0   34.611944 -106.340000     2107.0\n",
       "3   2055903.0   35.082269 -106.381135     1931.0\n",
       "4   2413664.0   34.649593 -106.734030     1471.0"
      ]
     },
     "execution_count": 4,
     "metadata": {},
     "output_type": "execute_result"
    }
   ],
   "source": [
    "df.head()"
   ]
  },
  {
   "cell_type": "markdown",
   "metadata": {},
   "source": [
    "#### Load your password into Memory"
   ]
  },
  {
   "cell_type": "code",
   "execution_count": 5,
   "metadata": {},
   "outputs": [
    {
     "name": "stdout",
     "output_type": "stream",
     "text": [
      "········\n"
     ]
    }
   ],
   "source": [
    "import getpass\n",
    "mypasswd = getpass.getpass()\n"
   ]
  },
  {
   "cell_type": "markdown",
   "metadata": {},
   "source": [
    "#### Get a connection Object to the PostGIS database"
   ]
  },
  {
   "cell_type": "code",
   "execution_count": 7,
   "metadata": {
    "collapsed": true
   },
   "outputs": [],
   "source": [
    "import psycopg2\n",
    "import numpy\n",
    "from psycopg2.extensions import adapt, register_adapter, AsIs\n",
    "\n",
    "connection = psycopg2.connect(database = 'dsa_student', \n",
    "                              user = 'souleymanesaleya', \n",
    "                              host = 'dbase.dsa.missouri.edu',\n",
    "                              password = mypasswd)"
   ]
  },
  {
   "cell_type": "markdown",
   "metadata": {},
   "source": [
    "#### Unload your password from memory"
   ]
  },
  {
   "cell_type": "code",
   "execution_count": 8,
   "metadata": {
    "collapsed": true
   },
   "outputs": [],
   "source": [
    "del mypasswd"
   ]
  },
  {
   "cell_type": "markdown",
   "metadata": {},
   "source": [
    "\n",
    "## Task: Load data into database table\n",
    "\n",
    "\n",
    "### Review the code below, looking at the structure\n",
    "\n",
    "### Then, review these API links:\n",
    "\n",
    " * http://initd.org/psycopg/docs/extensions.html#sql-adaptation-protocol-objects\n",
    " * PostGIS Documentation for creating points\n",
    "   * [GeomFromText](http://www.postgis.net/docs/ST_GeomFromText.html)\n",
    "   * [MakePoint](https://postgis.net/docs/ST_MakePoint.html)\n",
    "   * [PointFromText](https://postgis.net/docs/ST_PointFromText.html)\n",
    "   \n",
    "We are going to use *ST_MakePoint* as it is considered the fastest (most efficient).\n",
    "Along with that, we will need to use the function [*ST_SetSRID*](https://postgis.net/docs/ST_SetSRID.html) to ensure the data is in the `4326` spatial reference sytem.\n",
    "\n",
    "##### Below, we have provided the structure and some starter code.\n",
    "\n",
    " * Finally, [read about prepared statements](http://initd.org/psycopg/articles/2012/10/01/prepared-statements-psycopg/)\n"
   ]
  },
  {
   "cell_type": "code",
   "execution_count": 9,
   "metadata": {},
   "outputs": [
    {
     "name": "stdout",
     "output_type": "stream",
     "text": [
      "Pandas(Index=0, FEATURE_ID=2413618.0, PRIM_LAT_D=34.607172999999996, PRIM_LONG1=-106.537676, ELEVATION=1701.0)\n",
      "      FEATURE_ID  PRIM_LAT_D  PRIM_LONG1  ELEVATION\n",
      "0      2413618.0   34.607173 -106.537676     1701.0\n",
      "1      2375434.0   34.582778 -106.329722     2123.0\n",
      "2      2375433.0   34.611944 -106.340000     2107.0\n",
      "3      2055903.0   35.082269 -106.381135     1931.0\n",
      "4      2413664.0   34.649593 -106.734030     1471.0\n",
      "5      2038782.0   36.002801 -106.057801     1715.0\n",
      "6      2055902.0   35.065325 -106.445023     1831.0\n",
      "7      2038776.0   32.776464 -108.154489     1821.0\n",
      "8      2038775.0   35.494211 -105.266953     2000.0\n",
      "9      2013470.0   33.005642 -105.992213     1364.0\n",
      "10     2013821.0   36.295864 -103.202995     1485.0\n",
      "11     1987911.0   32.664536 -105.998873     1221.0\n",
      "12     1987529.0   32.911485 -105.535817     2154.0\n",
      "13     1699884.0   35.233375 -106.664472     1610.0\n",
      "14     1987485.0   35.490857 -108.421464     2114.0\n",
      "15      938812.0   35.825861 -105.904465     2151.0\n",
      "16      938809.0   33.883401 -106.659460     1525.0\n",
      "17      936807.0   36.771420 -105.192225     2844.0\n",
      "18      936785.0   36.048074 -106.930595     2183.0\n",
      "19      936503.0   35.317262 -106.313913     1763.0\n",
      "20      933969.0   36.231127 -106.805873     2302.0\n",
      "21      936502.0   35.356705 -106.337247     1730.0\n",
      "22      933386.0   35.147260 -107.851447     1969.0\n",
      "23      933179.0   35.168655 -106.719750     1628.0\n",
      "24      933012.0   36.304197 -103.400504     1606.0\n",
      "25      932956.0   33.193439 -104.357187     1046.0\n",
      "26      933183.0   35.112823 -106.360580     2031.0\n",
      "27      928841.0   35.534189 -108.636470     2014.0\n",
      "28      928773.0   35.892803 -106.023078     1784.0\n",
      "29      928771.0   36.200858 -105.710015     2232.0\n",
      "...          ...         ...         ...        ...\n",
      "1672   1867382.0   35.070319 -107.613663     1865.0\n",
      "1673   1867383.0   35.608920 -106.350304     1608.0\n",
      "1674   1867384.0   35.526424 -105.934742     2035.0\n",
      "1675   1867385.0   35.063375 -107.565884     1843.0\n",
      "1676   1867386.0   35.173377 -106.623359     1522.0\n",
      "1677   1867387.0   36.693336 -108.369245     1649.0\n",
      "1678   1867388.0   35.176989 -106.491412     1870.0\n",
      "1679   1867390.0   35.010049 -106.678081     1501.0\n",
      "1680   1867391.0   35.072532 -108.850639     1918.0\n",
      "1681   1877178.0   36.736112 -108.418136     1574.0\n",
      "1682   1923007.0   35.425026 -108.315349     2203.0\n",
      "1683   2038785.0   35.600599 -105.255009     2116.0\n",
      "1684   2055887.0   35.330317 -106.483914     1652.0\n",
      "1685   2055888.0   35.306984 -106.448636     1801.0\n",
      "1686   2055889.0   35.308096 -106.490303     1691.0\n",
      "1687   2055890.0   35.302262 -106.471414     1750.0\n",
      "1688   2055891.0   35.305318 -106.464747     1756.0\n",
      "1689   2055892.0   35.306429 -106.453358     1794.0\n",
      "1690   2055893.0   35.320873 -106.388636     1888.0\n",
      "1691   2055894.0   35.315040 -106.428080     1780.0\n",
      "1692   2055895.0   35.301429 -106.409469     1899.0\n",
      "1693   2055896.0   35.184488 -106.329191     2019.0\n",
      "1694   2055897.0   35.126434 -106.356969     2155.0\n",
      "1695   2055898.0   35.223654 -106.278913     1991.0\n",
      "1696   2055899.0   35.219765 -106.302247     1944.0\n",
      "1697   2055900.0   35.316429 -106.512525     1624.0\n",
      "1698   2055901.0   35.314484 -106.515303     1626.0\n",
      "1699   2413623.0   34.732869 -106.551385     1622.0\n",
      "1700   2413649.0   34.758978 -106.640851     1537.0\n",
      "1701   2413658.0   34.721726 -106.688369     1502.0\n",
      "\n",
      "[1702 rows x 4 columns]\n"
     ]
    },
    {
     "ename": "KeyError",
     "evalue": "0",
     "output_type": "error",
     "traceback": [
      "\u001b[0;31m---------------------------------------------------------------------------\u001b[0m",
      "\u001b[0;31mKeyError\u001b[0m                                  Traceback (most recent call last)",
      "\u001b[0;32m/usr/lib64/python3.4/site-packages/pandas/core/indexes/base.py\u001b[0m in \u001b[0;36mget_loc\u001b[0;34m(self, key, method, tolerance)\u001b[0m\n\u001b[1;32m   2441\u001b[0m             \u001b[0;32mtry\u001b[0m\u001b[0;34m:\u001b[0m\u001b[0;34m\u001b[0m\u001b[0m\n\u001b[0;32m-> 2442\u001b[0;31m                 \u001b[0;32mreturn\u001b[0m \u001b[0mself\u001b[0m\u001b[0;34m.\u001b[0m\u001b[0m_engine\u001b[0m\u001b[0;34m.\u001b[0m\u001b[0mget_loc\u001b[0m\u001b[0;34m(\u001b[0m\u001b[0mkey\u001b[0m\u001b[0;34m)\u001b[0m\u001b[0;34m\u001b[0m\u001b[0m\n\u001b[0m\u001b[1;32m   2443\u001b[0m             \u001b[0;32mexcept\u001b[0m \u001b[0mKeyError\u001b[0m\u001b[0;34m:\u001b[0m\u001b[0;34m\u001b[0m\u001b[0m\n",
      "\u001b[0;32mpandas/_libs/index.pyx\u001b[0m in \u001b[0;36mpandas._libs.index.IndexEngine.get_loc (pandas/_libs/index.c:5280)\u001b[0;34m()\u001b[0m\n",
      "\u001b[0;32mpandas/_libs/index.pyx\u001b[0m in \u001b[0;36mpandas._libs.index.IndexEngine.get_loc (pandas/_libs/index.c:5126)\u001b[0;34m()\u001b[0m\n",
      "\u001b[0;32mpandas/_libs/hashtable_class_helper.pxi\u001b[0m in \u001b[0;36mpandas._libs.hashtable.PyObjectHashTable.get_item (pandas/_libs/hashtable.c:20523)\u001b[0;34m()\u001b[0m\n",
      "\u001b[0;32mpandas/_libs/hashtable_class_helper.pxi\u001b[0m in \u001b[0;36mpandas._libs.hashtable.PyObjectHashTable.get_item (pandas/_libs/hashtable.c:20477)\u001b[0;34m()\u001b[0m\n",
      "\u001b[0;31mKeyError\u001b[0m: 0",
      "\nDuring handling of the above exception, another exception occurred:\n",
      "\u001b[0;31mKeyError\u001b[0m                                  Traceback (most recent call last)",
      "\u001b[0;32m<ipython-input-9-f24fd9a4ec51>\u001b[0m in \u001b[0;36m<module>\u001b[0;34m()\u001b[0m\n\u001b[1;32m     23\u001b[0m \u001b[0;34m\u001b[0m\u001b[0m\n\u001b[1;32m     24\u001b[0m         \u001b[0;31m# TODO: Insert the row\u001b[0m\u001b[0;34m\u001b[0m\u001b[0;34m\u001b[0m\u001b[0m\n\u001b[0;32m---> 25\u001b[0;31m         \u001b[0mcursor\u001b[0m\u001b[0;34m.\u001b[0m\u001b[0mexecute\u001b[0m\u001b[0;34m(\u001b[0m\u001b[0mINSERT_SQL\u001b[0m\u001b[0;34m,\u001b[0m\u001b[0mdata\u001b[0m\u001b[0;34m)\u001b[0m\u001b[0;34m\u001b[0m\u001b[0m\n\u001b[0m\u001b[1;32m     26\u001b[0m         \u001b[0;31m#cursor.execute(  <add_code>  )\u001b[0m\u001b[0;34m\u001b[0m\u001b[0;34m\u001b[0m\u001b[0m\n\u001b[1;32m     27\u001b[0m \u001b[0;34m\u001b[0m\u001b[0m\n",
      "\u001b[0;32m/usr/lib64/python3.4/site-packages/pandas/core/frame.py\u001b[0m in \u001b[0;36m__getitem__\u001b[0;34m(self, key)\u001b[0m\n\u001b[1;32m   1962\u001b[0m             \u001b[0;32mreturn\u001b[0m \u001b[0mself\u001b[0m\u001b[0;34m.\u001b[0m\u001b[0m_getitem_multilevel\u001b[0m\u001b[0;34m(\u001b[0m\u001b[0mkey\u001b[0m\u001b[0;34m)\u001b[0m\u001b[0;34m\u001b[0m\u001b[0m\n\u001b[1;32m   1963\u001b[0m         \u001b[0;32melse\u001b[0m\u001b[0;34m:\u001b[0m\u001b[0;34m\u001b[0m\u001b[0m\n\u001b[0;32m-> 1964\u001b[0;31m             \u001b[0;32mreturn\u001b[0m \u001b[0mself\u001b[0m\u001b[0;34m.\u001b[0m\u001b[0m_getitem_column\u001b[0m\u001b[0;34m(\u001b[0m\u001b[0mkey\u001b[0m\u001b[0;34m)\u001b[0m\u001b[0;34m\u001b[0m\u001b[0m\n\u001b[0m\u001b[1;32m   1965\u001b[0m \u001b[0;34m\u001b[0m\u001b[0m\n\u001b[1;32m   1966\u001b[0m     \u001b[0;32mdef\u001b[0m \u001b[0m_getitem_column\u001b[0m\u001b[0;34m(\u001b[0m\u001b[0mself\u001b[0m\u001b[0;34m,\u001b[0m \u001b[0mkey\u001b[0m\u001b[0;34m)\u001b[0m\u001b[0;34m:\u001b[0m\u001b[0;34m\u001b[0m\u001b[0m\n",
      "\u001b[0;32m/usr/lib64/python3.4/site-packages/pandas/core/frame.py\u001b[0m in \u001b[0;36m_getitem_column\u001b[0;34m(self, key)\u001b[0m\n\u001b[1;32m   1969\u001b[0m         \u001b[0;31m# get column\u001b[0m\u001b[0;34m\u001b[0m\u001b[0;34m\u001b[0m\u001b[0m\n\u001b[1;32m   1970\u001b[0m         \u001b[0;32mif\u001b[0m \u001b[0mself\u001b[0m\u001b[0;34m.\u001b[0m\u001b[0mcolumns\u001b[0m\u001b[0;34m.\u001b[0m\u001b[0mis_unique\u001b[0m\u001b[0;34m:\u001b[0m\u001b[0;34m\u001b[0m\u001b[0m\n\u001b[0;32m-> 1971\u001b[0;31m             \u001b[0;32mreturn\u001b[0m \u001b[0mself\u001b[0m\u001b[0;34m.\u001b[0m\u001b[0m_get_item_cache\u001b[0m\u001b[0;34m(\u001b[0m\u001b[0mkey\u001b[0m\u001b[0;34m)\u001b[0m\u001b[0;34m\u001b[0m\u001b[0m\n\u001b[0m\u001b[1;32m   1972\u001b[0m \u001b[0;34m\u001b[0m\u001b[0m\n\u001b[1;32m   1973\u001b[0m         \u001b[0;31m# duplicate columns & possible reduce dimensionality\u001b[0m\u001b[0;34m\u001b[0m\u001b[0;34m\u001b[0m\u001b[0m\n",
      "\u001b[0;32m/usr/lib64/python3.4/site-packages/pandas/core/generic.py\u001b[0m in \u001b[0;36m_get_item_cache\u001b[0;34m(self, item)\u001b[0m\n\u001b[1;32m   1643\u001b[0m         \u001b[0mres\u001b[0m \u001b[0;34m=\u001b[0m \u001b[0mcache\u001b[0m\u001b[0;34m.\u001b[0m\u001b[0mget\u001b[0m\u001b[0;34m(\u001b[0m\u001b[0mitem\u001b[0m\u001b[0;34m)\u001b[0m\u001b[0;34m\u001b[0m\u001b[0m\n\u001b[1;32m   1644\u001b[0m         \u001b[0;32mif\u001b[0m \u001b[0mres\u001b[0m \u001b[0;32mis\u001b[0m \u001b[0;32mNone\u001b[0m\u001b[0;34m:\u001b[0m\u001b[0;34m\u001b[0m\u001b[0m\n\u001b[0;32m-> 1645\u001b[0;31m             \u001b[0mvalues\u001b[0m \u001b[0;34m=\u001b[0m \u001b[0mself\u001b[0m\u001b[0;34m.\u001b[0m\u001b[0m_data\u001b[0m\u001b[0;34m.\u001b[0m\u001b[0mget\u001b[0m\u001b[0;34m(\u001b[0m\u001b[0mitem\u001b[0m\u001b[0;34m)\u001b[0m\u001b[0;34m\u001b[0m\u001b[0m\n\u001b[0m\u001b[1;32m   1646\u001b[0m             \u001b[0mres\u001b[0m \u001b[0;34m=\u001b[0m \u001b[0mself\u001b[0m\u001b[0;34m.\u001b[0m\u001b[0m_box_item_values\u001b[0m\u001b[0;34m(\u001b[0m\u001b[0mitem\u001b[0m\u001b[0;34m,\u001b[0m \u001b[0mvalues\u001b[0m\u001b[0;34m)\u001b[0m\u001b[0;34m\u001b[0m\u001b[0m\n\u001b[1;32m   1647\u001b[0m             \u001b[0mcache\u001b[0m\u001b[0;34m[\u001b[0m\u001b[0mitem\u001b[0m\u001b[0;34m]\u001b[0m \u001b[0;34m=\u001b[0m \u001b[0mres\u001b[0m\u001b[0;34m\u001b[0m\u001b[0m\n",
      "\u001b[0;32m/usr/lib64/python3.4/site-packages/pandas/core/internals.py\u001b[0m in \u001b[0;36mget\u001b[0;34m(self, item, fastpath)\u001b[0m\n\u001b[1;32m   3588\u001b[0m \u001b[0;34m\u001b[0m\u001b[0m\n\u001b[1;32m   3589\u001b[0m             \u001b[0;32mif\u001b[0m \u001b[0;32mnot\u001b[0m \u001b[0misnull\u001b[0m\u001b[0;34m(\u001b[0m\u001b[0mitem\u001b[0m\u001b[0;34m)\u001b[0m\u001b[0;34m:\u001b[0m\u001b[0;34m\u001b[0m\u001b[0m\n\u001b[0;32m-> 3590\u001b[0;31m                 \u001b[0mloc\u001b[0m \u001b[0;34m=\u001b[0m \u001b[0mself\u001b[0m\u001b[0;34m.\u001b[0m\u001b[0mitems\u001b[0m\u001b[0;34m.\u001b[0m\u001b[0mget_loc\u001b[0m\u001b[0;34m(\u001b[0m\u001b[0mitem\u001b[0m\u001b[0;34m)\u001b[0m\u001b[0;34m\u001b[0m\u001b[0m\n\u001b[0m\u001b[1;32m   3591\u001b[0m             \u001b[0;32melse\u001b[0m\u001b[0;34m:\u001b[0m\u001b[0;34m\u001b[0m\u001b[0m\n\u001b[1;32m   3592\u001b[0m                 \u001b[0mindexer\u001b[0m \u001b[0;34m=\u001b[0m \u001b[0mnp\u001b[0m\u001b[0;34m.\u001b[0m\u001b[0marange\u001b[0m\u001b[0;34m(\u001b[0m\u001b[0mlen\u001b[0m\u001b[0;34m(\u001b[0m\u001b[0mself\u001b[0m\u001b[0;34m.\u001b[0m\u001b[0mitems\u001b[0m\u001b[0;34m)\u001b[0m\u001b[0;34m)\u001b[0m\u001b[0;34m[\u001b[0m\u001b[0misnull\u001b[0m\u001b[0;34m(\u001b[0m\u001b[0mself\u001b[0m\u001b[0;34m.\u001b[0m\u001b[0mitems\u001b[0m\u001b[0;34m)\u001b[0m\u001b[0;34m]\u001b[0m\u001b[0;34m\u001b[0m\u001b[0m\n",
      "\u001b[0;32m/usr/lib64/python3.4/site-packages/pandas/core/indexes/base.py\u001b[0m in \u001b[0;36mget_loc\u001b[0;34m(self, key, method, tolerance)\u001b[0m\n\u001b[1;32m   2442\u001b[0m                 \u001b[0;32mreturn\u001b[0m \u001b[0mself\u001b[0m\u001b[0;34m.\u001b[0m\u001b[0m_engine\u001b[0m\u001b[0;34m.\u001b[0m\u001b[0mget_loc\u001b[0m\u001b[0;34m(\u001b[0m\u001b[0mkey\u001b[0m\u001b[0;34m)\u001b[0m\u001b[0;34m\u001b[0m\u001b[0m\n\u001b[1;32m   2443\u001b[0m             \u001b[0;32mexcept\u001b[0m \u001b[0mKeyError\u001b[0m\u001b[0;34m:\u001b[0m\u001b[0;34m\u001b[0m\u001b[0m\n\u001b[0;32m-> 2444\u001b[0;31m                 \u001b[0;32mreturn\u001b[0m \u001b[0mself\u001b[0m\u001b[0;34m.\u001b[0m\u001b[0m_engine\u001b[0m\u001b[0;34m.\u001b[0m\u001b[0mget_loc\u001b[0m\u001b[0;34m(\u001b[0m\u001b[0mself\u001b[0m\u001b[0;34m.\u001b[0m\u001b[0m_maybe_cast_indexer\u001b[0m\u001b[0;34m(\u001b[0m\u001b[0mkey\u001b[0m\u001b[0;34m)\u001b[0m\u001b[0;34m)\u001b[0m\u001b[0;34m\u001b[0m\u001b[0m\n\u001b[0m\u001b[1;32m   2445\u001b[0m \u001b[0;34m\u001b[0m\u001b[0m\n\u001b[1;32m   2446\u001b[0m         \u001b[0mindexer\u001b[0m \u001b[0;34m=\u001b[0m \u001b[0mself\u001b[0m\u001b[0;34m.\u001b[0m\u001b[0mget_indexer\u001b[0m\u001b[0;34m(\u001b[0m\u001b[0;34m[\u001b[0m\u001b[0mkey\u001b[0m\u001b[0;34m]\u001b[0m\u001b[0;34m,\u001b[0m \u001b[0mmethod\u001b[0m\u001b[0;34m=\u001b[0m\u001b[0mmethod\u001b[0m\u001b[0;34m,\u001b[0m \u001b[0mtolerance\u001b[0m\u001b[0;34m=\u001b[0m\u001b[0mtolerance\u001b[0m\u001b[0;34m)\u001b[0m\u001b[0;34m\u001b[0m\u001b[0m\n",
      "\u001b[0;32mpandas/_libs/index.pyx\u001b[0m in \u001b[0;36mpandas._libs.index.IndexEngine.get_loc (pandas/_libs/index.c:5280)\u001b[0;34m()\u001b[0m\n",
      "\u001b[0;32mpandas/_libs/index.pyx\u001b[0m in \u001b[0;36mpandas._libs.index.IndexEngine.get_loc (pandas/_libs/index.c:5126)\u001b[0;34m()\u001b[0m\n",
      "\u001b[0;32mpandas/_libs/hashtable_class_helper.pxi\u001b[0m in \u001b[0;36mpandas._libs.hashtable.PyObjectHashTable.get_item (pandas/_libs/hashtable.c:20523)\u001b[0;34m()\u001b[0m\n",
      "\u001b[0;32mpandas/_libs/hashtable_class_helper.pxi\u001b[0m in \u001b[0;36mpandas._libs.hashtable.PyObjectHashTable.get_item (pandas/_libs/hashtable.c:20477)\u001b[0;34m()\u001b[0m\n",
      "\u001b[0;31mKeyError\u001b[0m: 0"
     ]
    }
   ],
   "source": [
    "## M2:P2:Cell02\n",
    "# Magic adapters for the Numpy Fun of Pandas\n",
    "register_adapter(numpy.int64,AsIs)\n",
    "register_adapter(numpy.float64,AsIs)\n",
    "\n",
    "INSERT_SQL = 'INSERT INTO souleymanesaleya.new_mexico_populated_places '\n",
    "INSERT_SQL += ' (feature_id, elevation, coords) values(%s, %s , ST_SetSRID(ST_MakePoint(%s,%s), 4326))'\n",
    "#INSERT_SQL += 'ST_SetSRID(ST_MakePoint(PRIM_LONG1, PRIM_LAT_D), 4326) As coords'\n",
    "# Add the rest of the insert statement that includes ST_MakePoint\n",
    "\n",
    "\n",
    "# Note: The Commit Will Be Automatic after this with clause\n",
    "with connection, connection.cursor() as cursor:\n",
    "    for row in df.itertuples():  # pull each row as a tuple\n",
    "        \n",
    "        # This is an indexed Tuple\n",
    "        print(row) \n",
    "        \n",
    "        # TODO: This is needed to remove the index element\n",
    "        data = df.reset_index(drop=True)# Add your code\n",
    "    \n",
    "        print(data)\n",
    "\n",
    "        # TODO: Insert the row\n",
    "        cursor.execute(INSERT_SQL,data)\n",
    "        #cursor.execute(  <add_code>  )\n",
    "        \n"
   ]
  },
  {
   "cell_type": "code",
   "execution_count": 10,
   "metadata": {
    "scrolled": true
   },
   "outputs": [
    {
     "name": "stdout",
     "output_type": "stream",
     "text": [
      "Pandas(Index=0, FEATURE_ID=2413618.0, PRIM_LAT_D=34.607172999999996, PRIM_LONG1=-106.537676, ELEVATION=1701.0)\n"
     ]
    }
   ],
   "source": [
    "print(row)"
   ]
  },
  {
   "cell_type": "raw",
   "metadata": {},
   "source": [
    "dsa_student=> select count(*) from souleymanesaleya.new_mexico_populated_places;\n",
    " count\n",
    "-------\n",
    "  1702\n",
    "(1 row)\n",
    "\n",
    "dsa_student=> select feature_id,elevation, ST_AsText(coords)\n",
    "dsa_student-> from souleymanesaleya.new_mexico_populated_places\n",
    "dsa_student-> limit 5;\n",
    " feature_id | elevation |        st_astext\n",
    "------------+-----------+-------------------------\n",
    "    2413618 |   34.6072 | POINT(-106.537676 1701)\n",
    "    2375434 |   34.5828 | POINT(-106.329722 2123)\n",
    "    2375433 |   34.6119 | POINT(-106.34 2107)\n",
    "    2055903 |   35.0823 | POINT(-106.381135 1931)\n",
    "    2413664 |   34.6496 | POINT(-106.73403 1471)\n",
    "(5 rows)"
   ]
  },
  {
   "cell_type": "markdown",
   "metadata": {},
   "source": [
    "#### Check for Data:\n",
    "\n",
    "```SQL\n",
    "dsa_student=# select count(*) from souleymanesaleya.new_mexico_populated_places;\n",
    " count \n",
    "-------\n",
    "  1702\n",
    "(1 row)\n",
    "```\n",
    "\n",
    "#### Peak at it\n",
    "```SQL\n",
    "dsa_student=# select feature_id,elevation, ST_AsText(coords)\n",
    "dsa_student-# from souleymanesaleya.new_mexico_populated_places \n",
    "dsa_student-# limit 5;\n",
    " feature_id | elevation |          st_astext           \n",
    "------------+-----------+------------------------------\n",
    "    2413618 |      1701 | POINT(-106.537676 34.607173)\n",
    "    2375434 |      2123 | POINT(-106.329722 34.582778)\n",
    "    2375433 |      2107 | POINT(-106.34 34.611944)\n",
    "    2055903 |      1931 | POINT(-106.381135 35.082269)\n",
    "    2413664 |      1471 | POINT(-106.73403 34.649593)\n",
    "(5 rows)\n",
    "```"
   ]
  },
  {
   "cell_type": "markdown",
   "metadata": {},
   "source": [
    "# Your Turn: A second data set\n",
    "\n",
    "The second dataset we will work with is [http://gstore.unm.edu/apps/rgis/datasets/3d23ac95-2b28-4c1f-b5cc-b656133a018f/land_grants.original.zip](http://gstore.unm.edu/apps/rgis/datasets/3d23ac95-2b28-4c1f-b5cc-b656133a018f/land_grants.original.zip).\n",
    "\n",
    "### Task: Explore the layers in the file, then load the data into a GeoPanda data frame."
   ]
  },
  {
   "cell_type": "code",
   "execution_count": 3,
   "metadata": {},
   "outputs": [
    {
     "name": "stdout",
     "output_type": "stream",
     "text": [
      "[1/1] Layer land_grants has 222 features\n"
     ]
    }
   ],
   "source": [
    "## M2:P2:Cell03\n",
    "import fiona\n",
    "GEODATA_FILE = '../temp/land_grants'\n",
    "numLayers = len(fiona.listlayers(GEODATA_FILE))\n",
    "\n",
    "for i, name in enumerate(fiona.listlayers(GEODATA_FILE)):\n",
    "    with fiona.open(GEODATA_FILE, layer=i) as current_layer:\n",
    "        print(\"[{}/{}] Layer {} has {} features\".format((i+1),numLayers,name,len(current_layer)))\n",
    "\n",
    "\n"
   ]
  },
  {
   "cell_type": "code",
   "execution_count": 4,
   "metadata": {
    "collapsed": true
   },
   "outputs": [],
   "source": [
    "## M2:P2:Cell04\n",
    "import geopandas as gpd\n",
    "from geopandas import GeoDataFrame\n",
    "g_df = gpd.read_file(GEODATA_FILE)# Add code here\n"
   ]
  },
  {
   "cell_type": "code",
   "execution_count": 5,
   "metadata": {},
   "outputs": [
    {
     "data": {
      "text/html": [
       "<div>\n",
       "<style>\n",
       "    .dataframe thead tr:only-child th {\n",
       "        text-align: right;\n",
       "    }\n",
       "\n",
       "    .dataframe thead th {\n",
       "        text-align: left;\n",
       "    }\n",
       "\n",
       "    .dataframe tbody tr th {\n",
       "        vertical-align: top;\n",
       "    }\n",
       "</style>\n",
       "<table border=\"1\" class=\"dataframe\">\n",
       "  <thead>\n",
       "    <tr style=\"text-align: right;\">\n",
       "      <th></th>\n",
       "      <th>AREA</th>\n",
       "      <th>GRANT_CONF</th>\n",
       "      <th>GRANT_NAME</th>\n",
       "      <th>LAND_GRANT</th>\n",
       "      <th>LAND_GRA_1</th>\n",
       "      <th>PERIMETER</th>\n",
       "      <th>SURVEY_APP</th>\n",
       "      <th>geometry</th>\n",
       "    </tr>\n",
       "  </thead>\n",
       "  <tbody>\n",
       "    <tr>\n",
       "      <th>0</th>\n",
       "      <td>2.004791e+09</td>\n",
       "      <td>1860-06-21</td>\n",
       "      <td>TIERRA AMARILLA</td>\n",
       "      <td>2</td>\n",
       "      <td>19</td>\n",
       "      <td>196213.113905</td>\n",
       "      <td>1875-12-20</td>\n",
       "      <td>POLYGON ((338682.3310473557 4095575.192740339,...</td>\n",
       "    </tr>\n",
       "    <tr>\n",
       "      <th>1</th>\n",
       "      <td>8.906534e+08</td>\n",
       "      <td>1860-06-21</td>\n",
       "      <td>SANGRE DE CRISTO</td>\n",
       "      <td>3</td>\n",
       "      <td>49</td>\n",
       "      <td>150193.079600</td>\n",
       "      <td>1876-04-07</td>\n",
       "      <td>POLYGON ((480365.5636026052 4094378.445603433,...</td>\n",
       "    </tr>\n",
       "    <tr>\n",
       "      <th>2</th>\n",
       "      <td>5.899487e+09</td>\n",
       "      <td>1860-06-21</td>\n",
       "      <td>BEAUBIEN AND MIRANDA</td>\n",
       "      <td>4</td>\n",
       "      <td>50</td>\n",
       "      <td>340036.041390</td>\n",
       "      <td>1878-12-20</td>\n",
       "      <td>POLYGON ((480365.5636026052 4094378.445603433,...</td>\n",
       "    </tr>\n",
       "    <tr>\n",
       "      <th>3</th>\n",
       "      <td>6.310151e+07</td>\n",
       "      <td>1869-03-03</td>\n",
       "      <td>ANTOINE LEROUX</td>\n",
       "      <td>5</td>\n",
       "      <td>24</td>\n",
       "      <td>42416.184889</td>\n",
       "      <td>1877-06-05</td>\n",
       "      <td>POLYGON ((449858.0004298416 4043898.676425322,...</td>\n",
       "    </tr>\n",
       "    <tr>\n",
       "      <th>4</th>\n",
       "      <td>7.432813e+07</td>\n",
       "      <td>1900-12-18</td>\n",
       "      <td>ARROYO HONDO</td>\n",
       "      <td>6</td>\n",
       "      <td>21</td>\n",
       "      <td>42576.378483</td>\n",
       "      <td>1900-12-18</td>\n",
       "      <td>POLYGON ((436971.8898926409 4043300.98950113, ...</td>\n",
       "    </tr>\n",
       "  </tbody>\n",
       "</table>\n",
       "</div>"
      ],
      "text/plain": [
       "           AREA  GRANT_CONF            GRANT_NAME  LAND_GRANT  LAND_GRA_1  \\\n",
       "0  2.004791e+09  1860-06-21       TIERRA AMARILLA           2          19   \n",
       "1  8.906534e+08  1860-06-21      SANGRE DE CRISTO           3          49   \n",
       "2  5.899487e+09  1860-06-21  BEAUBIEN AND MIRANDA           4          50   \n",
       "3  6.310151e+07  1869-03-03        ANTOINE LEROUX           5          24   \n",
       "4  7.432813e+07  1900-12-18          ARROYO HONDO           6          21   \n",
       "\n",
       "       PERIMETER  SURVEY_APP  \\\n",
       "0  196213.113905  1875-12-20   \n",
       "1  150193.079600  1876-04-07   \n",
       "2  340036.041390  1878-12-20   \n",
       "3   42416.184889  1877-06-05   \n",
       "4   42576.378483  1900-12-18   \n",
       "\n",
       "                                            geometry  \n",
       "0  POLYGON ((338682.3310473557 4095575.192740339,...  \n",
       "1  POLYGON ((480365.5636026052 4094378.445603433,...  \n",
       "2  POLYGON ((480365.5636026052 4094378.445603433,...  \n",
       "3  POLYGON ((449858.0004298416 4043898.676425322,...  \n",
       "4  POLYGON ((436971.8898926409 4043300.98950113, ...  "
      ]
     },
     "execution_count": 5,
     "metadata": {},
     "output_type": "execute_result"
    }
   ],
   "source": [
    "g_df.head()"
   ]
  },
  {
   "cell_type": "code",
   "execution_count": 5,
   "metadata": {},
   "outputs": [
    {
     "name": "stdout",
     "output_type": "stream",
     "text": [
      "{'init': 'epsg:26913'}\n"
     ]
    }
   ],
   "source": [
    "print(g_df.crs)"
   ]
  },
  {
   "cell_type": "markdown",
   "metadata": {},
   "source": [
    "### NOTE: The EPSG (Coordinate Reference System) is 26913!\n",
    "\n",
    "We want to have it in 4326 so it is in the most common CRS and compatible with our PostGIS data.\n",
    "\n",
    "### Task: Use the GeoPandas built in functions for convert to CRS 4326"
   ]
  },
  {
   "cell_type": "code",
   "execution_count": 6,
   "metadata": {},
   "outputs": [],
   "source": [
    "## M2:P2:Cell05\n",
    "#geo_df = GeoDataFrame()# Your code here\n",
    "crs={'init': 'epsg:4326'}\n",
    "g_df = GeoDataFrame(g_df, crs=crs)"
   ]
  },
  {
   "cell_type": "code",
   "execution_count": null,
   "metadata": {
    "collapsed": true
   },
   "outputs": [],
   "source": [
    "#g_df.to_crs({'init': 'epsg:4326'})"
   ]
  },
  {
   "cell_type": "code",
   "execution_count": 7,
   "metadata": {},
   "outputs": [
    {
     "data": {
      "text/plain": [
       "{'init': 'epsg:4326'}"
      ]
     },
     "execution_count": 7,
     "metadata": {},
     "output_type": "execute_result"
    }
   ],
   "source": [
    "g_df.crs"
   ]
  },
  {
   "cell_type": "markdown",
   "metadata": {},
   "source": [
    "### Task: Define your table, geometry column, and indexing\n",
    "\n",
    "Write your SQL Statements below, then copy-and-paste into terminal database command line.\n",
    "\n",
    "Note that you should end up with a **coords** column that is a SRID=4326 POLYGON of 2-D (Lon,Lat)."
   ]
  },
  {
   "cell_type": "raw",
   "metadata": {},
   "source": [
    "CREATE TABLE souleymanesaleya.new_mexico_land_grants(\n",
    "  id SERIAL PRIMARY KEY,\n",
    "  area REAL,\n",
    "  grant_conf DATE,\n",
    "  grant_name VARCHAR(255),\n",
    "  land_grant INT,\n",
    "  land_gra_1 INT,\n",
    "  perimeter REAL,\n",
    "  survey_app DATE\n",
    " );\n",
    "SELECT AddGeometryColumn('souleymanesaleya','new_mexico_land_grants','coords',4326,'POLYGON',2);\n",
    "CREATE INDEX idx_new_mexico_land_grants_polygon ON souleymanesaleya.new_mexico_land_grants USING GIST (coords);\n"
   ]
  },
  {
   "cell_type": "code",
   "execution_count": 1,
   "metadata": {},
   "outputs": [
    {
     "name": "stdout",
     "output_type": "stream",
     "text": [
      "········\n"
     ]
    }
   ],
   "source": [
    "import getpass\n",
    "mypasswd = getpass.getpass()"
   ]
  },
  {
   "cell_type": "code",
   "execution_count": 2,
   "metadata": {
    "collapsed": true
   },
   "outputs": [],
   "source": [
    "import psycopg2\n",
    "import numpy\n",
    "from psycopg2.extensions import adapt, register_adapter, AsIs\n",
    "\n",
    "connection = psycopg2.connect(database = 'dsa_student', \n",
    "                              user = 'souleymanesaleya', \n",
    "                              host = 'dbase.dsa.missouri.edu',\n",
    "                              password = mypasswd)\n",
    "del mypasswd"
   ]
  },
  {
   "cell_type": "markdown",
   "metadata": {},
   "source": [
    "---\n",
    "\n",
    "## Pause: \n",
    "\n",
    "Think about what a polygon is relative to a point.\n",
    "Imagine the programing \"*fun*\" of code-constructing Polygons for Insert statements\n",
    "\n",
    "Because it will be the opposite of fun, we will use the friendly *ST_GeomFromText* function.\n",
    "The challenge is how to build that WKT text that PostGIS wants?\n",
    "Since a GeoSeries is a series of Shapely geometries, we can look to that [API](http://shapely.readthedocs.io/en/stable/manual.html).\n",
    "Then, for an element of the tuple that is the Shapely Geometry, we can extract the WKT.\n",
    "\n",
    "### Task: Load the data including the Polygon.  \n",
    "#### The SQL provided is ready to use if your table columns match up.\n"
   ]
  },
  {
   "cell_type": "code",
   "execution_count": 13,
   "metadata": {},
   "outputs": [],
   "source": [
    "## M2:P2:Cell06\n",
    "# Magic adapters for the Numpy Fun of Pandas\n",
    "register_adapter(numpy.int64,AsIs)\n",
    "register_adapter(numpy.float64,AsIs)\n",
    "\n",
    "# Note, ID is left off because it is SERIAL type and auto-incremented\n",
    "INSERT_SQL = 'INSERT INTO souleymanesaleya.new_mexico_land_grants '\n",
    "# This next line may need an edit based on your table construction.\n",
    "INSERT_SQL += ' (area,grant_conf,grant_name,land_grant,land_gra_1,perimeter,survey_app,coords) '\n",
    "INSERT_SQL += ' values (%s,%s,%s,%s,%s,%s,%s,ST_GeomFromText(%s, 4326))'\n",
    "\n",
    "# Note: The Commit Will Be Automatic after this with clause\n",
    "with connection, connection.cursor() as cursor:\n",
    "    for row in g_df.itertuples():  # pull each row as a tuple\n",
    "        \n",
    "        # This is an indexed Tuple\n",
    "        print(row) \n",
    "        \n",
    "        # This is needed to remove the index element\n",
    "        #data = g_df.reset_index(drop=True)# Add your code here\n",
    "        data=(row.AREA,row.GRANT_CONF,row.GRANT_NAME,row.LAND_GRANT,row.LAND_GRA_1,row.PERIMETER,row.SURVEY_APP,row.geometry.wkt)\n",
    "        #print(data)\n",
    "        cursor.execute(INSERT_SQL,data)\n"
   ]
  },
  {
   "cell_type": "markdown",
   "metadata": {},
   "source": [
    "### Verify\n",
    "\n",
    "```SQL\n",
    "dsa_student=# select count(*) from scottgs.new_mexico_land_grants;\n",
    " count \n",
    "-------\n",
    "   222\n",
    "(1 row)\n",
    "```\n",
    "\n",
    "```DSA\n",
    "dsa_student=# select id,grant_name, grant_conf,st_area(coords) from scottgs.new_mexico_land_grants limit 5;\n",
    " id |      grant_name      | grant_conf |     st_area      \n",
    "----+----------------------+------------+------------------\n",
    "  1 | TIERRA AMARILLA      | 1860-06-21 | 2004791148.87488\n",
    "  2 | SANGRE DE CRISTO     | 1860-06-21 | 890653352.742407\n",
    "  3 | BEAUBIEN AND MIRANDA | 1860-06-21 | 5899487289.42897\n",
    "  4 | ANTOINE LEROUX       | 1869-03-03 | 63101507.3669469\n",
    "  5 | ARROYO HONDO         | 1900-12-18 |  74328127.180984\n",
    "(5 rows)\n",
    "```"
   ]
  },
  {
   "cell_type": "code",
   "execution_count": null,
   "metadata": {
    "collapsed": true
   },
   "outputs": [],
   "source": [
    "con = psycopg2.connect(database=\"dsa_ro\", user=\"dsa_ro_user\",password=\"readonly\",host=\"dbase\")\n",
    "\n",
    "# NOTE  (CountryName, Longitude, Latitude, Population in 2005, the polynomial country border)\n",
    "sql= \"select name, lon, lat, pop2005, the_geom from geospatial.country_borders\"\n",
    "\n",
    "countries=gpd.GeoDataFrame.from_postgis(sql,con,geom_col='the_geom' )\n",
    "# plotting stuff\n",
    "countries.plot(figsize=(15,15))"
   ]
  },
  {
   "cell_type": "code",
   "execution_count": 15,
   "metadata": {},
   "outputs": [
    {
     "data": {
      "text/html": [
       "<div>\n",
       "<style>\n",
       "    .dataframe thead tr:only-child th {\n",
       "        text-align: right;\n",
       "    }\n",
       "\n",
       "    .dataframe thead th {\n",
       "        text-align: left;\n",
       "    }\n",
       "\n",
       "    .dataframe tbody tr th {\n",
       "        vertical-align: top;\n",
       "    }\n",
       "</style>\n",
       "<table border=\"1\" class=\"dataframe\">\n",
       "  <thead>\n",
       "    <tr style=\"text-align: right;\">\n",
       "      <th></th>\n",
       "      <th>id</th>\n",
       "      <th>grant_name</th>\n",
       "      <th>grant_conf</th>\n",
       "      <th>coords</th>\n",
       "    </tr>\n",
       "  </thead>\n",
       "  <tbody>\n",
       "    <tr>\n",
       "      <th>0</th>\n",
       "      <td>1</td>\n",
       "      <td>TIERRA AMARILLA</td>\n",
       "      <td>1860-06-21</td>\n",
       "      <td>POLYGON ((338682.3310473557 4095575.192740339,...</td>\n",
       "    </tr>\n",
       "    <tr>\n",
       "      <th>1</th>\n",
       "      <td>2</td>\n",
       "      <td>SANGRE DE CRISTO</td>\n",
       "      <td>1860-06-21</td>\n",
       "      <td>POLYGON ((480365.5636026052 4094378.445603433,...</td>\n",
       "    </tr>\n",
       "    <tr>\n",
       "      <th>2</th>\n",
       "      <td>3</td>\n",
       "      <td>BEAUBIEN AND MIRANDA</td>\n",
       "      <td>1860-06-21</td>\n",
       "      <td>POLYGON ((480365.5636026052 4094378.445603433,...</td>\n",
       "    </tr>\n",
       "    <tr>\n",
       "      <th>3</th>\n",
       "      <td>4</td>\n",
       "      <td>ANTOINE LEROUX</td>\n",
       "      <td>1869-03-03</td>\n",
       "      <td>POLYGON ((449858.0004298416 4043898.676425322,...</td>\n",
       "    </tr>\n",
       "    <tr>\n",
       "      <th>4</th>\n",
       "      <td>5</td>\n",
       "      <td>ARROYO HONDO</td>\n",
       "      <td>1900-12-18</td>\n",
       "      <td>POLYGON ((436971.8898926409 4043300.98950113, ...</td>\n",
       "    </tr>\n",
       "  </tbody>\n",
       "</table>\n",
       "</div>"
      ],
      "text/plain": [
       "   id            grant_name  grant_conf  \\\n",
       "0   1       TIERRA AMARILLA  1860-06-21   \n",
       "1   2      SANGRE DE CRISTO  1860-06-21   \n",
       "2   3  BEAUBIEN AND MIRANDA  1860-06-21   \n",
       "3   4        ANTOINE LEROUX  1869-03-03   \n",
       "4   5          ARROYO HONDO  1900-12-18   \n",
       "\n",
       "                                              coords  \n",
       "0  POLYGON ((338682.3310473557 4095575.192740339,...  \n",
       "1  POLYGON ((480365.5636026052 4094378.445603433,...  \n",
       "2  POLYGON ((480365.5636026052 4094378.445603433,...  \n",
       "3  POLYGON ((449858.0004298416 4043898.676425322,...  \n",
       "4  POLYGON ((436971.8898926409 4043300.98950113, ...  "
      ]
     },
     "execution_count": 15,
     "metadata": {},
     "output_type": "execute_result"
    }
   ],
   "source": [
    "## M2:P2:Cell07\n",
    "\n",
    "check_sql= \"select id,grant_name, grant_conf, coords from souleymanesaleya.new_mexico_land_grants\"\n",
    "\n",
    "\n",
    "gdf= gpd.GeoDataFrame.from_postgis(check_sql,connection,geom_col='coords')# Add code here\n",
    "gdf.head()"
   ]
  },
  {
   "cell_type": "code",
   "execution_count": 16,
   "metadata": {},
   "outputs": [
    {
     "data": {
      "text/plain": [
       "<matplotlib.axes._subplots.AxesSubplot at 0x7f620293cf28>"
      ]
     },
     "execution_count": 16,
     "metadata": {},
     "output_type": "execute_result"
    },
    {
     "data": {
      "image/png": "[encoded data removed]",
      "text/plain": [
       "<matplotlib.figure.Figure at 0x7f6202be7d68>"
      ]
     },
     "metadata": {},
     "output_type": "display_data"
    }
   ],
   "source": [
    "import matplotlib.pyplot as plt\n",
    "%matplotlib inline\n",
    "\n",
    "\n",
    "gdf.plot(figsize=(15,15))"
   ]
  },
  {
   "cell_type": "markdown",
   "metadata": {},
   "source": [
    "## Write a little Spatial SQL\n",
    "\n",
    "Write an SQL Query to Count the number of populate places within each Land Grant polygon, showing the only the top 10!\n",
    "\n",
    "Write your SQL below and Copy-Paste into the CLI for the database.\n",
    "Also, please past your results in the cell as well."
   ]
  },
  {
   "cell_type": "raw",
   "metadata": {},
   "source": [
    "\n",
    "--More--## M2:P2:Cell08\n",
    "## ----- Add SQL Code Below -----------\n",
    "SELECT\n",
    " id,grant_name,\n",
    "COUNT (id)\n",
    "FROM\n",
    " souleymanesaleya.new_mexico_land_grants\n",
    "GROUP BY\n",
    " id\n",
    "ORDER BY\n",
    "COUNT (id) DESC\n",
    "LIMIT 10;\n",
    "\n",
    "\n",
    "\n",
    "id  |            grant_name            | count\n",
    "-----+----------------------------------+-------\n",
    " 195 | LA SALINA                        |     1\n",
    " 106 | SAN FELIPE PUEBLO                |     1\n",
    " 120 | SAN MIGUEL DEL BADO TRACT 8      |     1\n",
    " 171 | LAGUNA PURCHASES TRACT 3         |     1\n",
    "   8 | ANTOINE LEROUX                   |     1\n",
    " 138 | SAN MIGUEL DEL BADO TRACT 2      |     1\n",
    "  80 | CIENEGUILLA                      |     1\n",
    " 190 | TOWN OF TAJIQUE                  |     1\n",
    "  16 | ANTONIO MARTINEZ OR LUCERO GODOI |     1\n",
    " 129 | SAN MIGUEL DEL BADO TRACT 9      |     1\n",
    "(10 rows)"
   ]
  },
  {
   "cell_type": "markdown",
   "metadata": {},
   "source": [
    "#### Expected Output:\n",
    "\n",
    "```SQL\n",
    " id  |         grant_name          | count \n",
    "-----+-----------------------------+-------\n",
    " 216 | NON GRANT                   |  1176\n",
    "  29 | MORA                        |    47\n",
    "   3 | BEAUBIEN AND MIRANDA        |    44\n",
    "  66 | LAS VEGAS                   |    30\n",
    " 191 | TOME                        |    15\n",
    "   1 | TIERRA AMARILLA             |    14\n",
    " 138 | SAN MIGUEL DEL BADO TRACT 2 |    12\n",
    " 198 | SEVILLETA                   |    11\n",
    "  49 | SANTA CLARA PUEBLO          |    11\n",
    " 203 | PEDRO ARMENDARIZ NO. 33     |    10\n",
    "(10 rows)\n",
    "```"
   ]
  },
  {
   "cell_type": "markdown",
   "metadata": {},
   "source": [
    "# Save Your Notebook\n",
    "## Then Notebook Menu: File > Close and Halt"
   ]
  }
 ],
 "metadata": {
  "kernelspec": {
   "display_name": "Python 3",
   "language": "python",
   "name": "python3"
  },
  "language_info": {
   "codemirror_mode": {
    "name": "ipython",
    "version": 3
   },
   "file_extension": ".py",
   "mimetype": "text/x-python",
   "name": "python",
   "nbconvert_exporter": "python",
   "pygments_lexer": "ipython3",
   "version": "3.4.5"
  }
 },
 "nbformat": 4,
 "nbformat_minor": 2
}
