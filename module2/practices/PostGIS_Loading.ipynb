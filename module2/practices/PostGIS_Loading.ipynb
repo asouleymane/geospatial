{
 "cells": [
  {
   "cell_type": "markdown",
   "metadata": {},
   "source": [
    "# Loading a PostGIS Database\n",
    "\n",
    "Often times, you can accumulate data from multiple sources and you want to persist it into a multilayer geodatabase.\n",
    "While Shapefiles and GeoDB Files support this, they are inherently *single user*.\n",
    "When you want to facilitate a *multi-user* environment or more advanced geospatial analytics via SQL,\n",
    "instead of programming, PostGIS may be the solution you are looking for!\n",
    "\n",
    "You have seen in previous courses and labs for this course how to query PostgreSQL and even PostGIS data.\n",
    "In this practice, we are going to load PostGIS data!"
   ]
  },
  {
   "cell_type": "markdown",
   "metadata": {},
   "source": [
    "\n",
    "# Data Sets\n",
    "\n",
    "For this practice, you will build on what you have learned and your previous data carpentry skills to acquire, stage, ingest, and persist various datasets.\n",
    "\n",
    "We will be accessing data linked at the US Government's Geospatial Platform: https://www.geoplatform.gov/\n",
    "\n",
    "\n",
    "All the datasets will be in different formats. Some you may have seen, some will be new.\n",
    "* [New Mexico Populated Places (GNIS), 2009](http://gstore.unm.edu/apps/rgis/datasets/c73b5e4d-fd64-4a2c-8a93-668e47d982d8/gnis_nm_poppl09.derived.csv)\n",
    "* [Bureau of Land Management Land Grant Boundaries](http://gstore.unm.edu/apps/rgis/datasets/3d23ac95-2b28-4c1f-b5cc-b656133a018f/land_grants.original.zip/)\n",
    "\n",
    "In the previous practice, you acquired these data sets.\n",
    "If, for some reason you removed or cleaned up your data, please re-acquire using the code you wrote in the [Geospatial Data Carpentry Notebook](./GeoCarpentry.ipynb)"
   ]
  },
  {
   "cell_type": "code",
   "execution_count": null,
   "metadata": {
    "collapsed": true
   },
   "outputs": [],
   "source": [
    "import pandas as pd\n",
    "\n",
    "df=pd.read_csv('../temp/gnis_nm_poppl09.csv')\n",
    "\n",
    "df.describe().transpose()"
   ]
  },
  {
   "cell_type": "markdown",
   "metadata": {},
   "source": [
    "We see from the table above that we have the following columns:\n",
    " * SOURCE_LAT\n",
    " * Object_ID\n",
    " * FEATURE_ID\n",
    " * STATE_NUME\n",
    " * COUNTY_NUM\n",
    " * PRIM_LAT_D\n",
    " * PRIM_LONG1\n",
    " * SOURCE_LON\n",
    " * SOURCE_L_1\n",
    " * SOURCE_L_2\n",
    " * ELEVATION\n",
    " * observed\n",
    "\n",
    "Read about this dataset [here](https://catalog.data.gov/dataset/new-mexico-populated-places-gnis-2009).\n",
    "\n",
    "From some inspection, and digging into [related links](https://geonames.usgs.gov/) we can understand that *FEATURE_ID*, *PRIM_LAT_D*, *PRIM_LONG1*, and *ELEVATION* would be useful to have a map of populated places (location and elevation)."
   ]
  },
  {
   "cell_type": "markdown",
   "metadata": {},
   "source": [
    "## Defining a PostGIS Table\n",
    "\n",
    "Please review the [DBASE information sheet](../../resources/DSA_Student_DBASE_HotTo.pdf) for details on connecting to `dsa_student` PostGIS database using the `psql` CLI.  \n",
    "Please review the [PostGIS information Sheet](../../resources/PostGIS_Info_Sheet.pdf) for details on creating a PostGIS table.\n",
    "\n",
    " * **NOTE:** Substitute your actual MU SSO for in the `SSO` below. \n",
    " \n",
    "```SQL\n",
    "CREATE TABLE SSO.new_mexico_populated_places (\n",
    "  feature_id INT,\n",
    "  elevation real,\n",
    "  CONSTRAINT pk_new_mexico_populated_places\n",
    "    PRIMARY KEY (feature_id)\n",
    ");\n",
    "SELECT AddGeometryColumn('SSO','new_mexico_populated_places','coords',4326,'POINT',2);\n",
    "CREATE INDEX idx_new_mexico_populated_places_point ON SSO.new_mexico_populated_places USING GIST (coords);\n",
    "```"
   ]
  },
  {
   "cell_type": "markdown",
   "metadata": {},
   "source": [
    "### Result Check:\n",
    "\n",
    "```SQL\n",
    "dsa_student=# \\d new_mexico_populated_places \n",
    "  Table \"scottgs.new_mexico_populated_places\"\n",
    "   Column   |         Type         | Modifiers \n",
    "------------+----------------------+-----------\n",
    " feature_id | integer              | not null\n",
    " elevation  | real                 | \n",
    " coords     | geometry(Point,4326) | \n",
    "Indexes:\n",
    "    \"pk_new_mexico_populated_places\" PRIMARY KEY, btree (feature_id)\n",
    "    \"idx_new_mexico_populated_places_point\" gist (coords)\n",
    "\n",
    "```\n",
    "\n",
    "## Task : Reduce the data frame to just the desired columns\n",
    "\n",
    "##### ('FEATURE_ID','ELEVATION','PRIM_LONG1','PRIM_LAT_D')"
   ]
  },
  {
   "cell_type": "code",
   "execution_count": null,
   "metadata": {
    "collapsed": true
   },
   "outputs": [],
   "source": [
    "## M2:P2:Cell01\n",
    "# Create a DF with limited original data\n",
    "# ---------- Add your code below this line\n",
    "\n",
    "\n",
    "\n",
    "\n",
    "# ----- Then check data types and ensure you have what you expect\n",
    "df.dtypes"
   ]
  },
  {
   "cell_type": "markdown",
   "metadata": {},
   "source": [
    "#### Load your password into Memory"
   ]
  },
  {
   "cell_type": "code",
   "execution_count": null,
   "metadata": {
    "collapsed": true
   },
   "outputs": [],
   "source": [
    "import getpass\n",
    "mypasswd = getpass.getpass()"
   ]
  },
  {
   "cell_type": "markdown",
   "metadata": {},
   "source": [
    "#### Get a connection Object to the PostGIS database"
   ]
  },
  {
   "cell_type": "code",
   "execution_count": null,
   "metadata": {
    "collapsed": true
   },
   "outputs": [],
   "source": [
    "import psycopg2\n",
    "import numpy\n",
    "from psycopg2.extensions import adapt, register_adapter, AsIs\n",
    "\n",
    "connection = psycopg2.connect(database = 'dsa_student', \n",
    "                              user = 'scottgs', \n",
    "                              host = 'dbase.dsa.missouri.edu',\n",
    "                              password = mypasswd)"
   ]
  },
  {
   "cell_type": "markdown",
   "metadata": {},
   "source": [
    "#### Unload your password from memory"
   ]
  },
  {
   "cell_type": "code",
   "execution_count": null,
   "metadata": {
    "collapsed": true
   },
   "outputs": [],
   "source": [
    "del mypasswd"
   ]
  },
  {
   "cell_type": "markdown",
   "metadata": {},
   "source": [
    "\n",
    "## Task: Load data into database table\n",
    "\n",
    "\n",
    "### Review the code below, looking at the structure\n",
    "\n",
    "### Then, review these API links:\n",
    "\n",
    " * http://initd.org/psycopg/docs/extensions.html#sql-adaptation-protocol-objects\n",
    " * PostGIS Documentation for creating points\n",
    "   * [GeomFromText](http://www.postgis.net/docs/ST_GeomFromText.html)\n",
    "   * [MakePoint](https://postgis.net/docs/ST_MakePoint.html)\n",
    "   * [PointFromText](https://postgis.net/docs/ST_PointFromText.html)\n",
    "   \n",
    "We are going to use *ST_MakePoint* as it is considered the fastest (most efficient).\n",
    "Along with that, we will need to use the function [*ST_SetSRID*](https://postgis.net/docs/ST_SetSRID.html) to ensure the data is in the `4326` spatial reference sytem.\n",
    "\n",
    "##### Below, we have provided the structure and some starter code.\n",
    "\n",
    " * Finally, [read about prepared statements](http://initd.org/psycopg/articles/2012/10/01/prepared-statements-psycopg/)\n"
   ]
  },
  {
   "cell_type": "code",
   "execution_count": null,
   "metadata": {
    "collapsed": true
   },
   "outputs": [],
   "source": [
    "## M2:P2:Cell02\n",
    "# Magic adapters for the Numpy Fun of Pandas\n",
    "register_adapter(numpy.int64,AsIs)\n",
    "register_adapter(numpy.float64,AsIs)\n",
    "\n",
    "INSERT_SQL = 'INSERT INTO scottgs.new_mexico_populated_places '\n",
    "INSERT_SQL += ' (feature_id, elevation, coords) values '\n",
    "INSERT_SQL += # Add the rest of the insert statement that includes ST_MakePoint\n",
    "\n",
    "\n",
    "# Note: The Commit Will Be Automatic after this with clause\n",
    "with connection, connection.cursor() as cursor:\n",
    "    for row in df.itertuples():  # pull each row as a tuple\n",
    "        \n",
    "        # This is an indexed Tuple\n",
    "        print(row) \n",
    "        \n",
    "        # TODO: This is needed to remove the index element\n",
    "        data = # Add your code\n",
    "        \n",
    "        print(data)\n",
    "\n",
    "        # TODO: Insert the row\n",
    "        cursor.execute(  <add_code>  )\n"
   ]
  },
  {
   "cell_type": "markdown",
   "metadata": {},
   "source": [
    "#### Check for Data:\n",
    "\n",
    "```SQL\n",
    "dsa_student=# select count(*) from scottgs.new_mexico_populated_places;\n",
    " count \n",
    "-------\n",
    "  1702\n",
    "(1 row)\n",
    "```\n",
    "\n",
    "#### Peak at it\n",
    "```SQL\n",
    "dsa_student=# select feature_id,elevation, ST_AsText(coords)\n",
    "dsa_student-# from scottgs.new_mexico_populated_places \n",
    "dsa_student-# limit 5;\n",
    " feature_id | elevation |          st_astext           \n",
    "------------+-----------+------------------------------\n",
    "    2413618 |      1701 | POINT(-106.537676 34.607173)\n",
    "    2375434 |      2123 | POINT(-106.329722 34.582778)\n",
    "    2375433 |      2107 | POINT(-106.34 34.611944)\n",
    "    2055903 |      1931 | POINT(-106.381135 35.082269)\n",
    "    2413664 |      1471 | POINT(-106.73403 34.649593)\n",
    "(5 rows)\n",
    "```"
   ]
  },
  {
   "cell_type": "markdown",
   "metadata": {},
   "source": [
    "# Your Turn: A second data set\n",
    "\n",
    "The second dataset we will work with is [http://gstore.unm.edu/apps/rgis/datasets/3d23ac95-2b28-4c1f-b5cc-b656133a018f/land_grants.original.zip](http://gstore.unm.edu/apps/rgis/datasets/3d23ac95-2b28-4c1f-b5cc-b656133a018f/land_grants.original.zip).\n",
    "\n",
    "### Task: Explore the layers in the file, then load the data into a GeoPanda data frame."
   ]
  },
  {
   "cell_type": "code",
   "execution_count": null,
   "metadata": {
    "collapsed": true
   },
   "outputs": [],
   "source": [
    "## M2:P2:Cell03\n",
    "import fiona\n",
    "GEODATA_FILE = '../temp/land_grants'\n",
    "\n"
   ]
  },
  {
   "cell_type": "code",
   "execution_count": null,
   "metadata": {
    "collapsed": true
   },
   "outputs": [],
   "source": [
    "## M2:P2:Cell04\n",
    "import geopandas as gpd\n",
    "\n",
    "geo_df = # Add code here"
   ]
  },
  {
   "cell_type": "code",
   "execution_count": null,
   "metadata": {
    "collapsed": true
   },
   "outputs": [],
   "source": [
    "geo_df.head()"
   ]
  },
  {
   "cell_type": "code",
   "execution_count": null,
   "metadata": {
    "collapsed": true
   },
   "outputs": [],
   "source": [
    "print(geo_df.crs)"
   ]
  },
  {
   "cell_type": "markdown",
   "metadata": {},
   "source": [
    "### NOTE: The EPSG (Coordinate Reference System) is 26913!\n",
    "\n",
    "We want to have it in 4326 so it is in the most common CRS and compatible with our PostGIS data.\n",
    "\n",
    "### Task: Use the GeoPandas built in functions for convert to CRS 4326"
   ]
  },
  {
   "cell_type": "code",
   "execution_count": null,
   "metadata": {
    "collapsed": true
   },
   "outputs": [],
   "source": [
    "## M2:P2:Cell05\n",
    "\n",
    "geo_df = # Your code here"
   ]
  },
  {
   "cell_type": "markdown",
   "metadata": {},
   "source": [
    "### Task: Define your table, geometry column, and indexing\n",
    "\n",
    "Write your SQL Statements below, then copy-and-paste into terminal database command line.\n",
    "\n",
    "Note that you should end up with a **coords** column that is a SRID=4326 POLYGON of 2-D (Lon,Lat)."
   ]
  },
  {
   "cell_type": "raw",
   "metadata": {},
   "source": [
    "## M2:P2:Cell06\n",
    "## ----- Add SQL Code Below -----------\n",
    "\n",
    "\n",
    "\n",
    "\n",
    "\n",
    "\n"
   ]
  },
  {
   "cell_type": "code",
   "execution_count": null,
   "metadata": {
    "collapsed": true
   },
   "outputs": [],
   "source": [
    "import getpass\n",
    "mypasswd = getpass.getpass()"
   ]
  },
  {
   "cell_type": "code",
   "execution_count": null,
   "metadata": {
    "collapsed": true
   },
   "outputs": [],
   "source": [
    "import psycopg2\n",
    "import numpy\n",
    "from psycopg2.extensions import adapt, register_adapter, AsIs\n",
    "\n",
    "connection = psycopg2.connect(database = 'dsa_student', \n",
    "                              user = 'scottgs', \n",
    "                              host = 'dbase.dsa.missouri.edu',\n",
    "                              password = mypasswd)\n",
    "del mypasswd"
   ]
  },
  {
   "cell_type": "markdown",
   "metadata": {},
   "source": [
    "---\n",
    "\n",
    "## Pause: \n",
    "\n",
    "Think about what a polygon is relative to a point.\n",
    "Imagine the programing \"*fun*\" of code-constructing Polygons for Insert statements\n",
    "\n",
    "Because it will be the opposite of fun, we will use the friendly *ST_GeomFromText* function.\n",
    "The challenge is how to build that WKT text that PostGIS wants?\n",
    "Since a GeoSeries is a series of Shapely geoemtries, we can look to that [API](http://shapely.readthedocs.io/en/stable/manual.html).\n",
    "Then, for an element of the tuple that is the Shapely Geometry, we can extract the WKT.\n",
    "\n",
    "### Task: Load the data including the Polygon.  \n",
    "#### The SQL provided is ready to use if your table columns match up.\n"
   ]
  },
  {
   "cell_type": "code",
   "execution_count": null,
   "metadata": {
    "collapsed": true
   },
   "outputs": [],
   "source": [
    "## M2:P2:Cell06\n",
    "# Magic adapters for the Numpy Fun of Pandas\n",
    "register_adapter(numpy.int64,AsIs)\n",
    "register_adapter(numpy.float64,AsIs)\n",
    "\n",
    "# Note, ID is left off because it is SERIAL type and auto-incremented\n",
    "INSERT_SQL = 'INSERT INTO scottgs.new_mexico_land_grants '\n",
    "# This next line may need an edit based on your table construction.\n",
    "INSERT_SQL += ' (area,grant_conf,grant_name,land_grant,land_gra_1,perimeter,survey_app,coords) '\n",
    "INSERT_SQL += ' values (%s,%s,%s,%s,%s,%s,%s,ST_GeomFromText(%s, 4326))'\n",
    "\n",
    "# Note: The Commit Will Be Automatic after this with clause\n",
    "with connection, connection.cursor() as cursor:\n",
    "    for row in geo_df.itertuples():  # pull each row as a tuple\n",
    "        \n",
    "        # This is an indexed Tuple\n",
    "        print(row) \n",
    "        \n",
    "        # This is needed to remove the index element\n",
    "        data = # Add your code here.\n",
    "        \n",
    "        print(data)\n",
    "        cursor.execute(INSERT_SQL,data)\n"
   ]
  },
  {
   "cell_type": "markdown",
   "metadata": {},
   "source": [
    "### Verify\n",
    "\n",
    "```SQL\n",
    "dsa_student=# select count(*) from scottgs.new_mexico_land_grants;\n",
    " count \n",
    "-------\n",
    "   222\n",
    "(1 row)\n",
    "```\n",
    "\n",
    "```DSA\n",
    "dsa_student=# select id,grant_name, grant_conf,st_area(coords) from scottgs.new_mexico_land_grants limit 5;\n",
    " id |      grant_name      | grant_conf |     st_area      \n",
    "----+----------------------+------------+------------------\n",
    "  1 | TIERRA AMARILLA      | 1860-06-21 | 2004791148.87488\n",
    "  2 | SANGRE DE CRISTO     | 1860-06-21 | 890653352.742407\n",
    "  3 | BEAUBIEN AND MIRANDA | 1860-06-21 | 5899487289.42897\n",
    "  4 | ANTOINE LEROUX       | 1869-03-03 | 63101507.3669469\n",
    "  5 | ARROYO HONDO         | 1900-12-18 |  74328127.180984\n",
    "(5 rows)\n",
    "```"
   ]
  },
  {
   "cell_type": "code",
   "execution_count": null,
   "metadata": {
    "collapsed": true
   },
   "outputs": [],
   "source": [
    "## M2:P2:Cell07\n",
    "\n",
    "check_sql= \"select id,grant_name, grant_conf, coords from scottgs.new_mexico_land_grants\"\n",
    "\n",
    "\n",
    "gdf= # Add code here\n",
    "gdf.head()"
   ]
  },
  {
   "cell_type": "code",
   "execution_count": null,
   "metadata": {
    "collapsed": true
   },
   "outputs": [],
   "source": [
    "import matplotlib.pyplot as plt\n",
    "%matplotlib inline\n",
    "\n",
    "\n",
    "gdf.plot(figsize=(15,15))"
   ]
  },
  {
   "cell_type": "markdown",
   "metadata": {},
   "source": [
    "## Write a little Spatial SQL\n",
    "\n",
    "Write an SQL Query to Count the number of populate places within each Land Grant polygon, showing the only the top 10!\n",
    "\n",
    "Write your SQL below and Copy-Paste into the CLI for the database.\n",
    "Also, please past your results in the cell as well."
   ]
  },
  {
   "cell_type": "raw",
   "metadata": {},
   "source": [
    "## M2:P2:Cell08\n",
    "## ----- Add SQL Code Below -----------\n",
    "\n",
    "\n",
    "\n",
    "\n",
    "\n",
    "\n"
   ]
  },
  {
   "cell_type": "markdown",
   "metadata": {},
   "source": [
    "#### Expected Output:\n",
    "\n",
    "```SQL\n",
    " id  |         grant_name          | count \n",
    "-----+-----------------------------+-------\n",
    " 216 | NON GRANT                   |  1176\n",
    "  29 | MORA                        |    47\n",
    "   3 | BEAUBIEN AND MIRANDA        |    44\n",
    "  66 | LAS VEGAS                   |    30\n",
    " 191 | TOME                        |    15\n",
    "   1 | TIERRA AMARILLA             |    14\n",
    " 138 | SAN MIGUEL DEL BADO TRACT 2 |    12\n",
    " 198 | SEVILLETA                   |    11\n",
    "  49 | SANTA CLARA PUEBLO          |    11\n",
    " 203 | PEDRO ARMENDARIZ NO. 33     |    10\n",
    "(10 rows)\n",
    "```"
   ]
  },
  {
   "cell_type": "markdown",
   "metadata": {},
   "source": [
    "# Save Your Notebook\n",
    "## Then Notebook Menu: File > Close and Halt"
   ]
  }
 ],
 "metadata": {
  "kernelspec": {
   "display_name": "Python 3",
   "language": "python",
   "name": "python3"
  },
  "language_info": {
   "codemirror_mode": {
    "name": "ipython",
    "version": 3
   },
   "file_extension": ".py",
   "mimetype": "text/x-python",
   "name": "python",
   "nbconvert_exporter": "python",
   "pygments_lexer": "ipython3",
   "version": "3.4.5"
  }
 },
 "nbformat": 4,
 "nbformat_minor": 2
}
