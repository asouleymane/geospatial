{
 "cells": [
  {
   "cell_type": "markdown",
   "metadata": {},
   "source": [
    "# Geospatial Data Carpentry\n",
    "\n",
    "For this practice, you will build on what you have learned and your previous data carpentry skills to acquire, stage, ingest, and render various datasets.\n",
    "\n",
    "We will be accessing data linked at the US Government's Geospatial Platform: https://www.geoplatform.gov/\n",
    "\n",
    "\n",
    "All the datasets will be in different formats. Some you may have seen, some will be new.\n",
    " * [New Mexico Populated Places (GNIS), 2009](http://gstore.unm.edu/apps/rgis/datasets/c73b5e4d-fd64-4a2c-8a93-668e47d982d8/gnis_nm_poppl09.derived.csv)\n",
    " * [Bureau of Land Management Land Grant Boundaries](http://gstore.unm.edu/apps/rgis/datasets/3d23ac95-2b28-4c1f-b5cc-b656133a018f/land_grants.original.zip/)\n",
    " * http://gstore.unm.edu/apps/rgis/datasets/b4ae8f53-8dff-46bb-9058-e5501cabdd1b/school_district_boundaries.derived.gml\n",
    " * http://gstore.unm.edu/apps/rgis/datasets/ab17adb4-0992-436b-8ae4-575d8405d188/gpsrdsddshp.derived.kml\n",
    "\n",
    "These datasets, while discoverable on geoplatform.gov are hosted at the University of New Mexico."
   ]
  },
  {
   "cell_type": "markdown",
   "metadata": {},
   "source": [
    "## A first Data Set\n",
    "\n",
    "The first dataset we will work with is [http://gstore.unm.edu/apps/rgis/datasets/c73b5e4d-fd64-4a2c-8a93-668e47d982d8/gnis_nm_poppl09.derived.csv](http://gstore.unm.edu/apps/rgis/datasets/c73b5e4d-fd64-4a2c-8a93-668e47d982d8/gnis_nm_poppl09.derived.csv).\n",
    "\n",
    "Read about this dataset [here](https://catalog.data.gov/dataset/new-mexico-populated-places-gnis-2009).\n",
    "\n",
    "### Acquire\n",
    "If you click the link in the bullet-list above, your browser will try to download a [ZIP file](https://en.wikipedia.org/wiki/Zip_%28file_format%29).\n",
    "We can do this in Python using CURL Library as well as a few other tools."
   ]
  },
  {
   "cell_type": "code",
   "execution_count": null,
   "metadata": {
    "collapsed": true
   },
   "outputs": [],
   "source": [
    "import urllib.request\n",
    "import shutil\n",
    "from pathlib import Path"
   ]
  },
  {
   "cell_type": "code",
   "execution_count": null,
   "metadata": {
    "collapsed": true
   },
   "outputs": [],
   "source": [
    "# Designate the URL for a file we want;\n",
    "file_URL = 'http://gstore.unm.edu/apps/rgis/datasets/c73b5e4d-fd64-4a2c-8a93-668e47d982d8/gnis_nm_poppl09.derived.csv'\n",
    "\n",
    "# Designate the local filename\n",
    "local_file_name = 'gnis_nm_populated_place.zip'\n",
    "\n",
    "# Designate the local file name with a path to a temp directory.\n",
    "     # Your Repo comes with this folder.  If not, use terminal and \n",
    "     # navigate to course folder > module2 and them : mkdir temp\n",
    "file_Path = Path('../temp/')  \n",
    "file_Path /= local_file_name\n",
    "\n",
    "\n",
    "# Download the file from `url` and save it locally under `file_name`:\n",
    "with urllib.request.urlopen(file_URL) as response,  file_Path.open(mode='w+b') as out_file:\n",
    "    shutil.copyfileobj(response, out_file)\n",
    "    \n"
   ]
  },
  {
   "cell_type": "markdown",
   "metadata": {},
   "source": [
    "The above cell will open the URL and pull the HTTP Response Data into the binary file specified in the `temp/` directory of `module2`.\n",
    "\n",
    "Using a Terminal:\n",
    " * Replace \"course_folder\" with the actual course folder name!\n",
    "```BASH\n",
    "cd course_folder/module2/temp\n",
    "ls -lt\n",
    "total 288\n",
    "-rw-r--r-- 1 scottgs dsa_user 294807 Jan 14 11:15 gnis_nm_populated_place.zip\n",
    "```\n",
    "\n",
    "### Stage \n",
    "Then we peek inside the file, notice the \"-l\" ... lower case el.\n",
    "```BASH\n",
    "unzip -l gnis_nm_populated_place.zip \n",
    "\n",
    "Archive:  gnis_nm_populated_place.zip\n",
    "  Length      Date    Time    Name\n",
    "---------  ---------- -----   ----\n",
    "   235767  01-05-2018 12:38   gnis_nm_poppl09.csv\n",
    "    58782  01-05-2018 12:38   gnis_nm_poppl09.csv.xml\n",
    "---------                     -------\n",
    "   294549                     2 files\n",
    "```\n",
    "  * Repeating without the -l will unpack the files! **Do that now**.\n",
    "\n",
    "We are very familiar with CSV files, so you can just load it up with Pandas.\n",
    "Please refer to the recipe in your [GeoPandas Information Sheet](../../resources/GeoPandasInfoSheet.pdf), as well as the [API documentation for the shapely package](http://shapely.readthedocs.io/en/stable/manual.html).\n",
    "\n",
    "### Ingest and Render\n",
    "\n",
    "#### TODO: \n",
    " 1. Load data with Pandas\n",
    " 2. Convert to GeoPanda data with geometry\n",
    " 3. Render points!\n"
   ]
  },
  {
   "cell_type": "code",
   "execution_count": null,
   "metadata": {
    "collapsed": true
   },
   "outputs": [],
   "source": [
    "## M2:P1:Cell01\n",
    "## ----- Add Ingestion Code Below -----------\n",
    "\n",
    "\n",
    "\n",
    "\n"
   ]
  },
  {
   "cell_type": "code",
   "execution_count": null,
   "metadata": {
    "collapsed": true
   },
   "outputs": [],
   "source": [
    "## M2:P1:Cell02\n",
    "## ----- Add more Ingestion Code Below -----------\n",
    "\n",
    "import geopandas as gpd\n",
    "from shapely.geometry import Point\n",
    "\n",
    "# Generate a List of shapely.geometry.Point\n",
    "#   from the (lon, lat) pair for each row\n",
    "geom_list = # Add a List Comprehension here\n",
    "\n",
    "\n",
    "\n",
    "\n",
    "\n"
   ]
  },
  {
   "cell_type": "code",
   "execution_count": null,
   "metadata": {
    "collapsed": true
   },
   "outputs": [],
   "source": [
    "## M2:P1:Cell03\n",
    "## ----- Add Render Code Below -----------\n",
    "\n",
    "\n",
    "\n",
    "\n"
   ]
  },
  {
   "cell_type": "markdown",
   "metadata": {},
   "source": [
    "## A Second Data Set\n",
    "\n",
    "The second dataset we will work with is [http://gstore.unm.edu/apps/rgis/datasets/3d23ac95-2b28-4c1f-b5cc-b656133a018f/land_grants.original.zip](http://gstore.unm.edu/apps/rgis/datasets/3d23ac95-2b28-4c1f-b5cc-b656133a018f/land_grants.original.zip).\n",
    "\n",
    "Read about this dataset [here](https://catalog.data.gov/dataset/bureau-of-land-management-land-grant-boundaries).\n",
    "\n",
    "### Acquire and Stage\n",
    "If you click the link in the bullet-list above, your browser will try to download a [ZIP file](https://en.wikipedia.org/wiki/Zip_%28file_format%29).\n",
    "\n",
    "Repeat the steps above.\n",
    "However, be cautious that ZIP file in this case contains the setof files that make of the Shapefile format.\n",
    "\n",
    "![images/land_grants_zip.png MISSING](../images/land_grants_zip.png)\n",
    "\n",
    "You should create a sub-folder in `temp/` named **`land_grants`** and unzip the files in there!"
   ]
  },
  {
   "cell_type": "code",
   "execution_count": null,
   "metadata": {
    "collapsed": true
   },
   "outputs": [],
   "source": [
    "## M2:P1:Cell04\n",
    "## ----- Add Acquisition Code Below -----------\n",
    "\n",
    "\n",
    "\n",
    "\n"
   ]
  },
  {
   "cell_type": "markdown",
   "metadata": {},
   "source": [
    "### Ingest and Render\n",
    "\n",
    "See your labs and related material!"
   ]
  },
  {
   "cell_type": "code",
   "execution_count": null,
   "metadata": {
    "collapsed": true,
    "scrolled": false
   },
   "outputs": [],
   "source": [
    "import fiona\n",
    "import json\n",
    "\n",
    "GEODATA_FILE = '../temp/land_grants'\n",
    "\n",
    "## M2:P1:Cell05\n",
    "## ----- Add Exploration (Fiona) Code Below -----------\n",
    "\n",
    "\n"
   ]
  },
  {
   "cell_type": "code",
   "execution_count": null,
   "metadata": {
    "collapsed": true
   },
   "outputs": [],
   "source": [
    "## M2:P1:Cell06\n",
    "## ----- Add Ingest Code Below -----------\n",
    "\n",
    "\n",
    "\n",
    "\n"
   ]
  },
  {
   "cell_type": "code",
   "execution_count": null,
   "metadata": {
    "collapsed": true
   },
   "outputs": [],
   "source": [
    "## M2:P1:Cell07\n",
    "## ----- Add Render Code Below -----------\n",
    "\n",
    "\n",
    "\n"
   ]
  },
  {
   "cell_type": "markdown",
   "metadata": {},
   "source": [
    "### The last two files will be part of an exercise.  \n",
    "\n",
    "#### <span style=\"background:yellow\">They will require some more advanced parsing, as they are both XML derivative file formats.</span>"
   ]
  },
  {
   "cell_type": "markdown",
   "metadata": {},
   "source": [
    "# Save Your Notebook\n",
    "## Then Notebook Menu: File > Close and Halt"
   ]
  }
 ],
 "metadata": {
  "kernelspec": {
   "display_name": "Python 3",
   "language": "python",
   "name": "python3"
  },
  "language_info": {
   "codemirror_mode": {
    "name": "ipython",
    "version": 3
   },
   "file_extension": ".py",
   "mimetype": "text/x-python",
   "name": "python",
   "nbconvert_exporter": "python",
   "pygments_lexer": "ipython3",
   "version": "3.4.5"
  }
 },
 "nbformat": 4,
 "nbformat_minor": 2
}
