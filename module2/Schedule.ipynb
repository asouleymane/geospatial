{
 "cells": [
  {
   "cell_type": "markdown",
   "metadata": {},
   "source": [
    "# Module 2: Geospatial Database Systems"
   ]
  },
  {
   "cell_type": "markdown",
   "metadata": {},
   "source": [
    "## Topics covered\n",
    "\n",
    "  * Shapefiles\n",
    "  * GeoDB\n",
    "  * PostGIS\n",
    "  * Processing raw data files\n"
   ]
  },
  {
   "cell_type": "markdown",
   "metadata": {},
   "source": [
    "## Readings\n",
    "  * [GeoPandas Documentation](http://geopandas.org) This is the documentation for the python library that is used to make working with geospatial data easier in python.\n",
    "  * [Fiona Documentation](http://toblerity.org/fiona/) This is the documentation for the python library that writes standard python IO using OGR.\n",
    "  * [Geospatial Big Data: Challenges and Opportunities](../resources/GeoBigData.pdf)\n",
    "  * [Five GIS Trends Changing the World according to Jack Dangermond, President of ESIR](http://geoawesomeness.com/five-gis-trends-changing-world-according-jack-dangermond-president-esri/)\n",
    "  * [A 10 Year Vision: Future Trends in Geospatial Information Management](https://irevolutions.org/2016/03/14/future-trends-in-geospatial/)"
   ]
  },
  {
   "cell_type": "markdown",
   "metadata": {},
   "source": [
    "## Discussions\n",
    "* [Module 2 Discussion Topic: Geospatial Trends](https://missouri.instructure.com/courses/11580/discussion_topics/228817)\n",
    "* [Mutual Aid via Slack Channel](https://datagoggles.slack.com/messages/G8SHDSAJ0/)"
   ]
  },
  {
   "cell_type": "markdown",
   "metadata": {},
   "source": [
    "## Labs\n",
    "\n",
    "The goal of the labs this module are to ...\n",
    "\n",
    "  * [ESRI Shapefiles](./labs/Shapefiles.ipynb)\n",
    "  * [GeoDB Files](./labs/GeoDB_Files.ipynb)\n",
    "  * [PostGIS Files](./labs/PostGIS.ipynb)\n",
    "  \n"
   ]
  },
  {
   "cell_type": "markdown",
   "metadata": {},
   "source": [
    "## Practices\n",
    "  * [Geospatial Data Carpentry](./practices/GeoCarpentry.ipynb)\n",
    "  * [Loading PostGIS](./practices/PostGIS_Loading.ipynb)\n"
   ]
  },
  {
   "cell_type": "markdown",
   "metadata": {},
   "source": [
    "## Exercises\n",
    "\n",
    "  * [Module 2 Exercise](./exercises/M2_Exercise.ipynb)\n"
   ]
  },
  {
   "cell_type": "markdown",
   "metadata": {},
   "source": [
    "## Submitting your work\n",
    "\n",
    "#### Steps:\n",
    "  1. Open Terminal in JupyterHub\n",
    "  1. Change into the course folder\n",
    "  1. Stage (Git Add) the module's practive and exercise work   \n",
    "  `git  add   module2/practices    module2/exercises`\n",
    "  1. Create your work snapshot (Git Commit)  \n",
    "  `git   commit   -m   \"Module 2 submission\"`\n",
    "  1. Upload the snapshot to the server (Git Push)  \n",
    "  `git   push`\n"
   ]
  },
  {
   "cell_type": "markdown",
   "metadata": {},
   "source": [
    "## Congratulations, you have completed the learning activities for this module!"
   ]
  }
 ],
 "metadata": {
  "kernelspec": {
   "display_name": "Python 3",
   "language": "python",
   "name": "python3"
  },
  "language_info": {
   "codemirror_mode": {
    "name": "ipython",
    "version": 3
   },
   "file_extension": ".py",
   "mimetype": "text/x-python",
   "name": "python",
   "nbconvert_exporter": "python",
   "pygments_lexer": "ipython3",
   "version": "3.4.5"
  }
 },
 "nbformat": 4,
 "nbformat_minor": 2
}
