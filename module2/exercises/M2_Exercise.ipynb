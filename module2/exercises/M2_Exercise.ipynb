{
 "cells": [
  {
   "cell_type": "markdown",
   "metadata": {},
   "source": [
    "# Geospatial Data Carpentry\n",
    "\n",
    "For this Exercise, you will build on what you have learned of geospatial data and your previous data carpentry skills to acquire, stage, ingest, and render various datasets.\n",
    "\n",
    "We will be accessing data linked at the US Government's Geospatial Platform: https://www.geoplatform.gov/\n",
    "\n",
    "\n",
    "All the datasets will be in different formats. Some you may have seen, some will be new.\n",
    " * [New Mexico Populated Places (GNIS), 2009](http://gstore.unm.edu/apps/rgis/datasets/c73b5e4d-fd64-4a2c-8a93-668e47d982d8/gnis_nm_poppl09.derived.csv)\n",
    " * [Bureau of Land Management Land Grant Boundaries](http://gstore.unm.edu/apps/rgis/datasets/3d23ac95-2b28-4c1f-b5cc-b656133a018f/land_grants.original.zip/)\n",
    " * http://gstore.unm.edu/apps/rgis/datasets/b4ae8f53-8dff-46bb-9058-e5501cabdd1b/school_district_boundaries.derived.gml\n",
    " * http://gstore.unm.edu/apps/rgis/datasets/ab17adb4-0992-436b-8ae4-575d8405d188/gpsrdsddshp.derived.kml\n",
    "\n",
    "These datasets, while discoverable on geoplatform.gov are hosted at the University of New Mexico.\n",
    "\n",
    "## Exercise Prerequisite\n",
    "In the module 2 practices, you ingested the first two data sources into PostGIS.\n",
    "This is necessary, as you will ingest additional files and then execute Geospatial queries against the ingested data."
   ]
  },
  {
   "cell_type": "markdown",
   "metadata": {},
   "source": [
    "# File 1: Geography Markup Format (GML) format\n",
    "\n",
    " * http://gstore.unm.edu/apps/rgis/datasets/b4ae8f53-8dff-46bb-9058-e5501cabdd1b/school_district_boundaries.derived.gml\n",
    "\n",
    "This file is a GML formatted file of school district boundaries.\n",
    "\n",
    "Read about the GML format here: https://en.wikipedia.org/wiki/Geography_Markup_Language\n",
    "\n",
    "\n",
    "Acquire and stage the GML into the `../temp/` folder as you did in the practices.\n"
   ]
  },
  {
   "cell_type": "code",
   "execution_count": null,
   "metadata": {
    "collapsed": true
   },
   "outputs": [],
   "source": [
    "import urllib.request\n",
    "import shutil\n",
    "from pathlib import Path"
   ]
  },
  {
   "cell_type": "code",
   "execution_count": null,
   "metadata": {
    "collapsed": true
   },
   "outputs": [],
   "source": [
    "## M2:E1:Cell01\n",
    "## ----- Add Acquisition Code Below -----------\n",
    "\n",
    "\n",
    "\n",
    "\n",
    "\n",
    "\n",
    "\n",
    "\n",
    "\n",
    "\n",
    "\n",
    "\n"
   ]
  },
  {
   "cell_type": "markdown",
   "metadata": {
    "collapsed": true
   },
   "source": [
    "You should then be able to peak at the first few lines of the file:\n",
    "\n",
    "```BASH\n",
    "$ head -n8 school_district_boundaries.gml\n",
    "<?xml version=\"1.0\" encoding=\"UTF-8\"?>\n",
    "    <gml:FeatureCollection \n",
    "        xmlns:gml=\"http://www.opengis.net/gml\" \n",
    "        xmlns:xsi=\"http://www.w3.org/2001/XMLSchema-instance\" \n",
    "        xmlns:xlink=\"http://www.w3.org/1999/xlink\"\n",
    "        xmlns:ogr=\"http://ogr.maptools.org/\">\n",
    "    <gml:description>NM School District Boundaries</gml:description>\n",
    "    <gml:featureMember><ogr:g_school_district_boundaries><ogr:geometryProperty><gml:Polygon srsName=\"EPSG:4326\"><gml:outerBoundaryIs><gml:LinearRing><gml:coordinates>-105.505039000052733,35.870676999750749 -105.354281999606613,35.870495999899177 ...\n",
    " -105.505039000052733,35.870676999750749</gml:coordinates></gml:LinearRing></gml:outerBoundaryIs></gml:Polygon></ogr:geometryProperty><ogr:id>18071698</ogr:id><ogr:COUNTY>San Miguel</ogr:COUNTY><ogr:CNTY_CODE>47</ogr:CNTY_CODE><ogr:DIST_CODE>69</ogr:DIST_CODE><ogr:NAMEPROPER>Las Vegas City</ogr:NAMEPROPER><ogr:Shape_Area>3283502950.87</ogr:Shape_Area><ogr:observed></ogr:observed></ogr:g_school_district_boundaries></gml:featureMember>\n",
    "```"
   ]
  },
  {
   "cell_type": "markdown",
   "metadata": {},
   "source": [
    "#### Confirm the file name looks correct and then attempt to examine the file with Fiona"
   ]
  },
  {
   "cell_type": "code",
   "execution_count": null,
   "metadata": {
    "collapsed": true
   },
   "outputs": [],
   "source": [
    "import fiona\n",
    "\n",
    "## ------ \n",
    "# Fill in the Filename as appropriate \n",
    "# based on acquisition above\n",
    "GEODATA_FILE = ## ?\n",
    "\n",
    "# Expect an error\n",
    "numLayers = len(fiona.listlayers(GEODATA_FILE))\n",
    "print(\"'{}' has {} layers\".format(file_Path,numLayers))"
   ]
  },
  {
   "cell_type": "markdown",
   "metadata": {},
   "source": [
    "## Fiona + GML = Error\n",
    "\n",
    "So, we have a file that looks like XML that we cannot use a simple library to load it into GeoPandas.\n",
    "You will need to recall your previous experience in classes and doing data carpentry.\n",
    "GML is a hierarchical [Document Object Model (DOM)](https://developer.mozilla.org/en-US/docs/Web/API/Document_Object_Model/Introduction) similar to [HTML](https://www.w3schools.com/html/), as it is a type of [XML](https://www.w3schools.com/xml/).\n",
    "\n",
    "## Processing GML\n",
    "\n",
    "Programmatically, we must do the following:\n",
    " 1. Parse file into a DOM\n",
    " 1. Find all `<gml:featureMember>`\n",
    " 1. Parse each **`featureMember`** into a record with:\n",
    "    * Polygon\n",
    "    * County\n",
    "    * County Code\n",
    "    * District Code\n",
    "    * Name Proper\n",
    "    * Shape Area\n",
    " 1. Add each record into the database\n",
    " \n",
    "Prerequisite: Create an appropriate PostGIS table to hold the data as noted by the properties above.\n",
    "\n"
   ]
  },
  {
   "cell_type": "markdown",
   "metadata": {},
   "source": [
    "### Task: Define your table, geometry column, and indexing\n",
    "\n",
    "Write your SQL Statements below, then copy-and-paste into terminal database command line.\n",
    "\n",
    "Note that you should end up with a **coords** column that is a SRID=4326 POLYGON of 2-D (Lon,Lat)."
   ]
  },
  {
   "cell_type": "raw",
   "metadata": {},
   "source": [
    "## M2:E1:Cell02\n",
    "## ----- Add SQL Code Below -----------\n",
    "\n",
    "\n",
    "\n",
    "\n",
    "\n",
    "\n",
    "\n",
    "\n",
    "\n",
    "\n",
    "\n"
   ]
  },
  {
   "cell_type": "markdown",
   "metadata": {},
   "source": [
    "### Task: Load the table with geospatial data!"
   ]
  },
  {
   "cell_type": "code",
   "execution_count": null,
   "metadata": {
    "collapsed": true
   },
   "outputs": [],
   "source": [
    "## M2:E1:Cell03\n",
    "## ----- Add Connection Setup Code Below -----------\n",
    "\n",
    "import getpass\n",
    "import psycopg2\n",
    "mypasswd = getpass.getpass()\n",
    "connection = psycopg2.connect(database = ### ?\n",
    "                              user = ### ? \n",
    "                              host = ### ?\n",
    "                              password = ### ?\n",
    "                             )\n",
    "del mypasswd"
   ]
  },
  {
   "cell_type": "code",
   "execution_count": null,
   "metadata": {
    "collapsed": true
   },
   "outputs": [],
   "source": [
    "## M2:E1:Cell04\n",
    "## ----- Add Code Below -----------\n",
    "\n",
    "\n",
    "\n",
    "\n",
    "\n",
    "\n",
    "\n",
    "\n",
    "\n",
    "\n",
    "\n",
    "\n",
    "\n",
    "\n"
   ]
  },
  {
   "cell_type": "markdown",
   "metadata": {
    "collapsed": true
   },
   "source": [
    "### Check the data exists!\n",
    "\n",
    " * Replace SSO with your SSO\n",
    " \n",
    "```SQL\n",
    "select count(*) \n",
    " from SSO.new_mexico_school_districts;\n",
    " count \n",
    "-------\n",
    "    89\n",
    "(1 row)\n",
    "\n",
    "\n",
    "```SQL\n",
    "select id,county,county_nbr,dist_code\n",
    "      ,name_proper,shape_area,st_area(coords) \n",
    " from SSO.new_mexico_school_districts \n",
    " limit 10;\n",
    " id |   county   | county_nbr | dist_code |  name_proper   | shape_area  |       st_area        \n",
    "----+------------+------------+-----------+----------------+-------------+----------------------\n",
    "  1 | San Miguel |         47 |        69 | Las Vegas City |  3.2835e+09 |    0.327119394040282\n",
    "  2 | Colfax     |          7 |         8 | Cimarron       | 3.72951e+09 |    0.376029998974695\n",
    "  3 | Union      |         59 |        84 | Clayton        |  6.8283e+09 |     0.68589709019756\n",
    "  4 | Taos       |         55 |        76 | Taos           | 1.64788e+09 |    0.165643766421673\n",
    "  5 | Mora       |         33 |        44 | Mora           | 1.92629e+09 |    0.192729991835299\n",
    "  6 | Sierra     |         51 |        73 | T or C         | 1.09801e+10 |     1.06067417213241\n",
    "  7 | Rio Arriba |         39 |        54 | Dulce          | 3.56663e+09 |    0.359921591946156\n",
    "  8 | Farmington |         45 |        64 | Aztec          | 1.12842e+09 | 8.73823529385122e-05\n",
    "  9 | Farmington |         45 |        65 | Farmington     | 2.03918e+09 |    0.205177989999736\n",
    " 10 | San Juan   |         45 |        67 | Central        | 7.30004e+09 |    0.732714906827257\n",
    "(10 rows)\n",
    "```"
   ]
  },
  {
   "cell_type": "markdown",
   "metadata": {},
   "source": [
    "### Task: Query the database to answer a couple questions:\n",
    "\n",
    "#### Q1: List the counties with more than 3 school districts, in descending order by number of school districts, then in alphabetic order within a group of the same number of school districts."
   ]
  },
  {
   "cell_type": "raw",
   "metadata": {
    "collapsed": true
   },
   "source": [
    "## M2:E1:Cell05\n",
    "## ----- Add SQL Code Below -----------\n",
    "\n",
    "\n",
    "\n",
    "\n",
    "\n",
    "\n",
    "\n",
    "\n",
    "\n",
    "\n",
    "\n"
   ]
  },
  {
   "cell_type": "markdown",
   "metadata": {},
   "source": [
    "#### Q2: List the top 5 school districts, in descending order by number of populated places."
   ]
  },
  {
   "cell_type": "raw",
   "metadata": {},
   "source": [
    "## M2:E1:Cell06\n",
    "## ----- Add SQL Code Below -----------\n",
    "\n",
    "\n",
    "\n",
    "\n",
    "\n",
    "\n",
    "\n"
   ]
  },
  {
   "cell_type": "markdown",
   "metadata": {
    "collapsed": true
   },
   "source": [
    "#### Q3 (Optional): List the top 3 counties based on total size of school districts, in descending order by size.  List the size in square kilometers!"
   ]
  },
  {
   "cell_type": "raw",
   "metadata": {
    "collapsed": true
   },
   "source": [
    "## M2:E1:EXTRA01\n",
    "## ----- Add SQL Code Below -----------\n",
    "\n",
    "\n",
    "\n",
    "\n",
    "\n"
   ]
  },
  {
   "cell_type": "markdown",
   "metadata": {
    "collapsed": true
   },
   "source": [
    "Expected Answer:\n",
    "\n",
    "```SQL\n",
    "  county  |      sqr_km      \n",
    "----------+------------------\n",
    " Catron   | 19532.8696952213\n",
    " Otero    |  16983.887376987\n",
    " McKinley |  14471.088162269\n",
    "(3 rows)\n",
    "```\n",
    "\n",
    "---"
   ]
  },
  {
   "cell_type": "markdown",
   "metadata": {
    "collapsed": true
   },
   "source": [
    "# File 2: Keyhole Markup Language (KML) format\n",
    "\n",
    " * http://gstore.unm.edu/apps/rgis/datasets/ab17adb4-0992-436b-8ae4-575d8405d188/gpsrdsddshp.derived.kml\n",
    " \n",
    "\n",
    "This file is a KML formatted file of GPS coordinates of roads in New Mexico.\n",
    "Read more [here](https://catalog.data.gov/dataset/gps-roads).\n",
    "\n",
    "KML is a file format used to display geographic data in an Earth browser such as Google Earth. \n",
    "KML uses a tag-based structure with nested elements and attributes and is based on the XML standard. \n",
    "All tags are case-sensitive and must appear exactly as they are listed in the KML Reference. \n",
    "\n",
    "Read about KML [here](https://developers.google.com/kml/documentation/kml_tut)\n",
    "\n",
    "Acquire and stage the KML into the `../temp/` folder as you did in the practices.\n",
    "\n",
    "## Processing \n",
    "\n",
    "Basically, KML is similar in nature to GML.  \n",
    "So, for the last file you will repeat the exercise above with a changes necessary to import KML instead of GML and into a new table.\n",
    "\n",
    "The elements we will process are **`Placemark`**s.\n",
    "These Placemarks have **`LineString`** geometries with a **`coordinates`** list.\n",
    "```\n",
    "<Placemark id=\"17948705\"><name>17948705</name>\n",
    "   <LineString><coordinates>-107.915138244628793,36.809299468994105 -107.915 ... </coordinates></LineString>\n",
    "   <ExtendedData><SchemaData schemaUrl=\"#attributes\">\n",
    "     <SimpleData name=\"NAME\">I 40</SimpleData>\n",
    "     <SimpleData name=\"TYPE\">State Highway</SimpleData>\n",
    "...\n",
    "</Placemark>\n",
    "```\n",
    "  * There are numerous additional fields, however we will limit our parsing and loading to the Name and Type.\n",
    "\n",
    "Programmatically, we must do the following:\n",
    " 1. Parse file into a DOM\n",
    " 1. Find all `<Placemark>`\n",
    " 1. Parse each **`Placemark`** into a record with:\n",
    "    * LineString\n",
    "    * Name\n",
    "    * Road Type\n",
    " 1. Add each record into the database\n",
    "\n",
    "\n",
    "### Task: Define your table, geometry column, and indexing\n",
    "\n",
    "Write your SQL Statements below, then copy-and-paste into the terminal database command line.\n",
    "\n",
    "Note that you should end up with a **coords** column that is a SRID=4326 LINESTRINF of 2-D (Lon,Lat)."
   ]
  },
  {
   "cell_type": "raw",
   "metadata": {
    "collapsed": true
   },
   "source": [
    "## M2:E1:Cell07\n",
    "## ----- Add SQL Code Below -----------\n",
    "\n",
    "\n",
    "\n",
    "\n",
    "\n",
    "\n",
    "\n",
    "\n",
    "\n",
    "\n",
    "\n"
   ]
  },
  {
   "cell_type": "markdown",
   "metadata": {
    "collapsed": true
   },
   "source": [
    "### Task: Load the table with geospatial data!\n",
    "\n",
    " * **NOTE:** You may need to rerun the DB Connection Cell Above"
   ]
  },
  {
   "cell_type": "code",
   "execution_count": null,
   "metadata": {
    "collapsed": true
   },
   "outputs": [],
   "source": [
    "## M2:E1:Cell08\n",
    "## ----- Add Code Below -----------\n",
    "\n",
    "GEODATA_FILE = '../temp/gpsrdsddshp.derived.kml'\n",
    "\n",
    "\n",
    "\n",
    "\n",
    "\n",
    "\n",
    "\n",
    "\n",
    "\n",
    "\n"
   ]
  },
  {
   "cell_type": "markdown",
   "metadata": {},
   "source": [
    "### Check the data exists!\n",
    "\n",
    " * Replace SSO with your SSO\n",
    " \n",
    "```SQL\n",
    "select count(*) \n",
    " from SSO.new_mexico_roads;\n",
    " count \n",
    "-------\n",
    " 11299\n",
    "(1 row)\n",
    "```"
   ]
  },
  {
   "cell_type": "markdown",
   "metadata": {},
   "source": [
    "### Task: Query the database to answer a couple questions:\n",
    "\n",
    "#### Q1: What is the total kilometers of each road type in New Mexico?"
   ]
  },
  {
   "cell_type": "raw",
   "metadata": {},
   "source": [
    "## M2:E1:Cell09\n",
    "## ----- Add SQL Code Below -----------\n",
    "\n",
    "\n",
    "\n",
    "\n",
    "\n",
    "\n",
    "\n",
    "\n"
   ]
  },
  {
   "cell_type": "markdown",
   "metadata": {},
   "source": [
    "#### Q2: Which school district has the most interstate roadway?"
   ]
  },
  {
   "cell_type": "raw",
   "metadata": {},
   "source": [
    "## M2:E1:Cell10\n",
    "## ----- Add SQL Code Below -----------\n",
    "\n",
    "\n",
    "\n",
    "\n",
    "\n",
    "\n",
    "\n",
    "\n",
    "\n",
    "\n"
   ]
  },
  {
   "cell_type": "markdown",
   "metadata": {
    "collapsed": true
   },
   "source": [
    "### Task: Use GeoPandas to pull the road data from PostGIS, plot it, and then write it out as an ESRI Shapefile\n",
    "\n",
    " 1. Write the query\n",
    " 1. Use GeoPandas to pull straight into the GeoDataFrame\n",
    " 1. Plot the roads\n",
    " 1. Save to `../temp/roads.shp` as ESRI Shapefile"
   ]
  },
  {
   "cell_type": "code",
   "execution_count": null,
   "metadata": {
    "collapsed": true
   },
   "outputs": [],
   "source": [
    "## M2:E1:Cell11\n",
    "## ----- Add Pull and Plot from PostGIS Code Below -----------\n",
    "\n",
    "\n",
    "\n",
    "\n",
    "\n",
    "\n",
    "\n",
    "\n"
   ]
  },
  {
   "cell_type": "code",
   "execution_count": null,
   "metadata": {
    "collapsed": true
   },
   "outputs": [],
   "source": [
    "## M2:E1:Cell12\n",
    "## ----- Add Save to Shapefile Code Below -----------\n",
    "\n",
    "\n",
    "\n",
    "\n"
   ]
  },
  {
   "cell_type": "markdown",
   "metadata": {},
   "source": [
    "# Save Your Notebook\n",
    "## Then Notebook Menu: File > Close and Halt\n",
    "\n",
    "### Additional Resources\n",
    " * https://geohackweek.github.io/vector/03-encodings-libraries/"
   ]
  }
 ],
 "metadata": {
  "kernelspec": {
   "display_name": "Python 3",
   "language": "python",
   "name": "python3"
  },
  "language_info": {
   "codemirror_mode": {
    "name": "ipython",
    "version": 3
   },
   "file_extension": ".py",
   "mimetype": "text/x-python",
   "name": "python",
   "nbconvert_exporter": "python",
   "pygments_lexer": "ipython3",
   "version": "3.4.5"
  }
 },
 "nbformat": 4,
 "nbformat_minor": 2
}
