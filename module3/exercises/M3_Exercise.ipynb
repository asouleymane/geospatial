{
 "cells": [
  {
   "cell_type": "markdown",
   "metadata": {},
   "source": [
    "# Vector Data Operations\n",
    "\n",
    "For this exercise, you will build on what you have learned to load data and then perform some basic calculations.\n",
    "\n",
    "The following data sets will be used: \n",
    "\n",
    " * United States Polys - http://www2.census.gov/geo/tiger/GENZ2016/shp/cb_2016_us_state_20m.zip More information can be found [here](https://www.census.gov/geo/maps-data/data/cbf/cbf_description.html)\n",
    " *  Hiking Trails Data - http://honolulu-cchnl.opendata.arcgis.com/datasets/f78c7f66f5c54872840044cf4310cd2d_0.zip More information can be found [here](http://honolulu-cchnl.opendata.arcgis.com/datasets/f78c7f66f5c54872840044cf4310cd2d_0)"
   ]
  },
  {
   "cell_type": "markdown",
   "metadata": {},
   "source": [
    "## Task: Data Set 1 - United States Polys\n",
    " * Download the ZIP file to your `module3/temp/` folder.\n",
    " * Create `module3/temp/States/` folder\n",
    " * Change into `States` folder and unzip the Country Borders data into the folder.\n",
    " * Load the data into a GeoDataFrame - call the frame 'states'\n",
    " * Inspect the data"
   ]
  },
  {
   "cell_type": "code",
   "execution_count": null,
   "metadata": {
    "collapsed": true
   },
   "outputs": [],
   "source": [
    "## M3:E1:Cell01\n",
    "# Add Your Code to Download the States File\n",
    "# -----------------------------------------\n",
    "\n"
   ]
  },
  {
   "cell_type": "code",
   "execution_count": null,
   "metadata": {},
   "outputs": [],
   "source": [
    "## M3:E1:Cell02\n",
    "# Add Your Code to load the data\n",
    "# ------------------------------\n",
    "\n"
   ]
  },
  {
   "cell_type": "code",
   "execution_count": null,
   "metadata": {},
   "outputs": [],
   "source": [
    "## M3:E1:Cell03\n",
    "# Add Your Code to inspect the data\n",
    "# ---------------------------------\n",
    "\n"
   ]
  },
  {
   "cell_type": "markdown",
   "metadata": {},
   "source": [
    "## Task: Data Set 2 - Hiking trails\n",
    " * Download the ZIP file to your `module3/temp/` folder.\n",
    " * Create `module3/temp/HiTrails/` folder\n",
    " * Change into `HiTrails` folder and unzip the Country Borders data into the folder.\n",
    " * Load the data into a GeoDataFrame - call the frame 'trails'\n",
    " * Inspect the data"
   ]
  },
  {
   "cell_type": "code",
   "execution_count": null,
   "metadata": {
    "collapsed": true
   },
   "outputs": [],
   "source": [
    "## M3:E2:Cell04\n",
    "# Add Your Code to Download the Hiking File\n",
    "# -----------------------------------------\n",
    "\n"
   ]
  },
  {
   "cell_type": "code",
   "execution_count": null,
   "metadata": {},
   "outputs": [],
   "source": [
    "## M3:E1:Cell05\n",
    "# Add Your Code to load the data\n",
    "# ------------------------------\n",
    "\n"
   ]
  },
  {
   "cell_type": "code",
   "execution_count": null,
   "metadata": {},
   "outputs": [],
   "source": [
    "## M3:E1:Cell06\n",
    "# Add Your Code to inspect the data\n",
    "# ---------------------------------\n",
    "\n"
   ]
  },
  {
   "cell_type": "markdown",
   "metadata": {},
   "source": [
    "#### Now that the data is loaded, lets do some calculations"
   ]
  },
  {
   "cell_type": "markdown",
   "metadata": {},
   "source": [
    "## Task: Calculate the area of Hawaii in squared kilometers"
   ]
  },
  {
   "cell_type": "code",
   "execution_count": null,
   "metadata": {},
   "outputs": [],
   "source": [
    "## M3:E1:Cell07\n",
    "# Add Your Code to calculate area \n",
    "# -------------------------------\n"
   ]
  },
  {
   "cell_type": "markdown",
   "metadata": {},
   "source": [
    "## Task: Calculate the distance from Honolulu to the center of each of the hiking path\n"
   ]
  },
  {
   "cell_type": "code",
   "execution_count": null,
   "metadata": {},
   "outputs": [],
   "source": [
    "Honolulu = Point(21.315603,-157.858093)\n",
    "\n",
    "## M3:E1:Cell11\n",
    "# Add Your Code to calculate the distance to each trail \n",
    "# -----------------------------------------------------\n",
    "\n"
   ]
  },
  {
   "cell_type": "markdown",
   "metadata": {},
   "source": [
    "## Task: What is the trail the farthest away from honolulu?"
   ]
  },
  {
   "cell_type": "code",
   "execution_count": null,
   "metadata": {
    "collapsed": true
   },
   "outputs": [],
   "source": [
    "## M3:E1:Cell12\n",
    "# Add Your Code to determine the trail farthest away \n",
    "# --------------------------------------------------\n",
    "\n"
   ]
  },
  {
   "cell_type": "markdown",
   "metadata": {},
   "source": [
    "## Task: What is the distance in squared kilometers to this trail?"
   ]
  },
  {
   "cell_type": "code",
   "execution_count": null,
   "metadata": {
    "collapsed": true
   },
   "outputs": [],
   "source": [
    "## M3:E1:Cell13\n",
    "# Add Your Code to determine the trail farthest away \n",
    "# --------------------------------------------------\n",
    "\n"
   ]
  },
  {
   "cell_type": "markdown",
   "metadata": {
    "collapsed": true
   },
   "source": [
    "## Bonus: Display the data on a map\n",
    "Display the following items on an easy to read map\n",
    "* The island of Oahu\n",
    "* Honolulu\n",
    "* Hiking trails\n",
    "* centroids of hiking trails"
   ]
  },
  {
   "cell_type": "code",
   "execution_count": null,
   "metadata": {
    "collapsed": true
   },
   "outputs": [],
   "source": [
    "## M3:E1:Cell14\n",
    "# Add Your Code to diplay the map\n",
    "# -------------------------------\n",
    "\n"
   ]
  }
 ],
 "metadata": {
  "kernelspec": {
   "display_name": "Python 3",
   "language": "python",
   "name": "python3"
  },
  "language_info": {
   "codemirror_mode": {
    "name": "ipython",
    "version": 3
   },
   "file_extension": ".py",
   "mimetype": "text/x-python",
   "name": "python",
   "nbconvert_exporter": "python",
   "pygments_lexer": "ipython3",
   "version": "3.4.5"
  }
 },
 "nbformat": 4,
 "nbformat_minor": 2
}
