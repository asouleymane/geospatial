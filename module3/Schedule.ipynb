{
 "cells": [
  {
   "cell_type": "markdown",
   "metadata": {},
   "source": [
    "# Module 3: Vector Data"
   ]
  },
  {
   "cell_type": "markdown",
   "metadata": {},
   "source": [
    "## Topics covered\n",
    "\n",
    "  * Data types\n",
    "  * Operations\n"
   ]
  },
  {
   "cell_type": "markdown",
   "metadata": {},
   "source": [
    "## Readings\n",
    "  * [Geographic Information Systems Basics (v. 1.0) Chapter 7 - Geospatial Analysis I: Vector Operations](https://2012books.lardbucket.org/books/geographic-information-system-basics/s11-geospatial-analysis-i-vector-o.html)\n",
    "  * [Methods for Evaluating Lyme Disease Risks Using Geographic Information Systems and Geospatial Analysis](../resources/jmedent33-0711.pdf) \n",
    "  * [The Importance of Where: How spatial analysis leads to insight](https://blogs.esri.com/esri/arcgis/2015/08/24/the-importance-of-where-how-spatial-analysis-leads-to-insight/)\n",
    "  * [Revealing the ‘Where’ of Business Intelligence using Location Analytics](https://www.esri.com/library/whitepapers/pdfs/business-intelligence-location-analytics.pdf)"
   ]
  },
  {
   "cell_type": "markdown",
   "metadata": {},
   "source": [
    "## Discussions\n",
    "* [Module 2 Discussion Topic: Geospatial Trends](https://missouri.instructure.com/courses/11580/discussion_topics/228817) carried over from last week\n",
    "* [Mutual Aid via Slack Channel](https://datagoggles.slack.com/messages/G8SHDSAJ0/)"
   ]
  },
  {
   "cell_type": "markdown",
   "metadata": {},
   "source": [
    "## Labs\n",
    "\n",
    "The goal of the labs this module are to introduce you to the different types of Vector  data and the operations that are used in the analysis of the data. \n",
    "\n",
    "  * [DataTypes](./labs/DataTypes.ipynb)\n",
    "  * [Operations](./labs/Operations.ipynb)\n"
   ]
  },
  {
   "cell_type": "markdown",
   "metadata": {},
   "source": [
    "## Practices\n",
    "\n",
    "  * [Exploring Vector Data](./practices/Practice_ExploringVectorData.ipynb)\n"
   ]
  },
  {
   "cell_type": "markdown",
   "metadata": {},
   "source": [
    "## Exercises\n",
    "\n",
    "  * [M3_Exercise](./exercises/M3_Exercise.ipynb)\n"
   ]
  },
  {
   "cell_type": "markdown",
   "metadata": {},
   "source": [
    "## Submitting your work\n",
    "\n",
    "#### Steps:\n",
    "  1. Open Terminal in JupyterHub\n",
    "  1. Change into the course folder\n",
    "  1. Stage (Git Add) the module's practice and exercise work   \n",
    "  `git  add   module3/practices    module3/exercises`\n",
    "  1. Create your work snapshot (Git Commit)  \n",
    "  `git   commit   -m   \"Module 3 submission\"`\n",
    "  1. Upload the snapshot to the server (Git Push)  \n",
    "  `git   push`\n"
   ]
  },
  {
   "cell_type": "markdown",
   "metadata": {},
   "source": [
    "## Congratulations, you have completed the learning activities for this module!"
   ]
  }
 ],
 "metadata": {
  "kernelspec": {
   "display_name": "Python 3",
   "language": "python",
   "name": "python3"
  },
  "language_info": {
   "codemirror_mode": {
    "name": "ipython",
    "version": 3
   },
   "file_extension": ".py",
   "mimetype": "text/x-python",
   "name": "python",
   "nbconvert_exporter": "python",
   "pygments_lexer": "ipython3",
   "version": "3.4.5"
  }
 },
 "nbformat": 4,
 "nbformat_minor": 2
}
