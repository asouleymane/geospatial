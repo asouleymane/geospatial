{
 "cells": [
  {
   "cell_type": "markdown",
   "metadata": {},
   "source": [
    "# Spatial Extensions to the Relational Databases\n",
    "\n",
    "Relational databases are specialized software designed to manage data of basic numeric and character types.\n",
    "As discussed previously, these databases can often be extended to support additional data types and data operations.\n",
    "An important extension is the integration of spatial data types;\n",
    "which adds geospatial geometry or feature data types as well as the necessary operations on said data. \n",
    "\n",
    "A spatial database is a database that has been extended and optimized to manage spatial objects defined in a geometric space. \n",
    "Spatial databases allow representing simple geometric objects such as points, lines and polygons. \n",
    "Advanced spatial databases handle more complex structures such as 3D objects, topological coverages, linear networks, and triangulated irregular network (TIN). \n"
   ]
  },
  {
   "cell_type": "markdown",
   "metadata": {},
   "source": [
    "There exist a number of proprietary and specialized geospatial database formats, such as Shape Files, GeoDB, etc.\n",
    "However, these are typically suited to desktop software packages and lack the scalability of a DBMS. \n",
    "Additionally, these computing environments often lack the ability to integrate large scale heterogenous data, which is a fundamental capability of relational databases.\n",
    "\n",
    "In modern information systems, location is becoming an increasingly important attribute of data.\n",
    "This is prevalent in a variety of segments, such as \n",
    "  * location-based services,\n",
    "  * Internet of Things,\n",
    "  * spatial-statistical analysis, \n",
    "  * etc.\n",
    "\n",
    "This lesson is introduction to geospatial extensions for relational databases.\n",
    "Various databases support geospatial extensions, which give us tecnologies including\n",
    "  * Oracle Spatial,\n",
    "  * PostGIS,\n",
    "  * SpatiaLite."
   ]
  },
  {
   "cell_type": "markdown",
   "metadata": {},
   "source": [
    "## Spatial Databases standards\n",
    "\n",
    "(from Wikipedia)\n",
    "\n",
    "The Open Geospatial Consortium developed the Simple Features specification (first released in 1997) and sets standards for adding spatial functionality to database systems.\n",
    "The SQL/MM Spatial ISO/EIC standard is a part the SQL/MM multimedia standard and extends the Simple Features standard with data types that support circular interpolations.\n"
   ]
  },
  {
   "cell_type": "markdown",
   "metadata": {},
   "source": [
    "### Features of spatial databases\n",
    "\n",
    "(from Wikipedia)\n",
    "\n",
    "Database systems use indexes to quickly look up values and the way that most databases index data is not optimal for spatial queries. \n",
    "Instead, spatial databases use a spatial index to speed up database operations.\n",
    "\n",
    "In addition to typical SQL queries such as SELECT statements, spatial databases can perform a wide variety of spatial operations. \n",
    "The following operations and many more are specified by the Open Geospatial Consortium standard:\n",
    "  * Spatial Measurements: Computes line length, polygon area, the distance between geometries, etc.\n",
    "  * Spatial Functions: Modify existing features to create new ones, for example by providing a buffer around them, intersecting features, etc.\n",
    "  * Spatial Predicates: Allows true/false queries about spatial relationships between geometries. Examples include \"do two polygons overlap\" or \"is there a residence located within a mile of the area we are planning to build the landfill?\"\n",
    "  * Geometry Constructors: Creates new geometries, usually by specifying the vertices (points or nodes) which define the shape.\n",
    "  * Observer Functions: Queries which return specific information about a feature such as the location of the center of a circle"
   ]
  },
  {
   "cell_type": "markdown",
   "metadata": {},
   "source": [
    "\n",
    "### Key Datatypes\n",
    "\n",
    "#### Point\n",
    "\n",
    "A `point` is a 2-D or 3-D postion in the spatial reference system.\n",
    "For example, the classical Latitude/Longitude system, a 2-D point is the (Longitude Latitude) corresponding to (X Y).\n",
    "A 3-D variant has elevation, typically relative to sea level, (X Y Z).\n",
    "\n",
    "Note: The order is always X, Y, Z.\n",
    "Colloquially, we refer to Lat-Long (i.e., latitude and lognitude) in Y (latitude), X (longitude) order.\n",
    "However, geometry constructors, functions, and rendering use (X,Y) order.\n",
    "\n",
    "![spatial_grid.png MISSING](./images/spatial_grid.png)\n",
    "\n",
    "#### Linestring\n",
    "\n",
    "A `linestring` is a ordered list of `Points` that form a path.\n",
    "Example `(PointA, PointB, PointC)`.\n",
    "\n",
    "#### Polygon\n",
    "\n",
    "A `polygon` is a set of closed linestrings (where the first point is the same as the last point).\n",
    "The first `linestring` is the _outer ring_ and the subsequent `linstring`s are the _inner rings_, aka **holes**.\n",
    "\n",
    "\n",
    "Example simple Polygon, no holes `((PointA, PointB, PointC, PointA))`\n",
    "\n",
    "\n",
    "Example Polygon, with holes `((PointA, PointB, PointC, PointA),(PointZ, PointY, PointX,PointZ))`\n",
    "\n",
    "\n",
    "\n",
    "\n"
   ]
  },
  {
   "cell_type": "markdown",
   "metadata": {},
   "source": [
    "## Spatial versus Geospatial\n",
    "\n",
    "Both spatial and geospatial databases have the same geometric datatypes.\n",
    "A key differnce is the spatial reference system.\n",
    "Spatial are in cartesion or polar coordinates.\n",
    "Geospatial systems are typically in a state plane or ellipsoidal (geodesic).\n",
    "\n",
    "\n",
    "![geographic-coordinate-system.jpg MISSING](./images/geographic-coordinate-system.jpg)\n",
    "\n",
    "The geodesic spatial references attempt to accurately account for the shape of the earth and the **projection** from the speroid into a 2-dimensional reference space.\n",
    "\n",
    "![sphere_to_cylinder.jpg MISSING](./images/sphere_to_cylinder.jpg)\n",
    "\n",
    "In geospatial terms, the X coordinate (longitude) is the East or West measurement and the Y coordinate (latitude) is the North South measurements.\n",
    "If a Z coordinate \n",
    "The most common spatial reference system used for Lat-Long is [4326](http://spatialreference.org/ref/epsg/wgs-84/).\n",
    "\n",
    "```SQL\n",
    "Expanded display is on.\n",
    "dsa_ro=# select * from spatial_ref_sys where srid = 4326;\n",
    "-[ RECORD 1 ]------------------------------------------------\n",
    "srid      | 4326\n",
    "auth_name | EPSG\n",
    "auth_srid | 4326\n",
    "srtext    | GEOGCS[\"WGS 84\"\n",
    "              ,DATUM[\"WGS_1984\"\n",
    "                      ,SPHEROID[\"WGS 84\"                      \n",
    "                          ,6378137,298.257223563\n",
    "                          ,AUTHORITY[\"EPSG\",\"7030\"]\n",
    "                          ]\n",
    "                      ,AUTHORITY[\"EPSG\",\"6326\"]\n",
    "               ]\n",
    "              ,PRIMEM[\"Greenwich\",0,AUTHORITY[\"EPSG\",\"8901\"]\n",
    "             ]\n",
    "            ,UNIT[\"degree\",0.0174532925199433\n",
    "                ,AUTHORITY[\"EPSG\",\"9122\"]\n",
    "             ]\n",
    "            ,AUTHORITY[\"EPSG\",\"4326\"]\n",
    "            ]\n",
    "proj4text | +proj=longlat +datum=WGS84 +no_defs \n",
    "```\n",
    "\n",
    "Something to be careful of when computing in this spatial reference system is that measurements (length, distance, area) are in degrees not Metric of Imperial units."
   ]
  },
  {
   "cell_type": "markdown",
   "metadata": {},
   "source": [
    "#### `Multi` variants\n",
    "\n",
    "Each of the above data types has a `MULTI` variant, such as `MULTIPOINT`.\n",
    "These are effectively geometry collections.\n"
   ]
  },
  {
   "cell_type": "markdown",
   "metadata": {},
   "source": [
    "### Well-Known Text and Well-Known Binary\n",
    "\n",
    "Two standards exist for rendering and storage of geometry objects.\n",
    "  * Well-known Text (WKT) is text markup language for representing vector geometry objects.\n",
    "  * Well-known Binary (WKB) representations are typically shown in hexadecimal strings.\n",
    "\n",
    "More information can be found here : https://en.wikipedia.org/wiki/Well-known_text\n",
    "\n",
    "#### Examples:\n",
    "  * `POINT (30 10)` $\\rightarrow$ a point at X = 30, Y = 10.\n",
    "  * `LINESTRING (30 10, 10 30, 40 40)` $\\rightarrow$ a two segment linestring starting at point (30 10) and ended at point (40 40)\n",
    "  * `POLYGON ((30 10, 40 40, 20 40, 10 20, 30 10))` $\\rightarrow$ a polygon is an outer ring formed by a closed linestring, starting and ending point (30 10) in this case.\n",
    "  * `POLYGON ((35 10, 45 45, 15 40, 10 20, 35 10),\n",
    "(20 30, 35 35, 30 20, 20 30))` a polygon defined as one outer ring and one or more inner rings. The inner rings are holes.\n",
    "  "
   ]
  },
  {
   "cell_type": "markdown",
   "metadata": {},
   "source": [
    "## Geospatial Data represents features on Earth\n",
    "\n",
    "![Geospatial_data.png MISSING](./images/Geospatial_data.png)"
   ]
  },
  {
   "cell_type": "markdown",
   "metadata": {},
   "source": [
    "These features could be point features, line / path features, or area / bounds features.\n",
    "\n",
    "In the next labs you will interact with a PostGIS database and begin to explore basic (geo)spatial operations."
   ]
  }
 ],
 "metadata": {
  "kernelspec": {
   "display_name": "Python 3",
   "language": "python",
   "name": "python3"
  },
  "language_info": {
   "codemirror_mode": {
    "name": "ipython",
    "version": 3
   },
   "file_extension": ".py",
   "mimetype": "text/x-python",
   "name": "python",
   "nbconvert_exporter": "python",
   "pygments_lexer": "ipython3",
   "version": "3.4.5"
  }
 },
 "nbformat": 4,
 "nbformat_minor": 1
}
