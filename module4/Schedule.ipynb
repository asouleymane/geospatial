{
 "cells": [
  {
   "cell_type": "markdown",
   "metadata": {},
   "source": [
    "# Module 4: Vectors Continued"
   ]
  },
  {
   "cell_type": "markdown",
   "metadata": {},
   "source": [
    "## Module Topics\n",
    "\n",
    "  * Manipulation of Vector data\n"
   ]
  },
  {
   "cell_type": "markdown",
   "metadata": {},
   "source": [
    "## Readings\n",
    "  * [Binary Predictions](http://toblerity.org/shapely/manual.html#binary-predicates)\n",
    "  * [Spatial Joins](http://workshops.boundlessgeo.com/postgis-intro/joins.html)\n",
    "  * [Indexing](http://revenant.ca/www/postgis/workshop/indexing.html)\n",
    "  \n"
   ]
  },
  {
   "cell_type": "markdown",
   "metadata": {},
   "source": [
    "## Labs\n",
    "\n",
    "The goal of the labs this module are to introduce the different ways you can manipulate spatial data. \n",
    "\n",
    "  * [Overlays](./labs/Overlays.ipynb)\n",
    "  * [Joins](./labs/joins.ipynb)\n"
   ]
  },
  {
   "cell_type": "markdown",
   "metadata": {},
   "source": [
    "## Practices\n",
    "\n",
    "  * [Manipulating Vector Data](./practices/manipulation.ipynb)\n"
   ]
  },
  {
   "cell_type": "markdown",
   "metadata": {},
   "source": [
    "## Discussions\n",
    "* [Module 4 Discussion Topic: Solving Problems with Vector Data](https://missouri.instructure.com/courses/11580/discussion_topics/228819)\n",
    "* [Mutual Aid via Slack Channel](https://datagoggles.slack.com/messages/G8SHDSAJ0/)"
   ]
  },
  {
   "cell_type": "markdown",
   "metadata": {},
   "source": [
    "## Exercises\n",
    "\n",
    "  * [M4_Exercise](./exercises/M4_Exercise.ipynb)"
   ]
  },
  {
   "cell_type": "markdown",
   "metadata": {},
   "source": [
    "## Submitting your work\n",
    "\n",
    "#### Steps:\n",
    "  1. Open Terminal in JupyterHub\n",
    "  1. Change into the course folder\n",
    "  1. Stage (Git Add) the module's practive and exercise work   \n",
    "  `git  add   module4/practices    module4/exercises`\n",
    "  1. Create your work snapshot (Git Commit)  \n",
    "  `git   commit   -m   \"Module 4 submission\"`\n",
    "  1. Upload the snapshot to the server (Git Push)  \n",
    "  `git   push`\n"
   ]
  },
  {
   "cell_type": "markdown",
   "metadata": {},
   "source": [
    "## Congratulations, you have completed the learning activities for this module!"
   ]
  }
 ],
 "metadata": {
  "kernelspec": {
   "display_name": "Python 3",
   "language": "python",
   "name": "python3"
  },
  "language_info": {
   "codemirror_mode": {
    "name": "ipython",
    "version": 3
   },
   "file_extension": ".py",
   "mimetype": "text/x-python",
   "name": "python",
   "nbconvert_exporter": "python",
   "pygments_lexer": "ipython3",
   "version": "3.4.5"
  }
 },
 "nbformat": 4,
 "nbformat_minor": 2
}
