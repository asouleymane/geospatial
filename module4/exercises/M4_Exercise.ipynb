{
 "cells": [
  {
   "cell_type": "markdown",
   "metadata": {},
   "source": [
    "# Geospatial Data Engineering Topics\n",
    "\n",
    "\n",
    "As we have reached the midway point of the course, I want everyone to take a step back and reflect on the concepts that have been covered. To encourage this, this weeks exercise will be a series of questions. Please answer each of the following questions."
   ]
  },
  {
   "cell_type": "markdown",
   "metadata": {},
   "source": [
    "1.) What is the difference between a Dataframe and a GeoDataFrame?"
   ]
  },
  {
   "cell_type": "raw",
   "metadata": {},
   "source": [
    "## M4:E1:Cell01\n",
    "# Answer Question 1 \n",
    "# -----------------\n",
    "The GeoDataFrame has the  added funtionality for various geodata geometries like polygon ..."
   ]
  },
  {
   "cell_type": "markdown",
   "metadata": {},
   "source": [
    "2.) What things should you keep in mind when deciding which projection to display a map?"
   ]
  },
  {
   "cell_type": "raw",
   "metadata": {},
   "source": [
    "## M4:E1:Cell02\n",
    "# Answer Question 2 \n",
    "# -----------------\n",
    "Map projections are different in their rendering of geospatial objects.Some do distort representations of the earth at the poles like whereas others conic map are more suitable for regional or hemispheric maps but not for world maps.Some projection distort area like the mercator projection."
   ]
  },
  {
   "cell_type": "markdown",
   "metadata": {},
   "source": [
    "3.) Why are there different map projections?"
   ]
  },
  {
   "cell_type": "raw",
   "metadata": {},
   "source": [
    "## M4:E1:Cell03\n",
    "# Answer Question 3\n",
    "# -----------------\n",
    "Each one of the different projections is suitable for different goals some maximizes area,some distort areas at the poles..."
   ]
  },
  {
   "cell_type": "markdown",
   "metadata": {},
   "source": [
    "4.) What is GDAL and why is it useful for geospatial analysis?"
   ]
  },
  {
   "cell_type": "raw",
   "metadata": {},
   "source": [
    "## M4:E1:Cell04\n",
    "# Answer Question 4\n",
    "# -----------------\n",
    "The Geospatial Data Abstraction Library (GDAL) is a computer software library for reading and writing raster and vector geospatial data formats, and is released under the permissive X/MIT style free software license by the Open Source Geospatial Foundation.-Wikipedia\n",
    "As a library using a single data abstract model it make collaboration easy across organizations."
   ]
  },
  {
   "cell_type": "markdown",
   "metadata": {},
   "source": [
    "5.) Describe the process of retrieving a zipped shapefile from a URL and loading it into a dataframe. I do not want code, I want the steps a script would take."
   ]
  },
  {
   "cell_type": "raw",
   "metadata": {},
   "source": [
    "## M4:E1:Cell05\n",
    "# Answer Question 5\n",
    "# -----------------\n",
    "you have to get the URL and save it in a variable ,create a local file name,designate a path where the file once downloaded from the URl should be saved locally assuming a folder is already created to save the file.\n",
    "Actually downloading the file from the URL and copying it as an outfile.Then zip the file and then unzip it to be able to extract all the files in it while making sure it is unzipped in a new folder whithin the same directory."
   ]
  },
  {
   "cell_type": "markdown",
   "metadata": {},
   "source": [
    "Consider the following code for the next X questions:\n",
    "\n",
    "```python\n",
    "INSERT_SQL = 'INSERT INTO jdoe.new_mexico_school_districts '\n",
    "INSERT_SQL += ' (county,county_nbr,dist_code,name_proper,shape_area,coords) '\n",
    "INSERT_SQL += ' VALUES '\n",
    "INSERT_SQL += ' (%s,%s,%s,%s,%s,ST_GeomFromText(%s,%s 4326))'\n",
    "\n",
    ".....\n",
    "\n",
    "data = ()\n",
    "cursor.execute(INSERT_SQL,data)\n",
    "```"
   ]
  },
  {
   "cell_type": "markdown",
   "metadata": {},
   "source": [
    "6.) Explain what the %s in the INSERT_SQL statement and what the concept is called."
   ]
  },
  {
   "cell_type": "raw",
   "metadata": {},
   "source": [
    "## M4:E1:Cell06\n",
    "# Answer Question 6\n",
    "# -----------------\n",
    "%s is a placeholder for the values that follow the command in the insert They s is for string data type."
   ]
  },
  {
   "cell_type": "markdown",
   "metadata": {},
   "source": [
    "7.) Based on the code block explain what would go in the parathesis () of the data = () line"
   ]
  },
  {
   "cell_type": "raw",
   "metadata": {},
   "source": [
    "## M4:E1:Cell07\n",
    "# Answer Question 7\n",
    "# -----------------\n",
    "data() will take the data that is to be ingested in a database using the cursor.execute() statement."
   ]
  },
  {
   "cell_type": "markdown",
   "metadata": {},
   "source": [
    "8.) Why would an analysis want to determine the bounding box of an element? How would you go about calculating this bounding box?"
   ]
  },
  {
   "cell_type": "raw",
   "metadata": {},
   "source": [
    "## M4:E1:Cell08\n",
    "# Answer Question 8\n",
    "# -----------------\n",
    "Bounding box can determine locate an area of interest across geographical entities such as states ,countries.\n",
    "Bounding boxes specify the extent or limits of their associated feature.\n",
    "Bounding Coordinates - the limits of coverage of a data set expressed by latitude and longitude values in the order western-most, eastern-most, northern-most, and southern-most.\n",
    "Adding the method .bounds to the geometry column of a dataset will calculate the bounds in term of minx,miny,maxx,maxy."
   ]
  },
  {
   "cell_type": "markdown",
   "metadata": {},
   "source": [
    "9.) When conduction joins the terms Right, Left, Inner are used, explain what these terms mean."
   ]
  },
  {
   "cell_type": "raw",
   "metadata": {},
   "source": [
    "## M4:E1:Cell09\n",
    "# Answer Question 9\n",
    "# -----------------\n",
    "The term right simply means that we are keeping the right dataframe intact and we are pulling what is only common from the dataframe on the left side in the function to form a new dataframe.\n",
    "In a left join we are keeping the left dataframe intact and we are pulling what is only common from the dataframe in the right side as defined in the function to form a new dataframe.\n",
    "In an inner join only common data from both dataframes as defined in the function will be kept to form a new dataframe.\n"
   ]
  },
  {
   "cell_type": "markdown",
   "metadata": {},
   "source": [
    "10.) What is the difference between attribute joins and spatial joins?"
   ]
  },
  {
   "cell_type": "raw",
   "metadata": {},
   "source": [
    "## M4:E1:Cell10\n",
    "# Answer Question 10\n",
    "# -----------------\n",
    "With a spatial join, you can complete any of the following find the closest feature to another feature;what's inside a feature,\n",
    "and what intersects a feature while an attribute join joins a table of data to a layer based on the value of a field that can be found in both tables."
   ]
  },
  {
   "cell_type": "markdown",
   "metadata": {},
   "source": [
    "11.) What has been the one thing you have struggled with the most on in this course, what is one thing you would have liked to see more of?"
   ]
  },
  {
   "cell_type": "raw",
   "metadata": {},
   "source": [
    "## M4:E1:Cell11\n",
    "# Answer Question 11\n",
    "# -----------------\n",
    "The one thing i have struggled with is coding stuff that i did not conprehend because it is not in labs or because i just did not understand the concept before trying to code.More explanation of the concepts and the codes but for an eight week course i do not think there is time."
   ]
  }
 ],
 "metadata": {
  "kernelspec": {
   "display_name": "Python 3",
   "language": "python",
   "name": "python3"
  },
  "language_info": {
   "codemirror_mode": {
    "name": "ipython",
    "version": 3
   },
   "file_extension": ".py",
   "mimetype": "text/x-python",
   "name": "python",
   "nbconvert_exporter": "python",
   "pygments_lexer": "ipython3",
   "version": "3.4.5"
  }
 },
 "nbformat": 4,
 "nbformat_minor": 2
}
