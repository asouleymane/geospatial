{
 "cells": [
  {
   "cell_type": "markdown",
   "metadata": {},
   "source": [
    "# Geospatial Data Engineering Topics\n",
    "\n",
    "\n",
    "As we have reached the midway point of the course, I want everyone to take a step back and reflect on the concepts that have been covered. To encourage this, this weeks exercise will be a series of questions. Please answer each of the following questions."
   ]
  },
  {
   "cell_type": "markdown",
   "metadata": {},
   "source": [
    "1.) What is the difference between a Dataframe and a GeoDataFrame?"
   ]
  },
  {
   "cell_type": "raw",
   "metadata": {},
   "source": [
    "## M4:E1:Cell01\n",
    "# Answer Question 1 \n",
    "# -----------------"
   ]
  },
  {
   "cell_type": "markdown",
   "metadata": {},
   "source": [
    "2.) What things should you keep in mind when deciding which projection to display a map?"
   ]
  },
  {
   "cell_type": "raw",
   "metadata": {},
   "source": [
    "## M4:E1:Cell02\n",
    "# Answer Question 2 \n",
    "# -----------------"
   ]
  },
  {
   "cell_type": "markdown",
   "metadata": {},
   "source": [
    "3.) Why are there different map projections?"
   ]
  },
  {
   "cell_type": "raw",
   "metadata": {},
   "source": [
    "## M4:E1:Cell03\n",
    "# Answer Question 3\n",
    "# -----------------"
   ]
  },
  {
   "cell_type": "markdown",
   "metadata": {},
   "source": [
    "4.) What is GDAL and why is it useful for geospatial analysis?"
   ]
  },
  {
   "cell_type": "raw",
   "metadata": {},
   "source": [
    "## M4:E1:Cell04\n",
    "# Answer Question 4\n",
    "# -----------------"
   ]
  },
  {
   "cell_type": "markdown",
   "metadata": {},
   "source": [
    "5.) Describe the process of retrieving a zipped shapefile from a URL and loading it into a dataframe. I do not want code, I want the steps a script would take."
   ]
  },
  {
   "cell_type": "raw",
   "metadata": {},
   "source": [
    "## M4:E1:Cell05\n",
    "# Answer Question 5\n",
    "# -----------------"
   ]
  },
  {
   "cell_type": "markdown",
   "metadata": {},
   "source": [
    "Consider the following code for the next X questions:\n",
    "\n",
    "```python\n",
    "INSERT_SQL = 'INSERT INTO jdoe.new_mexico_school_districts '\n",
    "INSERT_SQL += ' (county,county_nbr,dist_code,name_proper,shape_area,coords) '\n",
    "INSERT_SQL += ' VALUES '\n",
    "INSERT_SQL += ' (%s,%s,%s,%s,%s,ST_GeomFromText(%s,%s 4326))'\n",
    "\n",
    ".....\n",
    "\n",
    "data = ()\n",
    "cursor.execute(INSERT_SQL,data)\n",
    "```"
   ]
  },
  {
   "cell_type": "markdown",
   "metadata": {},
   "source": [
    "6.) Explain what the %s in the INSERT_SQL statement and what the concept is called."
   ]
  },
  {
   "cell_type": "raw",
   "metadata": {},
   "source": [
    "## M4:E1:Cell06\n",
    "# Answer Question 6\n",
    "# -----------------"
   ]
  },
  {
   "cell_type": "markdown",
   "metadata": {},
   "source": [
    "7.) Based on the code block explain what would go in the parathesis () of the data = () line"
   ]
  },
  {
   "cell_type": "raw",
   "metadata": {},
   "source": [
    "## M4:E1:Cell07\n",
    "# Answer Question 7\n",
    "# -----------------"
   ]
  },
  {
   "cell_type": "markdown",
   "metadata": {},
   "source": [
    "8.) Why would an analysis want to determine the bounding box of an element? How would you go about calculating this bounding box?"
   ]
  },
  {
   "cell_type": "raw",
   "metadata": {},
   "source": [
    "## M4:E1:Cell08\n",
    "# Answer Question 8\n",
    "# -----------------"
   ]
  },
  {
   "cell_type": "markdown",
   "metadata": {},
   "source": [
    "9.) When conduction joins the terms Right, Left, Inner are used, explain what these terms mean."
   ]
  },
  {
   "cell_type": "raw",
   "metadata": {},
   "source": [
    "## M4:E1:Cell09\n",
    "# Answer Question 9\n",
    "# -----------------"
   ]
  },
  {
   "cell_type": "markdown",
   "metadata": {},
   "source": [
    "10.) What is the difference between attribute joins and spatial joins?"
   ]
  },
  {
   "cell_type": "raw",
   "metadata": {},
   "source": [
    "## M4:E1:Cell10\n",
    "# Answer Question 10\n",
    "# -----------------"
   ]
  },
  {
   "cell_type": "markdown",
   "metadata": {},
   "source": [
    "11.) What has been the one thing you have struggled with the most on in this course, what is one thing you would have liked to see more of?"
   ]
  },
  {
   "cell_type": "raw",
   "metadata": {},
   "source": [
    "## M4:E1:Cell11\n",
    "# Answer Question 11\n",
    "# -----------------"
   ]
  }
 ],
 "metadata": {
  "kernelspec": {
   "display_name": "Python 3",
   "language": "python",
   "name": "python3"
  },
  "language_info": {
   "codemirror_mode": {
    "name": "ipython",
    "version": 3
   },
   "file_extension": ".py",
   "mimetype": "text/x-python",
   "name": "python",
   "nbconvert_exporter": "python",
   "pygments_lexer": "ipython3",
   "version": "3.4.5"
  }
 },
 "nbformat": 4,
 "nbformat_minor": 2
}
