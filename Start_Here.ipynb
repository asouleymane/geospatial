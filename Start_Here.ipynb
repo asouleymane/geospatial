{
 "cells": [
  {
   "cell_type": "markdown",
   "metadata": {},
   "source": [
    "# Geospatial Data Engineering\n",
    "\n",
    "This course provides an overview of theoretical and practical issues encountered when working with geospatial data for both the vector and raster data models. Data access, indexing, retrieval, and other technical concepts are investigated. Important data storage paradigms such as enterprise geospatial databases and desktop GIS systems are explored. Core issues in geospatial data storage, management, exploitation, and multi-data set entity resolution / correlation are examined."
   ]
  },
  {
   "cell_type": "markdown",
   "metadata": {},
   "source": [
    "## Course Module Schedule\n",
    "\n",
    "  1. [Introduction to Geospatial Data](./module1/Schedule.ipynb)\n",
    "  2. [Geospatial Database Systems](./module2/Schedule.ipynb)\n",
    "  3. [Vector Data](./module3/Schedule.ipynb)\n",
    "  4. [Vector Data Continued](./module4/Schedule.ipynb)\n",
    "  5. [Raster Data](./module5/Schedule.ipynb)\n",
    "  6. [Raster Data Continued](./module6/Schedule.ipynb)\n",
    "  7. [Visualization](./module7/Schedule.ipynb)\n",
    "  8. [Integration](./module8/Schedule.ipynb)\n",
    "  \n",
    "### Weekly Module Download\n",
    "\n",
    "Each Monday morning, the new module will become available.\n",
    "You will be using Git Pull to acquire the module's learning activities.  \n",
    "Clicking on the modules above before the content is pulled is expected to give you a **404 Error**\n",
    "\n",
    "#### Steps:\n",
    "  1. Open Terminal in JupyterHub\n",
    "  1. Change into the course folder\n",
    "  1. Execute command:  \n",
    "  `git pull   --no-edit   upstream   master`"
   ]
  },
  {
   "cell_type": "markdown",
   "metadata": {},
   "source": [
    "## Technologies\n",
    "\n",
    "  * Python Programming language\n",
    "  * Various Python Geospatial Libraries"
   ]
  },
  {
   "cell_type": "markdown",
   "metadata": {},
   "source": [
    "## Weekly Module Schedule\n",
    "This is the suggested weekly schedule for each module\n",
    "  * Monday - Wednesday: Readings, Videos, Labs and Practices\n",
    "  * Tuesday - Thursday: Discussion Board Activities\n",
    "  * Friday - Sunday: Weekly Exercise(s)\n",
    "  \n",
    "All material will be released at the beginning of each module to allow you to work through the week and manage your time as needed.\n",
    "\n",
    "Module exercises will be collected midnight central time at the end of the Tuesday after the exercise was assigned.\n",
    "\n",
    "Exercises should be submitted by way of Git : Add, Commit, Push. More details will be provided in the learning activities on JupyterHub."
   ]
  }
 ],
 "metadata": {
  "kernelspec": {
   "display_name": "Python 3",
   "language": "python",
   "name": "python3"
  },
  "language_info": {
   "codemirror_mode": {
    "name": "ipython",
    "version": 3
   },
   "file_extension": ".py",
   "mimetype": "text/x-python",
   "name": "python",
   "nbconvert_exporter": "python",
   "pygments_lexer": "ipython3",
   "version": "3.4.5"
  }
 },
 "nbformat": 4,
 "nbformat_minor": 2
}
